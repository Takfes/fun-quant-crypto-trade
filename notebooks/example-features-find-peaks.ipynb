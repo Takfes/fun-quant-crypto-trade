{
 "cells": [
  {
   "cell_type": "code",
   "execution_count": 19,
   "id": "222f9022",
   "metadata": {},
   "outputs": [],
   "source": [
    "import numpy as np\n",
    "import pandas as pd\n",
    "import plotly.graph_objects as go\n",
    "\n",
    "from pytrade.features.structure import FindPeaksTransformer, find_peaks_transformer_func\n",
    "from pytrade.loaders import fetch_crypto_ohlcv_data\n",
    "from pytrade.plotting import add_chart_to_figure, create_base_candlestick_chart"
   ]
  },
  {
   "cell_type": "code",
   "execution_count": 3,
   "id": "83f54db1",
   "metadata": {},
   "outputs": [],
   "source": [
    "# Fetch OHLCV data for BTC/USDT\n",
    "dfc = fetch_crypto_ohlcv_data(symbol=\"BTC/USDT\", timeframe=\"1d\", lookback_period=\"3m\")"
   ]
  },
  {
   "cell_type": "code",
   "execution_count": 4,
   "id": "fdde582f",
   "metadata": {},
   "outputs": [],
   "source": [
    "# Make a copy of the data\n",
    "df = dfc.copy()"
   ]
  },
  {
   "cell_type": "code",
   "execution_count": 25,
   "id": "c9825e5d",
   "metadata": {},
   "outputs": [],
   "source": [
    "# Define parameters for the find_peaks_transformer_func\n",
    "params = {\n",
    "    \"high_column\": \"high\",\n",
    "    \"low_column\": \"low\",\n",
    "    \"prominence\": None,\n",
    "    \"distance\": None,\n",
    "    \"width\": None,\n",
    "    \"threshold\": None,\n",
    "    \"wlen\": None,\n",
    "    \"rel_height\": None,\n",
    "    \"plateau_size\": None,\n",
    "}"
   ]
  },
  {
   "cell_type": "code",
   "execution_count": 26,
   "id": "ea7a650d",
   "metadata": {},
   "outputs": [],
   "source": [
    "# Apply the find_peaks_transformer_func directly\n",
    "dfx = find_peaks_transformer_func(df, **params)"
   ]
  },
  {
   "cell_type": "code",
   "execution_count": 27,
   "id": "7810cc51",
   "metadata": {},
   "outputs": [
    {
     "name": "stdout",
     "output_type": "stream",
     "text": [
      "timestamp\n",
      "2025-02-18    93388.09\n",
      "2025-02-21    94871.95\n",
      "2025-02-26    82256.01\n",
      "Name: low_local_dips, dtype: float64 timestamp\n",
      "2025-02-21    99475.00\n",
      "2025-03-02    95000.00\n",
      "2025-03-06    92810.64\n",
      "Name: high_local_peaks, dtype: float64\n"
     ]
    }
   ],
   "source": [
    "# Display the new columns added to the DataFrame\n",
    "print(dfx[\"low_local_dips\"].dropna().head(3), dfx[\"high_local_peaks\"].dropna().head(3))"
   ]
  },
  {
   "cell_type": "code",
   "execution_count": 28,
   "id": "f110e249",
   "metadata": {},
   "outputs": [],
   "source": [
    "# Use the FindPeaksTransformer wrapper\n",
    "ftr = FindPeaksTransformer(**params)\n",
    "dfxx = ftr.fit_transform(df)"
   ]
  },
  {
   "cell_type": "code",
   "execution_count": 29,
   "id": "52ad7cab",
   "metadata": {},
   "outputs": [
    {
     "data": {
      "text/plain": [
       "True"
      ]
     },
     "execution_count": 29,
     "metadata": {},
     "output_type": "execute_result"
    }
   ],
   "source": [
    "# Verify that the results from the function and the transformer are identical\n",
    "dfx.equals(dfxx)"
   ]
  },
  {
   "cell_type": "code",
   "execution_count": 30,
   "id": "77a6db18",
   "metadata": {},
   "outputs": [
    {
     "data": {
      "application/vnd.plotly.v1+json": {
       "config": {
        "plotlyServerURL": "https://plot.ly"
       },
       "data": [
        {
         "close": {
          "bdata": "4XoUrsfN90D2KFyPGtL3QLgehethd/dAAAAAAEBi90BxPQrXe1v3QLgehetFmPdAAAAAABAA+EDhehSuX3v3QI/C9ShwkvdAAAAAACCA90BI4XoUDlr2QGZmZmaGpvVACtejcKGR9EB7FK5HSa70QKRwPQrfl/RArkfheggD9UAAAAAA4AP3QClcj8LJDPVA4XoUrh9P9UCPwvUo4B72QNejcD2+9PVAAAAAABwx9UAzMzMz5wz1QLgehevltfNAKVyPwj0w80BxPQrXTz/0QLgehesBbvRArkfherzN80AzMzMz84D0QKRwPQonl/RArkfheugo9ECuR+F6oIL0QK5H4XqwMfRApHA9Ct8z9UDXo3A99o/0QD0K16OMh/RACtejcAl49EAAAAAAKAT1QPYoXI+iXPVAuB6F6w1W9UCF61G40jf1QI/C9SgATPVASOF6FIac9EA9CtejiC30QHE9CtdfHfRAj8L1KGAn9EAK16NwZcr0QD0K16NEJfRACtejcNFQ9EC4HoXrHXv0QHE9CtcfZfRAAAAAAOAl80BxPQrXs1PzQIXrUbgmovJAUrgehXMr9EDNzMzMdG/zQArXo3D9XfRAZmZmZs7R9EAAAAAAAHP0QHsUrkf5pvRAcT0K179r9EBI4XoU5oP0QPYoXI8+vfRApHA9Cquf9ECPwvUoUMX0QHE9Ctezy/RA4XoUrsNd9UBxPQrXL9D2QHsUrkex3/ZAUrgehcfx9kAUrkfh6hr3QAAAAABAGvdAzczMzFTj9kAUrkfhMjL3QOxRuB4NA/dAAAAAAMD99kD2KFyPno73QNejcD1yp/dAhetRuAZn90C4HoXrWQT3QBSuR+HaIPdAH4XrUSCk90AAAAAAaLD3QJqZmZnZNflAcT0K178j+UCuR+F6mJb5QAAAAABga/lA7FG4HnUY+UBSuB6Fe2r5QOxRuB49RflAAAAAAOAX+UA=",
          "dtype": "f8"
         },
         "high": {
          "bdata": "AAAAAKAg+ECPwvUoROv3QFK4HoWH2vdACtejcGmx90D2KFyPHp/3QHE9Ctc/qPdAKVyPwnUZ+EAAAAAAMEn4QAAAAABArfdAAAAAAKCY90AAAAAAQI/3QKRwPQrLl/ZAZmZmZmLU9UDD9ShcZ0L1QAAAAAAAyPRAAAAAAOAh9UAAAAAAgDH3QMP1KFwHDfdAH4XrUXi49UAAAAAAgDf2QNejcD2qqPZAH4XrUTBJ9kAAAAAAFDf1QAAAAABAHvVAw/UoXLeJ9EBmZmZmFmr0QJqZmZm9o/RAexSuRwWX9EDD9Shc29P0QK5H4XpErPRAPQrXo9DH9EB7FK5HTbH0QHE9Ctdbg/RAAAAAAIA99UCF61G42ln1QHsUrkclt/RAhetRuLKj9EDXo3A9Ggf1QBSuR+HWq/VASOF6FLqd9UAAAAAAMI31QNejcD3GbPVAhetRuLpd9UDhehSuC6n0QNejcD3qZPRAexSuR3F+9EDD9Shct+T0QAAAAABAm/VAH4XrUeCB9EAAAAAAAK/0QAAAAACgkvRASOF6FJp29EB7FK5HudXzQHE9Ctc/vvNAAAAAAEBo9EDD9ShcEzT0QAAAAADAlPRAAAAAABD59EAAAAAAQAX1QHE9Ctd/8vRAhetRuAYe9UAAAAAAwN/0QI/C9Sjg3fRAexSuR8HI9EBxPQrX3+r0QI/C9SiM1PRAcT0K1x+Z9UAAAAAAAOz2QM3MzMyAHvdAAAAAAFDz9kA9Ctej4GD3QAAAAADwPfdAAAAAAJBI90AAAAAA4Fj3QK5H4XpYTvdAMzMzM8c/90AfhetRAMn3QBSuR+F65vdAhetRuHqq90DhehSuB4P3QAAAAADwPfdAZmZmZoqp90AAAAAAQNz3QI/C9SgcbflAzczMzJR6+UDsUbgeiaH5QAAAAADAoPlAMzMzM7fV+UAAAAAABKH5QDMzMzNPevlAj8L1KKhb+UA=",
          "dtype": "f8"
         },
         "low": {
          "bdata": "7FG4Hs1/90B7FK5Hebz3QBSuR+HicvdAAAAAAFA+90AK16Nwwcz2QHE9CtdfM/dACtejcPGJ90AzMzMzfyn3QHE9CtenYfdApHA9Cr8/90CPwvUoVE32QHE9CtcvAvVAj8L1KAAV9EBxPQrXxzH0QB+F61EoG/NArkfhegx39ECamZmZqcP0QClcj8LRx/RAAAAAAMDl80CuR+F66BP1QAAAAADAcfVArkfherCr9EBSuB6FJ870QAAAAAAAiPNA9ihcjz7p8kAAAAAA4LPyQGZmZmb6rfNAZmZmZj6E80AK16NwLbvzQAAAAAAgavRAuB6F69ED9EAAAAAAgCH0QPYoXI/qzvNA9ihcjzIn9EDhehSuc2z0QAAAAAB0TvRAmpmZmZFq9EAAAAAAHHb0QArXo3Dx4PRAAAAAAGAS9UAAAAAAQPb0QAAAAACA8vRAAAAAABBo9EBcj8L1zO7zQAAAAADQ6fNAH4XrUejX80BxPQrXCyD0QAAAAAAAGfRAcT0K17PT80AAAAAAsO/zQDMzMzO/HPRAexSuRx3W8kAAAAAAwDDyQGZmZmb+nPJAAAAAAMA38kApXI/CBSjzQHsUrkeZR/NAMzMzM4829EDhehSuo0X0QAAAAADgbfRAAAAAAABp9EDXo3A9ekr0QI/C9SiEcfRAw/UoXP+U9EAzMzMzx5j0QB+F61HYfvRAj8L1KIzJ9ECuR+F6QEL1QPYoXI/2cfZAj8L1KMBg9kDD9Shcf6v2QKRwPQrr6vZAexSuRyna9kCPwvUoAKj2QD0K16Po4vZAAAAAAOCu9kAUrkfhJvv2QAAAAADghfdAj8L1KJBg90BI4XoUdvz2QJqZmZmh1PZAAAAAABDM9kApXI/CiWL3QD0K16PEpvdA16NwPbL6+ECPwvUoLBr5QFyPwvUQO/lAuB6F6+WW+EAzMzMzW8P4QM3MzMygDPlA7FG4HnHA+EA=",
          "dtype": "f8"
         },
         "name": "Candlesticks",
         "open": {
          "bdata": "SOF6FAKW90BSuB6Fx833QIXrUbga0vdAuB6F62F390CPwvUoQGL3QHE9Ctd7W/dAuB6F60WY90CPwvUoEAD4QHE9Ctdfe/dAj8L1KHCS90AAAAAAIID3QEjhehQOWvZA16NwPYam9UAK16NwoZH0QOxRuB5JrvRAMzMzM9+X9EA9CtejCAP1QHE9CtffA/dA9ihcj9IM9UDhehSuH0/1QAAAAADgHvZASOF6FL709UBxPQrXGzH1QMP1KFznDPVA4XoUrue180ApXI/CPTDzQHE9CtdPP/RAuB6F6wFu9ECuR+F6vM3zQKRwPQrzgPRApHA9CieX9EAfhetR6Cj0QB+F61GggvRArkfherAx9EAUrkfh3jP1QEjhehT2j/RAPQrXo4yH9EAK16NwCXj0QAAAAAAoBPVA9ihcj6Jc9UBI4XoUDlb1QIXrUbjSN/VAj8L1KABM9UBI4XoUhpz0QK5H4XqILfRAAAAAAGAd9EAAAAAAYCf0QJqZmZllyvRArkfhekQl9EAK16Nw0VD0QLgehesde/RAcT0K1x9l9EAAAAAA4CXzQHE9CtezU/NAhetRuCai8kBSuB6Fcyv0QM3MzMx0b/NAexSuR/1d9ED2KFyPztH0QAAAAAAAc/RAexSuR/mm9EBxPQrXv2v0QEjhehTmg/RAhetRuD699EAzMzMzq5/0QAAAAABQxfRAcT0K17PL9EBSuB6Fw131QHE9Ctcv0PZA7FG4HrHf9kBSuB6Fx/H2QBSuR+HqGvdAAAAAAEAa90A9CtejVOP2QBSuR+EyMvdA7FG4Hg0D90AAAAAAwP32QGZmZmaejvdASOF6FHKn90CF61G4Bmf3QClcj8JZBPdAFK5H4dog90AfhetRIKT3QAAAAABosPdAKVyPwtk1+UBxPQrXvyP5QK5H4XqYlvlAAAAAAGBr+UDsUbgedRj5QFK4HoV7avlAexSuRz1F+UA=",
          "dtype": "f8"
         },
         "type": "candlestick",
         "x": [
          "2025-02-14T00:00:00.000000000",
          "2025-02-15T00:00:00.000000000",
          "2025-02-16T00:00:00.000000000",
          "2025-02-17T00:00:00.000000000",
          "2025-02-18T00:00:00.000000000",
          "2025-02-19T00:00:00.000000000",
          "2025-02-20T00:00:00.000000000",
          "2025-02-21T00:00:00.000000000",
          "2025-02-22T00:00:00.000000000",
          "2025-02-23T00:00:00.000000000",
          "2025-02-24T00:00:00.000000000",
          "2025-02-25T00:00:00.000000000",
          "2025-02-26T00:00:00.000000000",
          "2025-02-27T00:00:00.000000000",
          "2025-02-28T00:00:00.000000000",
          "2025-03-01T00:00:00.000000000",
          "2025-03-02T00:00:00.000000000",
          "2025-03-03T00:00:00.000000000",
          "2025-03-04T00:00:00.000000000",
          "2025-03-05T00:00:00.000000000",
          "2025-03-06T00:00:00.000000000",
          "2025-03-07T00:00:00.000000000",
          "2025-03-08T00:00:00.000000000",
          "2025-03-09T00:00:00.000000000",
          "2025-03-10T00:00:00.000000000",
          "2025-03-11T00:00:00.000000000",
          "2025-03-12T00:00:00.000000000",
          "2025-03-13T00:00:00.000000000",
          "2025-03-14T00:00:00.000000000",
          "2025-03-15T00:00:00.000000000",
          "2025-03-16T00:00:00.000000000",
          "2025-03-17T00:00:00.000000000",
          "2025-03-18T00:00:00.000000000",
          "2025-03-19T00:00:00.000000000",
          "2025-03-20T00:00:00.000000000",
          "2025-03-21T00:00:00.000000000",
          "2025-03-22T00:00:00.000000000",
          "2025-03-23T00:00:00.000000000",
          "2025-03-24T00:00:00.000000000",
          "2025-03-25T00:00:00.000000000",
          "2025-03-26T00:00:00.000000000",
          "2025-03-27T00:00:00.000000000",
          "2025-03-28T00:00:00.000000000",
          "2025-03-29T00:00:00.000000000",
          "2025-03-30T00:00:00.000000000",
          "2025-03-31T00:00:00.000000000",
          "2025-04-01T00:00:00.000000000",
          "2025-04-02T00:00:00.000000000",
          "2025-04-03T00:00:00.000000000",
          "2025-04-04T00:00:00.000000000",
          "2025-04-05T00:00:00.000000000",
          "2025-04-06T00:00:00.000000000",
          "2025-04-07T00:00:00.000000000",
          "2025-04-08T00:00:00.000000000",
          "2025-04-09T00:00:00.000000000",
          "2025-04-10T00:00:00.000000000",
          "2025-04-11T00:00:00.000000000",
          "2025-04-12T00:00:00.000000000",
          "2025-04-13T00:00:00.000000000",
          "2025-04-14T00:00:00.000000000",
          "2025-04-15T00:00:00.000000000",
          "2025-04-16T00:00:00.000000000",
          "2025-04-17T00:00:00.000000000",
          "2025-04-18T00:00:00.000000000",
          "2025-04-19T00:00:00.000000000",
          "2025-04-20T00:00:00.000000000",
          "2025-04-21T00:00:00.000000000",
          "2025-04-22T00:00:00.000000000",
          "2025-04-23T00:00:00.000000000",
          "2025-04-24T00:00:00.000000000",
          "2025-04-25T00:00:00.000000000",
          "2025-04-26T00:00:00.000000000",
          "2025-04-27T00:00:00.000000000",
          "2025-04-28T00:00:00.000000000",
          "2025-04-29T00:00:00.000000000",
          "2025-04-30T00:00:00.000000000",
          "2025-05-01T00:00:00.000000000",
          "2025-05-02T00:00:00.000000000",
          "2025-05-03T00:00:00.000000000",
          "2025-05-04T00:00:00.000000000",
          "2025-05-05T00:00:00.000000000",
          "2025-05-06T00:00:00.000000000",
          "2025-05-07T00:00:00.000000000",
          "2025-05-08T00:00:00.000000000",
          "2025-05-09T00:00:00.000000000",
          "2025-05-10T00:00:00.000000000",
          "2025-05-11T00:00:00.000000000",
          "2025-05-12T00:00:00.000000000",
          "2025-05-13T00:00:00.000000000",
          "2025-05-14T00:00:00.000000000",
          "2025-05-15T00:00:00.000000000"
         ]
        },
        {
         "marker": {
          "color": "green",
          "size": 10
         },
         "mode": "markers",
         "name": "Local Peaks",
         "type": "scatter",
         "x": [
          "2025-02-14T00:00:00.000000000",
          "2025-02-15T00:00:00.000000000",
          "2025-02-16T00:00:00.000000000",
          "2025-02-17T00:00:00.000000000",
          "2025-02-18T00:00:00.000000000",
          "2025-02-19T00:00:00.000000000",
          "2025-02-20T00:00:00.000000000",
          "2025-02-21T00:00:00.000000000",
          "2025-02-22T00:00:00.000000000",
          "2025-02-23T00:00:00.000000000",
          "2025-02-24T00:00:00.000000000",
          "2025-02-25T00:00:00.000000000",
          "2025-02-26T00:00:00.000000000",
          "2025-02-27T00:00:00.000000000",
          "2025-02-28T00:00:00.000000000",
          "2025-03-01T00:00:00.000000000",
          "2025-03-02T00:00:00.000000000",
          "2025-03-03T00:00:00.000000000",
          "2025-03-04T00:00:00.000000000",
          "2025-03-05T00:00:00.000000000",
          "2025-03-06T00:00:00.000000000",
          "2025-03-07T00:00:00.000000000",
          "2025-03-08T00:00:00.000000000",
          "2025-03-09T00:00:00.000000000",
          "2025-03-10T00:00:00.000000000",
          "2025-03-11T00:00:00.000000000",
          "2025-03-12T00:00:00.000000000",
          "2025-03-13T00:00:00.000000000",
          "2025-03-14T00:00:00.000000000",
          "2025-03-15T00:00:00.000000000",
          "2025-03-16T00:00:00.000000000",
          "2025-03-17T00:00:00.000000000",
          "2025-03-18T00:00:00.000000000",
          "2025-03-19T00:00:00.000000000",
          "2025-03-20T00:00:00.000000000",
          "2025-03-21T00:00:00.000000000",
          "2025-03-22T00:00:00.000000000",
          "2025-03-23T00:00:00.000000000",
          "2025-03-24T00:00:00.000000000",
          "2025-03-25T00:00:00.000000000",
          "2025-03-26T00:00:00.000000000",
          "2025-03-27T00:00:00.000000000",
          "2025-03-28T00:00:00.000000000",
          "2025-03-29T00:00:00.000000000",
          "2025-03-30T00:00:00.000000000",
          "2025-03-31T00:00:00.000000000",
          "2025-04-01T00:00:00.000000000",
          "2025-04-02T00:00:00.000000000",
          "2025-04-03T00:00:00.000000000",
          "2025-04-04T00:00:00.000000000",
          "2025-04-05T00:00:00.000000000",
          "2025-04-06T00:00:00.000000000",
          "2025-04-07T00:00:00.000000000",
          "2025-04-08T00:00:00.000000000",
          "2025-04-09T00:00:00.000000000",
          "2025-04-10T00:00:00.000000000",
          "2025-04-11T00:00:00.000000000",
          "2025-04-12T00:00:00.000000000",
          "2025-04-13T00:00:00.000000000",
          "2025-04-14T00:00:00.000000000",
          "2025-04-15T00:00:00.000000000",
          "2025-04-16T00:00:00.000000000",
          "2025-04-17T00:00:00.000000000",
          "2025-04-18T00:00:00.000000000",
          "2025-04-19T00:00:00.000000000",
          "2025-04-20T00:00:00.000000000",
          "2025-04-21T00:00:00.000000000",
          "2025-04-22T00:00:00.000000000",
          "2025-04-23T00:00:00.000000000",
          "2025-04-24T00:00:00.000000000",
          "2025-04-25T00:00:00.000000000",
          "2025-04-26T00:00:00.000000000",
          "2025-04-27T00:00:00.000000000",
          "2025-04-28T00:00:00.000000000",
          "2025-04-29T00:00:00.000000000",
          "2025-04-30T00:00:00.000000000",
          "2025-05-01T00:00:00.000000000",
          "2025-05-02T00:00:00.000000000",
          "2025-05-03T00:00:00.000000000",
          "2025-05-04T00:00:00.000000000",
          "2025-05-05T00:00:00.000000000",
          "2025-05-06T00:00:00.000000000",
          "2025-05-07T00:00:00.000000000",
          "2025-05-08T00:00:00.000000000",
          "2025-05-09T00:00:00.000000000",
          "2025-05-10T00:00:00.000000000",
          "2025-05-11T00:00:00.000000000",
          "2025-05-12T00:00:00.000000000",
          "2025-05-13T00:00:00.000000000",
          "2025-05-14T00:00:00.000000000",
          "2025-05-15T00:00:00.000000000"
         ],
         "y": {
          "bdata": "AAAAAAAA+H8AAAAAAAD4fwAAAAAAAPh/AAAAAAAA+H8AAAAAAAD4fwAAAAAAAPh/AAAAAAAA+H8AAAAAMEn4QAAAAAAAAPh/AAAAAAAA+H8AAAAAAAD4fwAAAAAAAPh/AAAAAAAA+H8AAAAAAAD4fwAAAAAAAPh/AAAAAAAA+H8AAAAAgDH3QAAAAAAAAPh/AAAAAAAA+H8AAAAAAAD4f9ejcD2qqPZAAAAAAAAA+H8AAAAAAAD4fwAAAAAAAPh/AAAAAAAA+H8AAAAAAAD4f5qZmZm9o/RAAAAAAAAA+H/D9Shc29P0QAAAAAAAAPh/PQrXo9DH9EAAAAAAAAD4fwAAAAAAAPh/AAAAAAAA+H+F61G42ln1QAAAAAAAAPh/AAAAAAAA+H8AAAAAAAD4fxSuR+HWq/VAAAAAAAAA+H8AAAAAAAD4fwAAAAAAAPh/AAAAAAAA+H8AAAAAAAD4fwAAAAAAAPh/AAAAAAAA+H8AAAAAAAD4fwAAAABAm/VAAAAAAAAA+H8AAAAAAK/0QAAAAAAAAPh/AAAAAAAA+H8AAAAAAAD4fwAAAAAAAPh/AAAAAEBo9EAAAAAAAAD4fwAAAAAAAPh/AAAAAAAA+H8AAAAAQAX1QAAAAAAAAPh/hetRuAYe9UAAAAAAAAD4fwAAAAAAAPh/AAAAAAAA+H9xPQrX3+r0QAAAAAAAAPh/AAAAAAAA+H8AAAAAAAD4f83MzMyAHvdAAAAAAAAA+H89Ctej4GD3QAAAAAAAAPh/AAAAAAAA+H8AAAAA4Fj3QAAAAAAAAPh/AAAAAAAA+H8AAAAAAAD4fxSuR+F65vdAAAAAAAAA+H8AAAAAAAD4fwAAAAAAAPh/AAAAAAAA+H8AAAAAAAD4fwAAAAAAAPh/AAAAAAAA+H/sUbgeiaH5QAAAAAAAAPh/MzMzM7fV+UAAAAAAAAD4fwAAAAAAAPh/AAAAAAAA+H8=",
          "dtype": "f8"
         }
        },
        {
         "marker": {
          "color": "red",
          "size": 10
         },
         "mode": "markers",
         "name": "Local Dips",
         "type": "scatter",
         "x": [
          "2025-02-14T00:00:00.000000000",
          "2025-02-15T00:00:00.000000000",
          "2025-02-16T00:00:00.000000000",
          "2025-02-17T00:00:00.000000000",
          "2025-02-18T00:00:00.000000000",
          "2025-02-19T00:00:00.000000000",
          "2025-02-20T00:00:00.000000000",
          "2025-02-21T00:00:00.000000000",
          "2025-02-22T00:00:00.000000000",
          "2025-02-23T00:00:00.000000000",
          "2025-02-24T00:00:00.000000000",
          "2025-02-25T00:00:00.000000000",
          "2025-02-26T00:00:00.000000000",
          "2025-02-27T00:00:00.000000000",
          "2025-02-28T00:00:00.000000000",
          "2025-03-01T00:00:00.000000000",
          "2025-03-02T00:00:00.000000000",
          "2025-03-03T00:00:00.000000000",
          "2025-03-04T00:00:00.000000000",
          "2025-03-05T00:00:00.000000000",
          "2025-03-06T00:00:00.000000000",
          "2025-03-07T00:00:00.000000000",
          "2025-03-08T00:00:00.000000000",
          "2025-03-09T00:00:00.000000000",
          "2025-03-10T00:00:00.000000000",
          "2025-03-11T00:00:00.000000000",
          "2025-03-12T00:00:00.000000000",
          "2025-03-13T00:00:00.000000000",
          "2025-03-14T00:00:00.000000000",
          "2025-03-15T00:00:00.000000000",
          "2025-03-16T00:00:00.000000000",
          "2025-03-17T00:00:00.000000000",
          "2025-03-18T00:00:00.000000000",
          "2025-03-19T00:00:00.000000000",
          "2025-03-20T00:00:00.000000000",
          "2025-03-21T00:00:00.000000000",
          "2025-03-22T00:00:00.000000000",
          "2025-03-23T00:00:00.000000000",
          "2025-03-24T00:00:00.000000000",
          "2025-03-25T00:00:00.000000000",
          "2025-03-26T00:00:00.000000000",
          "2025-03-27T00:00:00.000000000",
          "2025-03-28T00:00:00.000000000",
          "2025-03-29T00:00:00.000000000",
          "2025-03-30T00:00:00.000000000",
          "2025-03-31T00:00:00.000000000",
          "2025-04-01T00:00:00.000000000",
          "2025-04-02T00:00:00.000000000",
          "2025-04-03T00:00:00.000000000",
          "2025-04-04T00:00:00.000000000",
          "2025-04-05T00:00:00.000000000",
          "2025-04-06T00:00:00.000000000",
          "2025-04-07T00:00:00.000000000",
          "2025-04-08T00:00:00.000000000",
          "2025-04-09T00:00:00.000000000",
          "2025-04-10T00:00:00.000000000",
          "2025-04-11T00:00:00.000000000",
          "2025-04-12T00:00:00.000000000",
          "2025-04-13T00:00:00.000000000",
          "2025-04-14T00:00:00.000000000",
          "2025-04-15T00:00:00.000000000",
          "2025-04-16T00:00:00.000000000",
          "2025-04-17T00:00:00.000000000",
          "2025-04-18T00:00:00.000000000",
          "2025-04-19T00:00:00.000000000",
          "2025-04-20T00:00:00.000000000",
          "2025-04-21T00:00:00.000000000",
          "2025-04-22T00:00:00.000000000",
          "2025-04-23T00:00:00.000000000",
          "2025-04-24T00:00:00.000000000",
          "2025-04-25T00:00:00.000000000",
          "2025-04-26T00:00:00.000000000",
          "2025-04-27T00:00:00.000000000",
          "2025-04-28T00:00:00.000000000",
          "2025-04-29T00:00:00.000000000",
          "2025-04-30T00:00:00.000000000",
          "2025-05-01T00:00:00.000000000",
          "2025-05-02T00:00:00.000000000",
          "2025-05-03T00:00:00.000000000",
          "2025-05-04T00:00:00.000000000",
          "2025-05-05T00:00:00.000000000",
          "2025-05-06T00:00:00.000000000",
          "2025-05-07T00:00:00.000000000",
          "2025-05-08T00:00:00.000000000",
          "2025-05-09T00:00:00.000000000",
          "2025-05-10T00:00:00.000000000",
          "2025-05-11T00:00:00.000000000",
          "2025-05-12T00:00:00.000000000",
          "2025-05-13T00:00:00.000000000",
          "2025-05-14T00:00:00.000000000",
          "2025-05-15T00:00:00.000000000"
         ],
         "y": {
          "bdata": "AAAAAAAA+H8AAAAAAAD4fwAAAAAAAPh/AAAAAAAA+H8K16Nwwcz2QAAAAAAAAPh/AAAAAAAA+H8zMzMzfyn3QAAAAAAAAPh/AAAAAAAA+H8AAAAAAAD4fwAAAAAAAPh/j8L1KAAV9EAAAAAAAAD4fx+F61EoG/NAAAAAAAAA+H8AAAAAAAD4fwAAAAAAAPh/AAAAAMDl80AAAAAAAAD4fwAAAAAAAPh/rkfherCr9EAAAAAAAAD4fwAAAAAAAPh/AAAAAAAA+H8AAAAA4LPyQAAAAAAAAPh/ZmZmZj6E80AAAAAAAAD4fwAAAAAAAPh/uB6F69ED9EAAAAAAAAD4f/YoXI/qzvNAAAAAAAAA+H8AAAAAAAD4fwAAAAB0TvRAAAAAAAAA+H8AAAAAAAD4fwAAAAAAAPh/AAAAAAAA+H8AAAAAAAD4fwAAAAAAAPh/AAAAAAAA+H8AAAAAAAD4fwAAAAAAAPh/H4XrUejX80AAAAAAAAD4fwAAAAAAAPh/cT0K17PT80AAAAAAAAD4fwAAAAAAAPh/AAAAAAAA+H8AAAAAwDDyQAAAAAAAAPh/AAAAAMA38kAAAAAAAAD4fwAAAAAAAPh/AAAAAAAA+H8AAAAAAAD4fwAAAAAAAPh/AAAAAAAA+H/Xo3A9ekr0QAAAAAAAAPh/AAAAAAAA+H8AAAAAAAD4fx+F61HYfvRAAAAAAAAA+H8AAAAAAAD4fwAAAAAAAPh/j8L1KMBg9kAAAAAAAAD4fwAAAAAAAPh/AAAAAAAA+H+PwvUoAKj2QAAAAAAAAPh/AAAAAOCu9kAAAAAAAAD4fwAAAAAAAPh/AAAAAAAA+H8AAAAAAAD4fwAAAAAAAPh/AAAAABDM9kAAAAAAAAD4fwAAAAAAAPh/AAAAAAAA+H8AAAAAAAD4fwAAAAAAAPh/uB6F6+WW+EAAAAAAAAD4fwAAAAAAAPh/AAAAAAAA+H8=",
          "dtype": "f8"
         }
        }
       ],
       "layout": {
        "template": {
         "data": {
          "bar": [
           {
            "error_x": {
             "color": "#2a3f5f"
            },
            "error_y": {
             "color": "#2a3f5f"
            },
            "marker": {
             "line": {
              "color": "#E5ECF6",
              "width": 0.5
             },
             "pattern": {
              "fillmode": "overlay",
              "size": 10,
              "solidity": 0.2
             }
            },
            "type": "bar"
           }
          ],
          "barpolar": [
           {
            "marker": {
             "line": {
              "color": "#E5ECF6",
              "width": 0.5
             },
             "pattern": {
              "fillmode": "overlay",
              "size": 10,
              "solidity": 0.2
             }
            },
            "type": "barpolar"
           }
          ],
          "carpet": [
           {
            "aaxis": {
             "endlinecolor": "#2a3f5f",
             "gridcolor": "white",
             "linecolor": "white",
             "minorgridcolor": "white",
             "startlinecolor": "#2a3f5f"
            },
            "baxis": {
             "endlinecolor": "#2a3f5f",
             "gridcolor": "white",
             "linecolor": "white",
             "minorgridcolor": "white",
             "startlinecolor": "#2a3f5f"
            },
            "type": "carpet"
           }
          ],
          "choropleth": [
           {
            "colorbar": {
             "outlinewidth": 0,
             "ticks": ""
            },
            "type": "choropleth"
           }
          ],
          "contour": [
           {
            "colorbar": {
             "outlinewidth": 0,
             "ticks": ""
            },
            "colorscale": [
             [
              0,
              "#0d0887"
             ],
             [
              0.1111111111111111,
              "#46039f"
             ],
             [
              0.2222222222222222,
              "#7201a8"
             ],
             [
              0.3333333333333333,
              "#9c179e"
             ],
             [
              0.4444444444444444,
              "#bd3786"
             ],
             [
              0.5555555555555556,
              "#d8576b"
             ],
             [
              0.6666666666666666,
              "#ed7953"
             ],
             [
              0.7777777777777778,
              "#fb9f3a"
             ],
             [
              0.8888888888888888,
              "#fdca26"
             ],
             [
              1,
              "#f0f921"
             ]
            ],
            "type": "contour"
           }
          ],
          "contourcarpet": [
           {
            "colorbar": {
             "outlinewidth": 0,
             "ticks": ""
            },
            "type": "contourcarpet"
           }
          ],
          "heatmap": [
           {
            "colorbar": {
             "outlinewidth": 0,
             "ticks": ""
            },
            "colorscale": [
             [
              0,
              "#0d0887"
             ],
             [
              0.1111111111111111,
              "#46039f"
             ],
             [
              0.2222222222222222,
              "#7201a8"
             ],
             [
              0.3333333333333333,
              "#9c179e"
             ],
             [
              0.4444444444444444,
              "#bd3786"
             ],
             [
              0.5555555555555556,
              "#d8576b"
             ],
             [
              0.6666666666666666,
              "#ed7953"
             ],
             [
              0.7777777777777778,
              "#fb9f3a"
             ],
             [
              0.8888888888888888,
              "#fdca26"
             ],
             [
              1,
              "#f0f921"
             ]
            ],
            "type": "heatmap"
           }
          ],
          "histogram": [
           {
            "marker": {
             "pattern": {
              "fillmode": "overlay",
              "size": 10,
              "solidity": 0.2
             }
            },
            "type": "histogram"
           }
          ],
          "histogram2d": [
           {
            "colorbar": {
             "outlinewidth": 0,
             "ticks": ""
            },
            "colorscale": [
             [
              0,
              "#0d0887"
             ],
             [
              0.1111111111111111,
              "#46039f"
             ],
             [
              0.2222222222222222,
              "#7201a8"
             ],
             [
              0.3333333333333333,
              "#9c179e"
             ],
             [
              0.4444444444444444,
              "#bd3786"
             ],
             [
              0.5555555555555556,
              "#d8576b"
             ],
             [
              0.6666666666666666,
              "#ed7953"
             ],
             [
              0.7777777777777778,
              "#fb9f3a"
             ],
             [
              0.8888888888888888,
              "#fdca26"
             ],
             [
              1,
              "#f0f921"
             ]
            ],
            "type": "histogram2d"
           }
          ],
          "histogram2dcontour": [
           {
            "colorbar": {
             "outlinewidth": 0,
             "ticks": ""
            },
            "colorscale": [
             [
              0,
              "#0d0887"
             ],
             [
              0.1111111111111111,
              "#46039f"
             ],
             [
              0.2222222222222222,
              "#7201a8"
             ],
             [
              0.3333333333333333,
              "#9c179e"
             ],
             [
              0.4444444444444444,
              "#bd3786"
             ],
             [
              0.5555555555555556,
              "#d8576b"
             ],
             [
              0.6666666666666666,
              "#ed7953"
             ],
             [
              0.7777777777777778,
              "#fb9f3a"
             ],
             [
              0.8888888888888888,
              "#fdca26"
             ],
             [
              1,
              "#f0f921"
             ]
            ],
            "type": "histogram2dcontour"
           }
          ],
          "mesh3d": [
           {
            "colorbar": {
             "outlinewidth": 0,
             "ticks": ""
            },
            "type": "mesh3d"
           }
          ],
          "parcoords": [
           {
            "line": {
             "colorbar": {
              "outlinewidth": 0,
              "ticks": ""
             }
            },
            "type": "parcoords"
           }
          ],
          "pie": [
           {
            "automargin": true,
            "type": "pie"
           }
          ],
          "scatter": [
           {
            "fillpattern": {
             "fillmode": "overlay",
             "size": 10,
             "solidity": 0.2
            },
            "type": "scatter"
           }
          ],
          "scatter3d": [
           {
            "line": {
             "colorbar": {
              "outlinewidth": 0,
              "ticks": ""
             }
            },
            "marker": {
             "colorbar": {
              "outlinewidth": 0,
              "ticks": ""
             }
            },
            "type": "scatter3d"
           }
          ],
          "scattercarpet": [
           {
            "marker": {
             "colorbar": {
              "outlinewidth": 0,
              "ticks": ""
             }
            },
            "type": "scattercarpet"
           }
          ],
          "scattergeo": [
           {
            "marker": {
             "colorbar": {
              "outlinewidth": 0,
              "ticks": ""
             }
            },
            "type": "scattergeo"
           }
          ],
          "scattergl": [
           {
            "marker": {
             "colorbar": {
              "outlinewidth": 0,
              "ticks": ""
             }
            },
            "type": "scattergl"
           }
          ],
          "scattermap": [
           {
            "marker": {
             "colorbar": {
              "outlinewidth": 0,
              "ticks": ""
             }
            },
            "type": "scattermap"
           }
          ],
          "scattermapbox": [
           {
            "marker": {
             "colorbar": {
              "outlinewidth": 0,
              "ticks": ""
             }
            },
            "type": "scattermapbox"
           }
          ],
          "scatterpolar": [
           {
            "marker": {
             "colorbar": {
              "outlinewidth": 0,
              "ticks": ""
             }
            },
            "type": "scatterpolar"
           }
          ],
          "scatterpolargl": [
           {
            "marker": {
             "colorbar": {
              "outlinewidth": 0,
              "ticks": ""
             }
            },
            "type": "scatterpolargl"
           }
          ],
          "scatterternary": [
           {
            "marker": {
             "colorbar": {
              "outlinewidth": 0,
              "ticks": ""
             }
            },
            "type": "scatterternary"
           }
          ],
          "surface": [
           {
            "colorbar": {
             "outlinewidth": 0,
             "ticks": ""
            },
            "colorscale": [
             [
              0,
              "#0d0887"
             ],
             [
              0.1111111111111111,
              "#46039f"
             ],
             [
              0.2222222222222222,
              "#7201a8"
             ],
             [
              0.3333333333333333,
              "#9c179e"
             ],
             [
              0.4444444444444444,
              "#bd3786"
             ],
             [
              0.5555555555555556,
              "#d8576b"
             ],
             [
              0.6666666666666666,
              "#ed7953"
             ],
             [
              0.7777777777777778,
              "#fb9f3a"
             ],
             [
              0.8888888888888888,
              "#fdca26"
             ],
             [
              1,
              "#f0f921"
             ]
            ],
            "type": "surface"
           }
          ],
          "table": [
           {
            "cells": {
             "fill": {
              "color": "#EBF0F8"
             },
             "line": {
              "color": "white"
             }
            },
            "header": {
             "fill": {
              "color": "#C8D4E3"
             },
             "line": {
              "color": "white"
             }
            },
            "type": "table"
           }
          ]
         },
         "layout": {
          "annotationdefaults": {
           "arrowcolor": "#2a3f5f",
           "arrowhead": 0,
           "arrowwidth": 1
          },
          "autotypenumbers": "strict",
          "coloraxis": {
           "colorbar": {
            "outlinewidth": 0,
            "ticks": ""
           }
          },
          "colorscale": {
           "diverging": [
            [
             0,
             "#8e0152"
            ],
            [
             0.1,
             "#c51b7d"
            ],
            [
             0.2,
             "#de77ae"
            ],
            [
             0.3,
             "#f1b6da"
            ],
            [
             0.4,
             "#fde0ef"
            ],
            [
             0.5,
             "#f7f7f7"
            ],
            [
             0.6,
             "#e6f5d0"
            ],
            [
             0.7,
             "#b8e186"
            ],
            [
             0.8,
             "#7fbc41"
            ],
            [
             0.9,
             "#4d9221"
            ],
            [
             1,
             "#276419"
            ]
           ],
           "sequential": [
            [
             0,
             "#0d0887"
            ],
            [
             0.1111111111111111,
             "#46039f"
            ],
            [
             0.2222222222222222,
             "#7201a8"
            ],
            [
             0.3333333333333333,
             "#9c179e"
            ],
            [
             0.4444444444444444,
             "#bd3786"
            ],
            [
             0.5555555555555556,
             "#d8576b"
            ],
            [
             0.6666666666666666,
             "#ed7953"
            ],
            [
             0.7777777777777778,
             "#fb9f3a"
            ],
            [
             0.8888888888888888,
             "#fdca26"
            ],
            [
             1,
             "#f0f921"
            ]
           ],
           "sequentialminus": [
            [
             0,
             "#0d0887"
            ],
            [
             0.1111111111111111,
             "#46039f"
            ],
            [
             0.2222222222222222,
             "#7201a8"
            ],
            [
             0.3333333333333333,
             "#9c179e"
            ],
            [
             0.4444444444444444,
             "#bd3786"
            ],
            [
             0.5555555555555556,
             "#d8576b"
            ],
            [
             0.6666666666666666,
             "#ed7953"
            ],
            [
             0.7777777777777778,
             "#fb9f3a"
            ],
            [
             0.8888888888888888,
             "#fdca26"
            ],
            [
             1,
             "#f0f921"
            ]
           ]
          },
          "colorway": [
           "#636efa",
           "#EF553B",
           "#00cc96",
           "#ab63fa",
           "#FFA15A",
           "#19d3f3",
           "#FF6692",
           "#B6E880",
           "#FF97FF",
           "#FECB52"
          ],
          "font": {
           "color": "#2a3f5f"
          },
          "geo": {
           "bgcolor": "white",
           "lakecolor": "white",
           "landcolor": "#E5ECF6",
           "showlakes": true,
           "showland": true,
           "subunitcolor": "white"
          },
          "hoverlabel": {
           "align": "left"
          },
          "hovermode": "closest",
          "mapbox": {
           "style": "light"
          },
          "paper_bgcolor": "white",
          "plot_bgcolor": "#E5ECF6",
          "polar": {
           "angularaxis": {
            "gridcolor": "white",
            "linecolor": "white",
            "ticks": ""
           },
           "bgcolor": "#E5ECF6",
           "radialaxis": {
            "gridcolor": "white",
            "linecolor": "white",
            "ticks": ""
           }
          },
          "scene": {
           "xaxis": {
            "backgroundcolor": "#E5ECF6",
            "gridcolor": "white",
            "gridwidth": 2,
            "linecolor": "white",
            "showbackground": true,
            "ticks": "",
            "zerolinecolor": "white"
           },
           "yaxis": {
            "backgroundcolor": "#E5ECF6",
            "gridcolor": "white",
            "gridwidth": 2,
            "linecolor": "white",
            "showbackground": true,
            "ticks": "",
            "zerolinecolor": "white"
           },
           "zaxis": {
            "backgroundcolor": "#E5ECF6",
            "gridcolor": "white",
            "gridwidth": 2,
            "linecolor": "white",
            "showbackground": true,
            "ticks": "",
            "zerolinecolor": "white"
           }
          },
          "shapedefaults": {
           "line": {
            "color": "#2a3f5f"
           }
          },
          "ternary": {
           "aaxis": {
            "gridcolor": "white",
            "linecolor": "white",
            "ticks": ""
           },
           "baxis": {
            "gridcolor": "white",
            "linecolor": "white",
            "ticks": ""
           },
           "bgcolor": "#E5ECF6",
           "caxis": {
            "gridcolor": "white",
            "linecolor": "white",
            "ticks": ""
           }
          },
          "title": {
           "x": 0.05
          },
          "xaxis": {
           "automargin": true,
           "gridcolor": "white",
           "linecolor": "white",
           "ticks": "",
           "title": {
            "standoff": 15
           },
           "zerolinecolor": "white",
           "zerolinewidth": 2
          },
          "yaxis": {
           "automargin": true,
           "gridcolor": "white",
           "linecolor": "white",
           "ticks": "",
           "title": {
            "standoff": 15
           },
           "zerolinecolor": "white",
           "zerolinewidth": 2
          }
         }
        },
        "title": {
         "text": "peaks: 20, dips: 22"
        },
        "xaxis": {
         "rangeslider": {
          "visible": false
         },
         "title": {
          "text": "Time"
         }
        },
        "yaxis": {
         "title": {
          "text": "Price"
         }
        }
       }
      }
     },
     "metadata": {},
     "output_type": "display_data"
    }
   ],
   "source": [
    "# Create a candlestick chart and add the detected peaks and dips\n",
    "fig = create_base_candlestick_chart(\n",
    "    df, title=f\"peaks: {len(dfx['high_local_peaks'].dropna())}, dips: {len(dfx['low_local_dips'].dropna())}\"\n",
    ")\n",
    "\n",
    "# Add peaks to the chart\n",
    "fig = add_chart_to_figure(\n",
    "    fig,\n",
    "    go.Scatter(\n",
    "        x=dfx.index,\n",
    "        y=dfx[\"high_local_peaks\"],\n",
    "        mode=\"markers\",\n",
    "        name=\"Local Peaks\",\n",
    "        marker={\"color\": \"green\", \"size\": 10},\n",
    "    ),\n",
    ")\n",
    "\n",
    "# Add dips to the chart\n",
    "fig = add_chart_to_figure(\n",
    "    fig,\n",
    "    go.Scatter(\n",
    "        x=dfx.index,\n",
    "        y=dfx[\"low_local_dips\"],\n",
    "        mode=\"markers\",\n",
    "        name=\"Local Dips\",\n",
    "        marker={\"color\": \"red\", \"size\": 10},\n",
    "    ),\n",
    ")\n",
    "\n",
    "fig.show()"
   ]
  },
  {
   "cell_type": "code",
   "execution_count": 31,
   "id": "a9a180c5",
   "metadata": {},
   "outputs": [],
   "source": [
    "change_heuristic = np.percentile(df[\"close\"].diff(1).abs().dropna(), 75)\n",
    "distance_heuristic = int(df.shape[0] * 0.05)"
   ]
  },
  {
   "cell_type": "code",
   "execution_count": 32,
   "id": "db34aef6",
   "metadata": {},
   "outputs": [],
   "source": [
    "# Define parameters for the find_peaks_transformer_func\n",
    "params = {\n",
    "    \"high_column\": \"high\",\n",
    "    \"low_column\": \"low\",\n",
    "    \"prominence\": change_heuristic,\n",
    "    \"distance\": distance_heuristic,\n",
    "    \"width\": None,\n",
    "    \"threshold\": None,\n",
    "    \"wlen\": None,\n",
    "    \"rel_height\": None,\n",
    "    \"plateau_size\": None,\n",
    "}"
   ]
  },
  {
   "cell_type": "code",
   "execution_count": 33,
   "id": "577e1e3b",
   "metadata": {},
   "outputs": [],
   "source": [
    "# Apply the find_peaks_transformer_func directly\n",
    "dfx = find_peaks_transformer_func(df, **params)"
   ]
  },
  {
   "cell_type": "code",
   "execution_count": 34,
   "id": "b88e2315",
   "metadata": {},
   "outputs": [
    {
     "data": {
      "application/vnd.plotly.v1+json": {
       "config": {
        "plotlyServerURL": "https://plot.ly"
       },
       "data": [
        {
         "close": {
          "bdata": "4XoUrsfN90D2KFyPGtL3QLgehethd/dAAAAAAEBi90BxPQrXe1v3QLgehetFmPdAAAAAABAA+EDhehSuX3v3QI/C9ShwkvdAAAAAACCA90BI4XoUDlr2QGZmZmaGpvVACtejcKGR9EB7FK5HSa70QKRwPQrfl/RArkfheggD9UAAAAAA4AP3QClcj8LJDPVA4XoUrh9P9UCPwvUo4B72QNejcD2+9PVAAAAAABwx9UAzMzMz5wz1QLgehevltfNAKVyPwj0w80BxPQrXTz/0QLgehesBbvRArkfherzN80AzMzMz84D0QKRwPQonl/RArkfheugo9ECuR+F6oIL0QK5H4XqwMfRApHA9Ct8z9UDXo3A99o/0QD0K16OMh/RACtejcAl49EAAAAAAKAT1QPYoXI+iXPVAuB6F6w1W9UCF61G40jf1QI/C9SgATPVASOF6FIac9EA9CtejiC30QHE9CtdfHfRAj8L1KGAn9EAK16NwZcr0QD0K16NEJfRACtejcNFQ9EC4HoXrHXv0QHE9CtcfZfRAAAAAAOAl80BxPQrXs1PzQIXrUbgmovJAUrgehXMr9EDNzMzMdG/zQArXo3D9XfRAZmZmZs7R9EAAAAAAAHP0QHsUrkf5pvRAcT0K179r9EBI4XoU5oP0QPYoXI8+vfRApHA9Cquf9ECPwvUoUMX0QHE9Ctezy/RA4XoUrsNd9UBxPQrXL9D2QHsUrkex3/ZAUrgehcfx9kAUrkfh6hr3QAAAAABAGvdAzczMzFTj9kAUrkfhMjL3QOxRuB4NA/dAAAAAAMD99kD2KFyPno73QNejcD1yp/dAhetRuAZn90C4HoXrWQT3QBSuR+HaIPdAH4XrUSCk90AAAAAAaLD3QJqZmZnZNflAcT0K178j+UCuR+F6mJb5QAAAAABga/lA7FG4HnUY+UBSuB6Fe2r5QOxRuB49RflAAAAAAOAX+UA=",
          "dtype": "f8"
         },
         "high": {
          "bdata": "AAAAAKAg+ECPwvUoROv3QFK4HoWH2vdACtejcGmx90D2KFyPHp/3QHE9Ctc/qPdAKVyPwnUZ+EAAAAAAMEn4QAAAAABArfdAAAAAAKCY90AAAAAAQI/3QKRwPQrLl/ZAZmZmZmLU9UDD9ShcZ0L1QAAAAAAAyPRAAAAAAOAh9UAAAAAAgDH3QMP1KFwHDfdAH4XrUXi49UAAAAAAgDf2QNejcD2qqPZAH4XrUTBJ9kAAAAAAFDf1QAAAAABAHvVAw/UoXLeJ9EBmZmZmFmr0QJqZmZm9o/RAexSuRwWX9EDD9Shc29P0QK5H4XpErPRAPQrXo9DH9EB7FK5HTbH0QHE9Ctdbg/RAAAAAAIA99UCF61G42ln1QHsUrkclt/RAhetRuLKj9EDXo3A9Ggf1QBSuR+HWq/VASOF6FLqd9UAAAAAAMI31QNejcD3GbPVAhetRuLpd9UDhehSuC6n0QNejcD3qZPRAexSuR3F+9EDD9Shct+T0QAAAAABAm/VAH4XrUeCB9EAAAAAAAK/0QAAAAACgkvRASOF6FJp29EB7FK5HudXzQHE9Ctc/vvNAAAAAAEBo9EDD9ShcEzT0QAAAAADAlPRAAAAAABD59EAAAAAAQAX1QHE9Ctd/8vRAhetRuAYe9UAAAAAAwN/0QI/C9Sjg3fRAexSuR8HI9EBxPQrX3+r0QI/C9SiM1PRAcT0K1x+Z9UAAAAAAAOz2QM3MzMyAHvdAAAAAAFDz9kA9Ctej4GD3QAAAAADwPfdAAAAAAJBI90AAAAAA4Fj3QK5H4XpYTvdAMzMzM8c/90AfhetRAMn3QBSuR+F65vdAhetRuHqq90DhehSuB4P3QAAAAADwPfdAZmZmZoqp90AAAAAAQNz3QI/C9SgcbflAzczMzJR6+UDsUbgeiaH5QAAAAADAoPlAMzMzM7fV+UAAAAAABKH5QDMzMzNPevlAj8L1KKhb+UA=",
          "dtype": "f8"
         },
         "low": {
          "bdata": "7FG4Hs1/90B7FK5Hebz3QBSuR+HicvdAAAAAAFA+90AK16Nwwcz2QHE9CtdfM/dACtejcPGJ90AzMzMzfyn3QHE9CtenYfdApHA9Cr8/90CPwvUoVE32QHE9CtcvAvVAj8L1KAAV9EBxPQrXxzH0QB+F61EoG/NArkfhegx39ECamZmZqcP0QClcj8LRx/RAAAAAAMDl80CuR+F66BP1QAAAAADAcfVArkfherCr9EBSuB6FJ870QAAAAAAAiPNA9ihcjz7p8kAAAAAA4LPyQGZmZmb6rfNAZmZmZj6E80AK16NwLbvzQAAAAAAgavRAuB6F69ED9EAAAAAAgCH0QPYoXI/qzvNA9ihcjzIn9EDhehSuc2z0QAAAAAB0TvRAmpmZmZFq9EAAAAAAHHb0QArXo3Dx4PRAAAAAAGAS9UAAAAAAQPb0QAAAAACA8vRAAAAAABBo9EBcj8L1zO7zQAAAAADQ6fNAH4XrUejX80BxPQrXCyD0QAAAAAAAGfRAcT0K17PT80AAAAAAsO/zQDMzMzO/HPRAexSuRx3W8kAAAAAAwDDyQGZmZmb+nPJAAAAAAMA38kApXI/CBSjzQHsUrkeZR/NAMzMzM4829EDhehSuo0X0QAAAAADgbfRAAAAAAABp9EDXo3A9ekr0QI/C9SiEcfRAw/UoXP+U9EAzMzMzx5j0QB+F61HYfvRAj8L1KIzJ9ECuR+F6QEL1QPYoXI/2cfZAj8L1KMBg9kDD9Shcf6v2QKRwPQrr6vZAexSuRyna9kCPwvUoAKj2QD0K16Po4vZAAAAAAOCu9kAUrkfhJvv2QAAAAADghfdAj8L1KJBg90BI4XoUdvz2QJqZmZmh1PZAAAAAABDM9kApXI/CiWL3QD0K16PEpvdA16NwPbL6+ECPwvUoLBr5QFyPwvUQO/lAuB6F6+WW+EAzMzMzW8P4QM3MzMygDPlA7FG4HnHA+EA=",
          "dtype": "f8"
         },
         "name": "Candlesticks",
         "open": {
          "bdata": "SOF6FAKW90BSuB6Fx833QIXrUbga0vdAuB6F62F390CPwvUoQGL3QHE9Ctd7W/dAuB6F60WY90CPwvUoEAD4QHE9Ctdfe/dAj8L1KHCS90AAAAAAIID3QEjhehQOWvZA16NwPYam9UAK16NwoZH0QOxRuB5JrvRAMzMzM9+X9EA9CtejCAP1QHE9CtffA/dA9ihcj9IM9UDhehSuH0/1QAAAAADgHvZASOF6FL709UBxPQrXGzH1QMP1KFznDPVA4XoUrue180ApXI/CPTDzQHE9CtdPP/RAuB6F6wFu9ECuR+F6vM3zQKRwPQrzgPRApHA9CieX9EAfhetR6Cj0QB+F61GggvRArkfherAx9EAUrkfh3jP1QEjhehT2j/RAPQrXo4yH9EAK16NwCXj0QAAAAAAoBPVA9ihcj6Jc9UBI4XoUDlb1QIXrUbjSN/VAj8L1KABM9UBI4XoUhpz0QK5H4XqILfRAAAAAAGAd9EAAAAAAYCf0QJqZmZllyvRArkfhekQl9EAK16Nw0VD0QLgehesde/RAcT0K1x9l9EAAAAAA4CXzQHE9CtezU/NAhetRuCai8kBSuB6Fcyv0QM3MzMx0b/NAexSuR/1d9ED2KFyPztH0QAAAAAAAc/RAexSuR/mm9EBxPQrXv2v0QEjhehTmg/RAhetRuD699EAzMzMzq5/0QAAAAABQxfRAcT0K17PL9EBSuB6Fw131QHE9Ctcv0PZA7FG4HrHf9kBSuB6Fx/H2QBSuR+HqGvdAAAAAAEAa90A9CtejVOP2QBSuR+EyMvdA7FG4Hg0D90AAAAAAwP32QGZmZmaejvdASOF6FHKn90CF61G4Bmf3QClcj8JZBPdAFK5H4dog90AfhetRIKT3QAAAAABosPdAKVyPwtk1+UBxPQrXvyP5QK5H4XqYlvlAAAAAAGBr+UDsUbgedRj5QFK4HoV7avlAexSuRz1F+UA=",
          "dtype": "f8"
         },
         "type": "candlestick",
         "x": [
          "2025-02-14T00:00:00.000000000",
          "2025-02-15T00:00:00.000000000",
          "2025-02-16T00:00:00.000000000",
          "2025-02-17T00:00:00.000000000",
          "2025-02-18T00:00:00.000000000",
          "2025-02-19T00:00:00.000000000",
          "2025-02-20T00:00:00.000000000",
          "2025-02-21T00:00:00.000000000",
          "2025-02-22T00:00:00.000000000",
          "2025-02-23T00:00:00.000000000",
          "2025-02-24T00:00:00.000000000",
          "2025-02-25T00:00:00.000000000",
          "2025-02-26T00:00:00.000000000",
          "2025-02-27T00:00:00.000000000",
          "2025-02-28T00:00:00.000000000",
          "2025-03-01T00:00:00.000000000",
          "2025-03-02T00:00:00.000000000",
          "2025-03-03T00:00:00.000000000",
          "2025-03-04T00:00:00.000000000",
          "2025-03-05T00:00:00.000000000",
          "2025-03-06T00:00:00.000000000",
          "2025-03-07T00:00:00.000000000",
          "2025-03-08T00:00:00.000000000",
          "2025-03-09T00:00:00.000000000",
          "2025-03-10T00:00:00.000000000",
          "2025-03-11T00:00:00.000000000",
          "2025-03-12T00:00:00.000000000",
          "2025-03-13T00:00:00.000000000",
          "2025-03-14T00:00:00.000000000",
          "2025-03-15T00:00:00.000000000",
          "2025-03-16T00:00:00.000000000",
          "2025-03-17T00:00:00.000000000",
          "2025-03-18T00:00:00.000000000",
          "2025-03-19T00:00:00.000000000",
          "2025-03-20T00:00:00.000000000",
          "2025-03-21T00:00:00.000000000",
          "2025-03-22T00:00:00.000000000",
          "2025-03-23T00:00:00.000000000",
          "2025-03-24T00:00:00.000000000",
          "2025-03-25T00:00:00.000000000",
          "2025-03-26T00:00:00.000000000",
          "2025-03-27T00:00:00.000000000",
          "2025-03-28T00:00:00.000000000",
          "2025-03-29T00:00:00.000000000",
          "2025-03-30T00:00:00.000000000",
          "2025-03-31T00:00:00.000000000",
          "2025-04-01T00:00:00.000000000",
          "2025-04-02T00:00:00.000000000",
          "2025-04-03T00:00:00.000000000",
          "2025-04-04T00:00:00.000000000",
          "2025-04-05T00:00:00.000000000",
          "2025-04-06T00:00:00.000000000",
          "2025-04-07T00:00:00.000000000",
          "2025-04-08T00:00:00.000000000",
          "2025-04-09T00:00:00.000000000",
          "2025-04-10T00:00:00.000000000",
          "2025-04-11T00:00:00.000000000",
          "2025-04-12T00:00:00.000000000",
          "2025-04-13T00:00:00.000000000",
          "2025-04-14T00:00:00.000000000",
          "2025-04-15T00:00:00.000000000",
          "2025-04-16T00:00:00.000000000",
          "2025-04-17T00:00:00.000000000",
          "2025-04-18T00:00:00.000000000",
          "2025-04-19T00:00:00.000000000",
          "2025-04-20T00:00:00.000000000",
          "2025-04-21T00:00:00.000000000",
          "2025-04-22T00:00:00.000000000",
          "2025-04-23T00:00:00.000000000",
          "2025-04-24T00:00:00.000000000",
          "2025-04-25T00:00:00.000000000",
          "2025-04-26T00:00:00.000000000",
          "2025-04-27T00:00:00.000000000",
          "2025-04-28T00:00:00.000000000",
          "2025-04-29T00:00:00.000000000",
          "2025-04-30T00:00:00.000000000",
          "2025-05-01T00:00:00.000000000",
          "2025-05-02T00:00:00.000000000",
          "2025-05-03T00:00:00.000000000",
          "2025-05-04T00:00:00.000000000",
          "2025-05-05T00:00:00.000000000",
          "2025-05-06T00:00:00.000000000",
          "2025-05-07T00:00:00.000000000",
          "2025-05-08T00:00:00.000000000",
          "2025-05-09T00:00:00.000000000",
          "2025-05-10T00:00:00.000000000",
          "2025-05-11T00:00:00.000000000",
          "2025-05-12T00:00:00.000000000",
          "2025-05-13T00:00:00.000000000",
          "2025-05-14T00:00:00.000000000",
          "2025-05-15T00:00:00.000000000"
         ]
        },
        {
         "marker": {
          "color": "green",
          "size": 10
         },
         "mode": "markers",
         "name": "Local Peaks",
         "type": "scatter",
         "x": [
          "2025-02-14T00:00:00.000000000",
          "2025-02-15T00:00:00.000000000",
          "2025-02-16T00:00:00.000000000",
          "2025-02-17T00:00:00.000000000",
          "2025-02-18T00:00:00.000000000",
          "2025-02-19T00:00:00.000000000",
          "2025-02-20T00:00:00.000000000",
          "2025-02-21T00:00:00.000000000",
          "2025-02-22T00:00:00.000000000",
          "2025-02-23T00:00:00.000000000",
          "2025-02-24T00:00:00.000000000",
          "2025-02-25T00:00:00.000000000",
          "2025-02-26T00:00:00.000000000",
          "2025-02-27T00:00:00.000000000",
          "2025-02-28T00:00:00.000000000",
          "2025-03-01T00:00:00.000000000",
          "2025-03-02T00:00:00.000000000",
          "2025-03-03T00:00:00.000000000",
          "2025-03-04T00:00:00.000000000",
          "2025-03-05T00:00:00.000000000",
          "2025-03-06T00:00:00.000000000",
          "2025-03-07T00:00:00.000000000",
          "2025-03-08T00:00:00.000000000",
          "2025-03-09T00:00:00.000000000",
          "2025-03-10T00:00:00.000000000",
          "2025-03-11T00:00:00.000000000",
          "2025-03-12T00:00:00.000000000",
          "2025-03-13T00:00:00.000000000",
          "2025-03-14T00:00:00.000000000",
          "2025-03-15T00:00:00.000000000",
          "2025-03-16T00:00:00.000000000",
          "2025-03-17T00:00:00.000000000",
          "2025-03-18T00:00:00.000000000",
          "2025-03-19T00:00:00.000000000",
          "2025-03-20T00:00:00.000000000",
          "2025-03-21T00:00:00.000000000",
          "2025-03-22T00:00:00.000000000",
          "2025-03-23T00:00:00.000000000",
          "2025-03-24T00:00:00.000000000",
          "2025-03-25T00:00:00.000000000",
          "2025-03-26T00:00:00.000000000",
          "2025-03-27T00:00:00.000000000",
          "2025-03-28T00:00:00.000000000",
          "2025-03-29T00:00:00.000000000",
          "2025-03-30T00:00:00.000000000",
          "2025-03-31T00:00:00.000000000",
          "2025-04-01T00:00:00.000000000",
          "2025-04-02T00:00:00.000000000",
          "2025-04-03T00:00:00.000000000",
          "2025-04-04T00:00:00.000000000",
          "2025-04-05T00:00:00.000000000",
          "2025-04-06T00:00:00.000000000",
          "2025-04-07T00:00:00.000000000",
          "2025-04-08T00:00:00.000000000",
          "2025-04-09T00:00:00.000000000",
          "2025-04-10T00:00:00.000000000",
          "2025-04-11T00:00:00.000000000",
          "2025-04-12T00:00:00.000000000",
          "2025-04-13T00:00:00.000000000",
          "2025-04-14T00:00:00.000000000",
          "2025-04-15T00:00:00.000000000",
          "2025-04-16T00:00:00.000000000",
          "2025-04-17T00:00:00.000000000",
          "2025-04-18T00:00:00.000000000",
          "2025-04-19T00:00:00.000000000",
          "2025-04-20T00:00:00.000000000",
          "2025-04-21T00:00:00.000000000",
          "2025-04-22T00:00:00.000000000",
          "2025-04-23T00:00:00.000000000",
          "2025-04-24T00:00:00.000000000",
          "2025-04-25T00:00:00.000000000",
          "2025-04-26T00:00:00.000000000",
          "2025-04-27T00:00:00.000000000",
          "2025-04-28T00:00:00.000000000",
          "2025-04-29T00:00:00.000000000",
          "2025-04-30T00:00:00.000000000",
          "2025-05-01T00:00:00.000000000",
          "2025-05-02T00:00:00.000000000",
          "2025-05-03T00:00:00.000000000",
          "2025-05-04T00:00:00.000000000",
          "2025-05-05T00:00:00.000000000",
          "2025-05-06T00:00:00.000000000",
          "2025-05-07T00:00:00.000000000",
          "2025-05-08T00:00:00.000000000",
          "2025-05-09T00:00:00.000000000",
          "2025-05-10T00:00:00.000000000",
          "2025-05-11T00:00:00.000000000",
          "2025-05-12T00:00:00.000000000",
          "2025-05-13T00:00:00.000000000",
          "2025-05-14T00:00:00.000000000",
          "2025-05-15T00:00:00.000000000"
         ],
         "y": {
          "bdata": "AAAAAAAA+H8AAAAAAAD4fwAAAAAAAPh/AAAAAAAA+H8AAAAAAAD4fwAAAAAAAPh/AAAAAAAA+H8AAAAAMEn4QAAAAAAAAPh/AAAAAAAA+H8AAAAAAAD4fwAAAAAAAPh/AAAAAAAA+H8AAAAAAAD4fwAAAAAAAPh/AAAAAAAA+H8AAAAAgDH3QAAAAAAAAPh/AAAAAAAA+H8AAAAAAAD4f9ejcD2qqPZAAAAAAAAA+H8AAAAAAAD4fwAAAAAAAPh/AAAAAAAA+H8AAAAAAAD4fwAAAAAAAPh/AAAAAAAA+H8AAAAAAAD4fwAAAAAAAPh/AAAAAAAA+H8AAAAAAAD4fwAAAAAAAPh/AAAAAAAA+H+F61G42ln1QAAAAAAAAPh/AAAAAAAA+H8AAAAAAAD4fxSuR+HWq/VAAAAAAAAA+H8AAAAAAAD4fwAAAAAAAPh/AAAAAAAA+H8AAAAAAAD4fwAAAAAAAPh/AAAAAAAA+H8AAAAAAAD4fwAAAABAm/VAAAAAAAAA+H8AAAAAAAD4fwAAAAAAAPh/AAAAAAAA+H8AAAAAAAD4fwAAAAAAAPh/AAAAAAAA+H8AAAAAAAD4fwAAAAAAAPh/AAAAAAAA+H8AAAAAAAD4fwAAAAAAAPh/AAAAAAAA+H8AAAAAAAD4fwAAAAAAAPh/AAAAAAAA+H8AAAAAAAD4fwAAAAAAAPh/AAAAAAAA+H8AAAAAAAD4fwAAAAAAAPh/AAAAAAAA+H8AAAAAAAD4fwAAAAAAAPh/AAAAAAAA+H8AAAAAAAD4fwAAAAAAAPh/AAAAAAAA+H8AAAAAAAD4fxSuR+F65vdAAAAAAAAA+H8AAAAAAAD4fwAAAAAAAPh/AAAAAAAA+H8AAAAAAAD4fwAAAAAAAPh/AAAAAAAA+H8AAAAAAAD4fwAAAAAAAPh/AAAAAAAA+H8AAAAAAAD4fwAAAAAAAPh/AAAAAAAA+H8=",
          "dtype": "f8"
         }
        },
        {
         "marker": {
          "color": "red",
          "size": 10
         },
         "mode": "markers",
         "name": "Local Dips",
         "type": "scatter",
         "x": [
          "2025-02-14T00:00:00.000000000",
          "2025-02-15T00:00:00.000000000",
          "2025-02-16T00:00:00.000000000",
          "2025-02-17T00:00:00.000000000",
          "2025-02-18T00:00:00.000000000",
          "2025-02-19T00:00:00.000000000",
          "2025-02-20T00:00:00.000000000",
          "2025-02-21T00:00:00.000000000",
          "2025-02-22T00:00:00.000000000",
          "2025-02-23T00:00:00.000000000",
          "2025-02-24T00:00:00.000000000",
          "2025-02-25T00:00:00.000000000",
          "2025-02-26T00:00:00.000000000",
          "2025-02-27T00:00:00.000000000",
          "2025-02-28T00:00:00.000000000",
          "2025-03-01T00:00:00.000000000",
          "2025-03-02T00:00:00.000000000",
          "2025-03-03T00:00:00.000000000",
          "2025-03-04T00:00:00.000000000",
          "2025-03-05T00:00:00.000000000",
          "2025-03-06T00:00:00.000000000",
          "2025-03-07T00:00:00.000000000",
          "2025-03-08T00:00:00.000000000",
          "2025-03-09T00:00:00.000000000",
          "2025-03-10T00:00:00.000000000",
          "2025-03-11T00:00:00.000000000",
          "2025-03-12T00:00:00.000000000",
          "2025-03-13T00:00:00.000000000",
          "2025-03-14T00:00:00.000000000",
          "2025-03-15T00:00:00.000000000",
          "2025-03-16T00:00:00.000000000",
          "2025-03-17T00:00:00.000000000",
          "2025-03-18T00:00:00.000000000",
          "2025-03-19T00:00:00.000000000",
          "2025-03-20T00:00:00.000000000",
          "2025-03-21T00:00:00.000000000",
          "2025-03-22T00:00:00.000000000",
          "2025-03-23T00:00:00.000000000",
          "2025-03-24T00:00:00.000000000",
          "2025-03-25T00:00:00.000000000",
          "2025-03-26T00:00:00.000000000",
          "2025-03-27T00:00:00.000000000",
          "2025-03-28T00:00:00.000000000",
          "2025-03-29T00:00:00.000000000",
          "2025-03-30T00:00:00.000000000",
          "2025-03-31T00:00:00.000000000",
          "2025-04-01T00:00:00.000000000",
          "2025-04-02T00:00:00.000000000",
          "2025-04-03T00:00:00.000000000",
          "2025-04-04T00:00:00.000000000",
          "2025-04-05T00:00:00.000000000",
          "2025-04-06T00:00:00.000000000",
          "2025-04-07T00:00:00.000000000",
          "2025-04-08T00:00:00.000000000",
          "2025-04-09T00:00:00.000000000",
          "2025-04-10T00:00:00.000000000",
          "2025-04-11T00:00:00.000000000",
          "2025-04-12T00:00:00.000000000",
          "2025-04-13T00:00:00.000000000",
          "2025-04-14T00:00:00.000000000",
          "2025-04-15T00:00:00.000000000",
          "2025-04-16T00:00:00.000000000",
          "2025-04-17T00:00:00.000000000",
          "2025-04-18T00:00:00.000000000",
          "2025-04-19T00:00:00.000000000",
          "2025-04-20T00:00:00.000000000",
          "2025-04-21T00:00:00.000000000",
          "2025-04-22T00:00:00.000000000",
          "2025-04-23T00:00:00.000000000",
          "2025-04-24T00:00:00.000000000",
          "2025-04-25T00:00:00.000000000",
          "2025-04-26T00:00:00.000000000",
          "2025-04-27T00:00:00.000000000",
          "2025-04-28T00:00:00.000000000",
          "2025-04-29T00:00:00.000000000",
          "2025-04-30T00:00:00.000000000",
          "2025-05-01T00:00:00.000000000",
          "2025-05-02T00:00:00.000000000",
          "2025-05-03T00:00:00.000000000",
          "2025-05-04T00:00:00.000000000",
          "2025-05-05T00:00:00.000000000",
          "2025-05-06T00:00:00.000000000",
          "2025-05-07T00:00:00.000000000",
          "2025-05-08T00:00:00.000000000",
          "2025-05-09T00:00:00.000000000",
          "2025-05-10T00:00:00.000000000",
          "2025-05-11T00:00:00.000000000",
          "2025-05-12T00:00:00.000000000",
          "2025-05-13T00:00:00.000000000",
          "2025-05-14T00:00:00.000000000",
          "2025-05-15T00:00:00.000000000"
         ],
         "y": {
          "bdata": "AAAAAAAA+H8AAAAAAAD4fwAAAAAAAPh/AAAAAAAA+H8K16Nwwcz2QAAAAAAAAPh/AAAAAAAA+H8AAAAAAAD4fwAAAAAAAPh/AAAAAAAA+H8AAAAAAAD4fwAAAAAAAPh/AAAAAAAA+H8AAAAAAAD4fx+F61EoG/NAAAAAAAAA+H8AAAAAAAD4fwAAAAAAAPh/AAAAAMDl80AAAAAAAAD4fwAAAAAAAPh/AAAAAAAA+H8AAAAAAAD4fwAAAAAAAPh/AAAAAAAA+H8AAAAA4LPyQAAAAAAAAPh/AAAAAAAA+H8AAAAAAAD4fwAAAAAAAPh/AAAAAAAA+H8AAAAAAAD4fwAAAAAAAPh/AAAAAAAA+H8AAAAAAAD4fwAAAAAAAPh/AAAAAAAA+H8AAAAAAAD4fwAAAAAAAPh/AAAAAAAA+H8AAAAAAAD4fwAAAAAAAPh/AAAAAAAA+H8AAAAAAAD4fwAAAAAAAPh/AAAAAAAA+H8AAAAAAAD4fwAAAAAAAPh/AAAAAAAA+H8AAAAAAAD4fwAAAAAAAPh/AAAAAAAA+H8AAAAAwDDyQAAAAAAAAPh/AAAAAAAA+H8AAAAAAAD4fwAAAAAAAPh/AAAAAAAA+H8AAAAAAAD4fwAAAAAAAPh/AAAAAAAA+H8AAAAAAAD4fwAAAAAAAPh/AAAAAAAA+H8AAAAAAAD4fwAAAAAAAPh/AAAAAAAA+H8AAAAAAAD4fwAAAAAAAPh/AAAAAAAA+H8AAAAAAAD4fwAAAAAAAPh/AAAAAAAA+H8AAAAAAAD4fwAAAAAAAPh/AAAAAAAA+H8AAAAAAAD4fwAAAAAAAPh/AAAAAAAA+H8AAAAAAAD4fwAAAAAAAPh/AAAAABDM9kAAAAAAAAD4fwAAAAAAAPh/AAAAAAAA+H8AAAAAAAD4fwAAAAAAAPh/AAAAAAAA+H8AAAAAAAD4fwAAAAAAAPh/AAAAAAAA+H8=",
          "dtype": "f8"
         }
        }
       ],
       "layout": {
        "template": {
         "data": {
          "bar": [
           {
            "error_x": {
             "color": "#2a3f5f"
            },
            "error_y": {
             "color": "#2a3f5f"
            },
            "marker": {
             "line": {
              "color": "#E5ECF6",
              "width": 0.5
             },
             "pattern": {
              "fillmode": "overlay",
              "size": 10,
              "solidity": 0.2
             }
            },
            "type": "bar"
           }
          ],
          "barpolar": [
           {
            "marker": {
             "line": {
              "color": "#E5ECF6",
              "width": 0.5
             },
             "pattern": {
              "fillmode": "overlay",
              "size": 10,
              "solidity": 0.2
             }
            },
            "type": "barpolar"
           }
          ],
          "carpet": [
           {
            "aaxis": {
             "endlinecolor": "#2a3f5f",
             "gridcolor": "white",
             "linecolor": "white",
             "minorgridcolor": "white",
             "startlinecolor": "#2a3f5f"
            },
            "baxis": {
             "endlinecolor": "#2a3f5f",
             "gridcolor": "white",
             "linecolor": "white",
             "minorgridcolor": "white",
             "startlinecolor": "#2a3f5f"
            },
            "type": "carpet"
           }
          ],
          "choropleth": [
           {
            "colorbar": {
             "outlinewidth": 0,
             "ticks": ""
            },
            "type": "choropleth"
           }
          ],
          "contour": [
           {
            "colorbar": {
             "outlinewidth": 0,
             "ticks": ""
            },
            "colorscale": [
             [
              0,
              "#0d0887"
             ],
             [
              0.1111111111111111,
              "#46039f"
             ],
             [
              0.2222222222222222,
              "#7201a8"
             ],
             [
              0.3333333333333333,
              "#9c179e"
             ],
             [
              0.4444444444444444,
              "#bd3786"
             ],
             [
              0.5555555555555556,
              "#d8576b"
             ],
             [
              0.6666666666666666,
              "#ed7953"
             ],
             [
              0.7777777777777778,
              "#fb9f3a"
             ],
             [
              0.8888888888888888,
              "#fdca26"
             ],
             [
              1,
              "#f0f921"
             ]
            ],
            "type": "contour"
           }
          ],
          "contourcarpet": [
           {
            "colorbar": {
             "outlinewidth": 0,
             "ticks": ""
            },
            "type": "contourcarpet"
           }
          ],
          "heatmap": [
           {
            "colorbar": {
             "outlinewidth": 0,
             "ticks": ""
            },
            "colorscale": [
             [
              0,
              "#0d0887"
             ],
             [
              0.1111111111111111,
              "#46039f"
             ],
             [
              0.2222222222222222,
              "#7201a8"
             ],
             [
              0.3333333333333333,
              "#9c179e"
             ],
             [
              0.4444444444444444,
              "#bd3786"
             ],
             [
              0.5555555555555556,
              "#d8576b"
             ],
             [
              0.6666666666666666,
              "#ed7953"
             ],
             [
              0.7777777777777778,
              "#fb9f3a"
             ],
             [
              0.8888888888888888,
              "#fdca26"
             ],
             [
              1,
              "#f0f921"
             ]
            ],
            "type": "heatmap"
           }
          ],
          "histogram": [
           {
            "marker": {
             "pattern": {
              "fillmode": "overlay",
              "size": 10,
              "solidity": 0.2
             }
            },
            "type": "histogram"
           }
          ],
          "histogram2d": [
           {
            "colorbar": {
             "outlinewidth": 0,
             "ticks": ""
            },
            "colorscale": [
             [
              0,
              "#0d0887"
             ],
             [
              0.1111111111111111,
              "#46039f"
             ],
             [
              0.2222222222222222,
              "#7201a8"
             ],
             [
              0.3333333333333333,
              "#9c179e"
             ],
             [
              0.4444444444444444,
              "#bd3786"
             ],
             [
              0.5555555555555556,
              "#d8576b"
             ],
             [
              0.6666666666666666,
              "#ed7953"
             ],
             [
              0.7777777777777778,
              "#fb9f3a"
             ],
             [
              0.8888888888888888,
              "#fdca26"
             ],
             [
              1,
              "#f0f921"
             ]
            ],
            "type": "histogram2d"
           }
          ],
          "histogram2dcontour": [
           {
            "colorbar": {
             "outlinewidth": 0,
             "ticks": ""
            },
            "colorscale": [
             [
              0,
              "#0d0887"
             ],
             [
              0.1111111111111111,
              "#46039f"
             ],
             [
              0.2222222222222222,
              "#7201a8"
             ],
             [
              0.3333333333333333,
              "#9c179e"
             ],
             [
              0.4444444444444444,
              "#bd3786"
             ],
             [
              0.5555555555555556,
              "#d8576b"
             ],
             [
              0.6666666666666666,
              "#ed7953"
             ],
             [
              0.7777777777777778,
              "#fb9f3a"
             ],
             [
              0.8888888888888888,
              "#fdca26"
             ],
             [
              1,
              "#f0f921"
             ]
            ],
            "type": "histogram2dcontour"
           }
          ],
          "mesh3d": [
           {
            "colorbar": {
             "outlinewidth": 0,
             "ticks": ""
            },
            "type": "mesh3d"
           }
          ],
          "parcoords": [
           {
            "line": {
             "colorbar": {
              "outlinewidth": 0,
              "ticks": ""
             }
            },
            "type": "parcoords"
           }
          ],
          "pie": [
           {
            "automargin": true,
            "type": "pie"
           }
          ],
          "scatter": [
           {
            "fillpattern": {
             "fillmode": "overlay",
             "size": 10,
             "solidity": 0.2
            },
            "type": "scatter"
           }
          ],
          "scatter3d": [
           {
            "line": {
             "colorbar": {
              "outlinewidth": 0,
              "ticks": ""
             }
            },
            "marker": {
             "colorbar": {
              "outlinewidth": 0,
              "ticks": ""
             }
            },
            "type": "scatter3d"
           }
          ],
          "scattercarpet": [
           {
            "marker": {
             "colorbar": {
              "outlinewidth": 0,
              "ticks": ""
             }
            },
            "type": "scattercarpet"
           }
          ],
          "scattergeo": [
           {
            "marker": {
             "colorbar": {
              "outlinewidth": 0,
              "ticks": ""
             }
            },
            "type": "scattergeo"
           }
          ],
          "scattergl": [
           {
            "marker": {
             "colorbar": {
              "outlinewidth": 0,
              "ticks": ""
             }
            },
            "type": "scattergl"
           }
          ],
          "scattermap": [
           {
            "marker": {
             "colorbar": {
              "outlinewidth": 0,
              "ticks": ""
             }
            },
            "type": "scattermap"
           }
          ],
          "scattermapbox": [
           {
            "marker": {
             "colorbar": {
              "outlinewidth": 0,
              "ticks": ""
             }
            },
            "type": "scattermapbox"
           }
          ],
          "scatterpolar": [
           {
            "marker": {
             "colorbar": {
              "outlinewidth": 0,
              "ticks": ""
             }
            },
            "type": "scatterpolar"
           }
          ],
          "scatterpolargl": [
           {
            "marker": {
             "colorbar": {
              "outlinewidth": 0,
              "ticks": ""
             }
            },
            "type": "scatterpolargl"
           }
          ],
          "scatterternary": [
           {
            "marker": {
             "colorbar": {
              "outlinewidth": 0,
              "ticks": ""
             }
            },
            "type": "scatterternary"
           }
          ],
          "surface": [
           {
            "colorbar": {
             "outlinewidth": 0,
             "ticks": ""
            },
            "colorscale": [
             [
              0,
              "#0d0887"
             ],
             [
              0.1111111111111111,
              "#46039f"
             ],
             [
              0.2222222222222222,
              "#7201a8"
             ],
             [
              0.3333333333333333,
              "#9c179e"
             ],
             [
              0.4444444444444444,
              "#bd3786"
             ],
             [
              0.5555555555555556,
              "#d8576b"
             ],
             [
              0.6666666666666666,
              "#ed7953"
             ],
             [
              0.7777777777777778,
              "#fb9f3a"
             ],
             [
              0.8888888888888888,
              "#fdca26"
             ],
             [
              1,
              "#f0f921"
             ]
            ],
            "type": "surface"
           }
          ],
          "table": [
           {
            "cells": {
             "fill": {
              "color": "#EBF0F8"
             },
             "line": {
              "color": "white"
             }
            },
            "header": {
             "fill": {
              "color": "#C8D4E3"
             },
             "line": {
              "color": "white"
             }
            },
            "type": "table"
           }
          ]
         },
         "layout": {
          "annotationdefaults": {
           "arrowcolor": "#2a3f5f",
           "arrowhead": 0,
           "arrowwidth": 1
          },
          "autotypenumbers": "strict",
          "coloraxis": {
           "colorbar": {
            "outlinewidth": 0,
            "ticks": ""
           }
          },
          "colorscale": {
           "diverging": [
            [
             0,
             "#8e0152"
            ],
            [
             0.1,
             "#c51b7d"
            ],
            [
             0.2,
             "#de77ae"
            ],
            [
             0.3,
             "#f1b6da"
            ],
            [
             0.4,
             "#fde0ef"
            ],
            [
             0.5,
             "#f7f7f7"
            ],
            [
             0.6,
             "#e6f5d0"
            ],
            [
             0.7,
             "#b8e186"
            ],
            [
             0.8,
             "#7fbc41"
            ],
            [
             0.9,
             "#4d9221"
            ],
            [
             1,
             "#276419"
            ]
           ],
           "sequential": [
            [
             0,
             "#0d0887"
            ],
            [
             0.1111111111111111,
             "#46039f"
            ],
            [
             0.2222222222222222,
             "#7201a8"
            ],
            [
             0.3333333333333333,
             "#9c179e"
            ],
            [
             0.4444444444444444,
             "#bd3786"
            ],
            [
             0.5555555555555556,
             "#d8576b"
            ],
            [
             0.6666666666666666,
             "#ed7953"
            ],
            [
             0.7777777777777778,
             "#fb9f3a"
            ],
            [
             0.8888888888888888,
             "#fdca26"
            ],
            [
             1,
             "#f0f921"
            ]
           ],
           "sequentialminus": [
            [
             0,
             "#0d0887"
            ],
            [
             0.1111111111111111,
             "#46039f"
            ],
            [
             0.2222222222222222,
             "#7201a8"
            ],
            [
             0.3333333333333333,
             "#9c179e"
            ],
            [
             0.4444444444444444,
             "#bd3786"
            ],
            [
             0.5555555555555556,
             "#d8576b"
            ],
            [
             0.6666666666666666,
             "#ed7953"
            ],
            [
             0.7777777777777778,
             "#fb9f3a"
            ],
            [
             0.8888888888888888,
             "#fdca26"
            ],
            [
             1,
             "#f0f921"
            ]
           ]
          },
          "colorway": [
           "#636efa",
           "#EF553B",
           "#00cc96",
           "#ab63fa",
           "#FFA15A",
           "#19d3f3",
           "#FF6692",
           "#B6E880",
           "#FF97FF",
           "#FECB52"
          ],
          "font": {
           "color": "#2a3f5f"
          },
          "geo": {
           "bgcolor": "white",
           "lakecolor": "white",
           "landcolor": "#E5ECF6",
           "showlakes": true,
           "showland": true,
           "subunitcolor": "white"
          },
          "hoverlabel": {
           "align": "left"
          },
          "hovermode": "closest",
          "mapbox": {
           "style": "light"
          },
          "paper_bgcolor": "white",
          "plot_bgcolor": "#E5ECF6",
          "polar": {
           "angularaxis": {
            "gridcolor": "white",
            "linecolor": "white",
            "ticks": ""
           },
           "bgcolor": "#E5ECF6",
           "radialaxis": {
            "gridcolor": "white",
            "linecolor": "white",
            "ticks": ""
           }
          },
          "scene": {
           "xaxis": {
            "backgroundcolor": "#E5ECF6",
            "gridcolor": "white",
            "gridwidth": 2,
            "linecolor": "white",
            "showbackground": true,
            "ticks": "",
            "zerolinecolor": "white"
           },
           "yaxis": {
            "backgroundcolor": "#E5ECF6",
            "gridcolor": "white",
            "gridwidth": 2,
            "linecolor": "white",
            "showbackground": true,
            "ticks": "",
            "zerolinecolor": "white"
           },
           "zaxis": {
            "backgroundcolor": "#E5ECF6",
            "gridcolor": "white",
            "gridwidth": 2,
            "linecolor": "white",
            "showbackground": true,
            "ticks": "",
            "zerolinecolor": "white"
           }
          },
          "shapedefaults": {
           "line": {
            "color": "#2a3f5f"
           }
          },
          "ternary": {
           "aaxis": {
            "gridcolor": "white",
            "linecolor": "white",
            "ticks": ""
           },
           "baxis": {
            "gridcolor": "white",
            "linecolor": "white",
            "ticks": ""
           },
           "bgcolor": "#E5ECF6",
           "caxis": {
            "gridcolor": "white",
            "linecolor": "white",
            "ticks": ""
           }
          },
          "title": {
           "x": 0.05
          },
          "xaxis": {
           "automargin": true,
           "gridcolor": "white",
           "linecolor": "white",
           "ticks": "",
           "title": {
            "standoff": 15
           },
           "zerolinecolor": "white",
           "zerolinewidth": 2
          },
          "yaxis": {
           "automargin": true,
           "gridcolor": "white",
           "linecolor": "white",
           "ticks": "",
           "title": {
            "standoff": 15
           },
           "zerolinecolor": "white",
           "zerolinewidth": 2
          }
         }
        },
        "title": {
         "text": "peaks: 7, dips: 6"
        },
        "xaxis": {
         "rangeslider": {
          "visible": false
         },
         "title": {
          "text": "Time"
         }
        },
        "yaxis": {
         "title": {
          "text": "Price"
         }
        }
       }
      }
     },
     "metadata": {},
     "output_type": "display_data"
    }
   ],
   "source": [
    "# Create a candlestick chart and add the detected peaks and dips\n",
    "fig = create_base_candlestick_chart(\n",
    "    df, title=f\"peaks: {len(dfx['high_local_peaks'].dropna())}, dips: {len(dfx['low_local_dips'].dropna())}\"\n",
    ")\n",
    "\n",
    "# Add peaks to the chart\n",
    "fig = add_chart_to_figure(\n",
    "    fig,\n",
    "    go.Scatter(\n",
    "        x=dfx.index,\n",
    "        y=dfx[\"high_local_peaks\"],\n",
    "        mode=\"markers\",\n",
    "        name=\"Local Peaks\",\n",
    "        marker={\"color\": \"green\", \"size\": 10},\n",
    "    ),\n",
    ")\n",
    "\n",
    "# Add dips to the chart\n",
    "fig = add_chart_to_figure(\n",
    "    fig,\n",
    "    go.Scatter(\n",
    "        x=dfx.index,\n",
    "        y=dfx[\"low_local_dips\"],\n",
    "        mode=\"markers\",\n",
    "        name=\"Local Dips\",\n",
    "        marker={\"color\": \"red\", \"size\": 10},\n",
    "    ),\n",
    ")\n",
    "\n",
    "fig.show()"
   ]
  }
 ],
 "metadata": {
  "kernelspec": {
   "display_name": ".venv",
   "language": "python",
   "name": "python3"
  },
  "language_info": {
   "codemirror_mode": {
    "name": "ipython",
    "version": 3
   },
   "file_extension": ".py",
   "mimetype": "text/x-python",
   "name": "python",
   "nbconvert_exporter": "python",
   "pygments_lexer": "ipython3",
   "version": "3.13.0"
  }
 },
 "nbformat": 4,
 "nbformat_minor": 5
}
