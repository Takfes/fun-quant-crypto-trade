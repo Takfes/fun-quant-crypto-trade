{
  "cells": [
    {
      "cell_type": "code",
      "execution_count": 1,
      "id": "42c3f0f7",
      "metadata": {},
      "outputs": [],
      "source": [
        "import plotly.graph_objects as go\n",
        "from plotly.subplots import make_subplots\n",
        "\n",
        "from pytrade.features.tafeatures import CandlePatternTransformer, candle_pattern_transformer_func\n",
        "from pytrade.loaders import fetch_crypto_ohlcv_data\n",
        "from pytrade.plotting import add_chart_to_figure, create_base_candlestick_chart"
      ]
    },
    {
      "cell_type": "code",
      "execution_count": 19,
      "id": "c1078afd",
      "metadata": {},
      "outputs": [],
      "source": [
        "dfc = fetch_crypto_ohlcv_data(symbol=\"BTC/USDT\", timeframe=\"4h\", lookback_period=\"1m\")\n",
        "\n",
        "df = dfc.copy()"
      ]
    },
    {
      "cell_type": "code",
      "execution_count": 20,
      "id": "5cdfdf1e",
      "metadata": {},
      "outputs": [
        {
          "data": {
            "text/html": [
              "<div>\n",
              "<style scoped>\n",
              "    .dataframe tbody tr th:only-of-type {\n",
              "        vertical-align: middle;\n",
              "    }\n",
              "\n",
              "    .dataframe tbody tr th {\n",
              "        vertical-align: top;\n",
              "    }\n",
              "\n",
              "    .dataframe thead th {\n",
              "        text-align: right;\n",
              "    }\n",
              "</style>\n",
              "<table border=\"1\" class=\"dataframe\">\n",
              "  <thead>\n",
              "    <tr style=\"text-align: right;\">\n",
              "      <th></th>\n",
              "      <th>symbol</th>\n",
              "      <th>open</th>\n",
              "      <th>high</th>\n",
              "      <th>low</th>\n",
              "      <th>close</th>\n",
              "      <th>volume</th>\n",
              "      <th>CDL2CROWS_pattern</th>\n",
              "      <th>CDL3BLACKCROWS_pattern</th>\n",
              "      <th>CDL3INSIDE_pattern</th>\n",
              "      <th>CDL3LINESTRIKE_pattern</th>\n",
              "      <th>...</th>\n",
              "      <th>CDLSPINNINGTOP_pattern</th>\n",
              "      <th>CDLSTALLEDPATTERN_pattern</th>\n",
              "      <th>CDLSTICKSANDWICH_pattern</th>\n",
              "      <th>CDLTAKURI_pattern</th>\n",
              "      <th>CDLTASUKIGAP_pattern</th>\n",
              "      <th>CDLTHRUSTING_pattern</th>\n",
              "      <th>CDLTRISTAR_pattern</th>\n",
              "      <th>CDLUNIQUE3RIVER_pattern</th>\n",
              "      <th>CDLUPSIDEGAP2CROWS_pattern</th>\n",
              "      <th>CDLXSIDEGAP3METHODS_pattern</th>\n",
              "    </tr>\n",
              "    <tr>\n",
              "      <th>timestamp</th>\n",
              "      <th></th>\n",
              "      <th></th>\n",
              "      <th></th>\n",
              "      <th></th>\n",
              "      <th></th>\n",
              "      <th></th>\n",
              "      <th></th>\n",
              "      <th></th>\n",
              "      <th></th>\n",
              "      <th></th>\n",
              "      <th></th>\n",
              "      <th></th>\n",
              "      <th></th>\n",
              "      <th></th>\n",
              "      <th></th>\n",
              "      <th></th>\n",
              "      <th></th>\n",
              "      <th></th>\n",
              "      <th></th>\n",
              "      <th></th>\n",
              "      <th></th>\n",
              "    </tr>\n",
              "  </thead>\n",
              "  <tbody>\n",
              "    <tr>\n",
              "      <th>2025-04-14 00:00:00</th>\n",
              "      <td>BTC/USDT</td>\n",
              "      <td>83760.00</td>\n",
              "      <td>85544.30</td>\n",
              "      <td>83678.00</td>\n",
              "      <td>84566.03</td>\n",
              "      <td>9144.98601</td>\n",
              "      <td>0</td>\n",
              "      <td>0</td>\n",
              "      <td>0</td>\n",
              "      <td>0</td>\n",
              "      <td>...</td>\n",
              "      <td>0</td>\n",
              "      <td>0</td>\n",
              "      <td>0</td>\n",
              "      <td>0</td>\n",
              "      <td>0</td>\n",
              "      <td>0</td>\n",
              "      <td>0</td>\n",
              "      <td>0</td>\n",
              "      <td>0</td>\n",
              "      <td>0</td>\n",
              "    </tr>\n",
              "    <tr>\n",
              "      <th>2025-04-14 04:00:00</th>\n",
              "      <td>BTC/USDT</td>\n",
              "      <td>84566.04</td>\n",
              "      <td>85110.00</td>\n",
              "      <td>84211.06</td>\n",
              "      <td>84580.76</td>\n",
              "      <td>3626.62247</td>\n",
              "      <td>0</td>\n",
              "      <td>0</td>\n",
              "      <td>0</td>\n",
              "      <td>0</td>\n",
              "      <td>...</td>\n",
              "      <td>0</td>\n",
              "      <td>0</td>\n",
              "      <td>0</td>\n",
              "      <td>0</td>\n",
              "      <td>0</td>\n",
              "      <td>0</td>\n",
              "      <td>0</td>\n",
              "      <td>0</td>\n",
              "      <td>0</td>\n",
              "      <td>0</td>\n",
              "    </tr>\n",
              "    <tr>\n",
              "      <th>2025-04-14 08:00:00</th>\n",
              "      <td>BTC/USDT</td>\n",
              "      <td>84580.77</td>\n",
              "      <td>84965.34</td>\n",
              "      <td>84250.00</td>\n",
              "      <td>84927.55</td>\n",
              "      <td>2672.53505</td>\n",
              "      <td>0</td>\n",
              "      <td>0</td>\n",
              "      <td>0</td>\n",
              "      <td>0</td>\n",
              "      <td>...</td>\n",
              "      <td>0</td>\n",
              "      <td>0</td>\n",
              "      <td>0</td>\n",
              "      <td>0</td>\n",
              "      <td>0</td>\n",
              "      <td>0</td>\n",
              "      <td>0</td>\n",
              "      <td>0</td>\n",
              "      <td>0</td>\n",
              "      <td>0</td>\n",
              "    </tr>\n",
              "    <tr>\n",
              "      <th>2025-04-14 12:00:00</th>\n",
              "      <td>BTC/USDT</td>\n",
              "      <td>84927.56</td>\n",
              "      <td>85799.99</td>\n",
              "      <td>83709.25</td>\n",
              "      <td>84101.16</td>\n",
              "      <td>6912.07940</td>\n",
              "      <td>0</td>\n",
              "      <td>0</td>\n",
              "      <td>0</td>\n",
              "      <td>0</td>\n",
              "      <td>...</td>\n",
              "      <td>0</td>\n",
              "      <td>0</td>\n",
              "      <td>0</td>\n",
              "      <td>0</td>\n",
              "      <td>0</td>\n",
              "      <td>0</td>\n",
              "      <td>0</td>\n",
              "      <td>0</td>\n",
              "      <td>0</td>\n",
              "      <td>0</td>\n",
              "    </tr>\n",
              "    <tr>\n",
              "      <th>2025-04-14 16:00:00</th>\n",
              "      <td>BTC/USDT</td>\n",
              "      <td>84101.16</td>\n",
              "      <td>85208.10</td>\n",
              "      <td>83863.63</td>\n",
              "      <td>84923.07</td>\n",
              "      <td>4493.01122</td>\n",
              "      <td>0</td>\n",
              "      <td>0</td>\n",
              "      <td>0</td>\n",
              "      <td>0</td>\n",
              "      <td>...</td>\n",
              "      <td>0</td>\n",
              "      <td>0</td>\n",
              "      <td>0</td>\n",
              "      <td>0</td>\n",
              "      <td>0</td>\n",
              "      <td>0</td>\n",
              "      <td>0</td>\n",
              "      <td>0</td>\n",
              "      <td>0</td>\n",
              "      <td>0</td>\n",
              "    </tr>\n",
              "  </tbody>\n",
              "</table>\n",
              "<p>5 rows \u00d7 67 columns</p>\n",
              "</div>"
            ],
            "text/plain": [
              "                       symbol      open      high       low     close  \\\n",
              "timestamp                                                               \n",
              "2025-04-14 00:00:00  BTC/USDT  83760.00  85544.30  83678.00  84566.03   \n",
              "2025-04-14 04:00:00  BTC/USDT  84566.04  85110.00  84211.06  84580.76   \n",
              "2025-04-14 08:00:00  BTC/USDT  84580.77  84965.34  84250.00  84927.55   \n",
              "2025-04-14 12:00:00  BTC/USDT  84927.56  85799.99  83709.25  84101.16   \n",
              "2025-04-14 16:00:00  BTC/USDT  84101.16  85208.10  83863.63  84923.07   \n",
              "\n",
              "                         volume  CDL2CROWS_pattern  CDL3BLACKCROWS_pattern  \\\n",
              "timestamp                                                                    \n",
              "2025-04-14 00:00:00  9144.98601                  0                       0   \n",
              "2025-04-14 04:00:00  3626.62247                  0                       0   \n",
              "2025-04-14 08:00:00  2672.53505                  0                       0   \n",
              "2025-04-14 12:00:00  6912.07940                  0                       0   \n",
              "2025-04-14 16:00:00  4493.01122                  0                       0   \n",
              "\n",
              "                     CDL3INSIDE_pattern  CDL3LINESTRIKE_pattern  ...  \\\n",
              "timestamp                                                        ...   \n",
              "2025-04-14 00:00:00                   0                       0  ...   \n",
              "2025-04-14 04:00:00                   0                       0  ...   \n",
              "2025-04-14 08:00:00                   0                       0  ...   \n",
              "2025-04-14 12:00:00                   0                       0  ...   \n",
              "2025-04-14 16:00:00                   0                       0  ...   \n",
              "\n",
              "                     CDLSPINNINGTOP_pattern  CDLSTALLEDPATTERN_pattern  \\\n",
              "timestamp                                                                \n",
              "2025-04-14 00:00:00                       0                          0   \n",
              "2025-04-14 04:00:00                       0                          0   \n",
              "2025-04-14 08:00:00                       0                          0   \n",
              "2025-04-14 12:00:00                       0                          0   \n",
              "2025-04-14 16:00:00                       0                          0   \n",
              "\n",
              "                     CDLSTICKSANDWICH_pattern  CDLTAKURI_pattern  \\\n",
              "timestamp                                                          \n",
              "2025-04-14 00:00:00                         0                  0   \n",
              "2025-04-14 04:00:00                         0                  0   \n",
              "2025-04-14 08:00:00                         0                  0   \n",
              "2025-04-14 12:00:00                         0                  0   \n",
              "2025-04-14 16:00:00                         0                  0   \n",
              "\n",
              "                     CDLTASUKIGAP_pattern  CDLTHRUSTING_pattern  \\\n",
              "timestamp                                                         \n",
              "2025-04-14 00:00:00                     0                     0   \n",
              "2025-04-14 04:00:00                     0                     0   \n",
              "2025-04-14 08:00:00                     0                     0   \n",
              "2025-04-14 12:00:00                     0                     0   \n",
              "2025-04-14 16:00:00                     0                     0   \n",
              "\n",
              "                     CDLTRISTAR_pattern  CDLUNIQUE3RIVER_pattern  \\\n",
              "timestamp                                                          \n",
              "2025-04-14 00:00:00                   0                        0   \n",
              "2025-04-14 04:00:00                   0                        0   \n",
              "2025-04-14 08:00:00                   0                        0   \n",
              "2025-04-14 12:00:00                   0                        0   \n",
              "2025-04-14 16:00:00                   0                        0   \n",
              "\n",
              "                     CDLUPSIDEGAP2CROWS_pattern  CDLXSIDEGAP3METHODS_pattern  \n",
              "timestamp                                                                     \n",
              "2025-04-14 00:00:00                           0                            0  \n",
              "2025-04-14 04:00:00                           0                            0  \n",
              "2025-04-14 08:00:00                           0                            0  \n",
              "2025-04-14 12:00:00                           0                            0  \n",
              "2025-04-14 16:00:00                           0                            0  \n",
              "\n",
              "[5 rows x 67 columns]"
            ]
          },
          "execution_count": 20,
          "metadata": {},
          "output_type": "execute_result"
        }
      ],
      "source": [
        "aa = candle_pattern_transformer_func(df)\n",
        "\n",
        "rsi_divergence_transformer = CandlePatternTransformer()\n",
        "bb = rsi_divergence_transformer.fit_transform(df)\n",
        "\n",
        "aa.equals(bb)\n",
        "\n",
        "aa.head()"
      ]
    },
    {
      "cell_type": "code",
      "execution_count": 21,
      "id": "5123cd86",
      "metadata": {},
      "outputs": [
        {
          "data": {
            "text/plain": [
              "Index(['CDL2CROWS_pattern', 'CDL3BLACKCROWS_pattern', 'CDL3INSIDE_pattern',\n",
              "       'CDL3LINESTRIKE_pattern', 'CDL3OUTSIDE_pattern',\n",
              "       'CDL3STARSINSOUTH_pattern', 'CDL3WHITESOLDIERS_pattern',\n",
              "       'CDLABANDONEDBABY_pattern', 'CDLADVANCEBLOCK_pattern',\n",
              "       'CDLBELTHOLD_pattern', 'CDLBREAKAWAY_pattern',\n",
              "       'CDLCLOSINGMARUBOZU_pattern', 'CDLCONCEALBABYSWALL_pattern',\n",
              "       'CDLCOUNTERATTACK_pattern', 'CDLDARKCLOUDCOVER_pattern',\n",
              "       'CDLDOJI_pattern', 'CDLDOJISTAR_pattern', 'CDLDRAGONFLYDOJI_pattern',\n",
              "       'CDLENGULFING_pattern', 'CDLEVENINGDOJISTAR_pattern',\n",
              "       'CDLEVENINGSTAR_pattern', 'CDLGAPSIDESIDEWHITE_pattern',\n",
              "       'CDLGRAVESTONEDOJI_pattern', 'CDLHAMMER_pattern',\n",
              "       'CDLHANGINGMAN_pattern', 'CDLHARAMI_pattern', 'CDLHARAMICROSS_pattern',\n",
              "       'CDLHIGHWAVE_pattern', 'CDLHIKKAKE_pattern', 'CDLHIKKAKEMOD_pattern',\n",
              "       'CDLHOMINGPIGEON_pattern', 'CDLIDENTICAL3CROWS_pattern',\n",
              "       'CDLINNECK_pattern', 'CDLINVERTEDHAMMER_pattern', 'CDLKICKING_pattern',\n",
              "       'CDLKICKINGBYLENGTH_pattern', 'CDLLADDERBOTTOM_pattern',\n",
              "       'CDLLONGLEGGEDDOJI_pattern', 'CDLLONGLINE_pattern',\n",
              "       'CDLMARUBOZU_pattern', 'CDLMATCHINGLOW_pattern', 'CDLMATHOLD_pattern',\n",
              "       'CDLMORNINGDOJISTAR_pattern', 'CDLMORNINGSTAR_pattern',\n",
              "       'CDLONNECK_pattern', 'CDLPIERCING_pattern', 'CDLRICKSHAWMAN_pattern',\n",
              "       'CDLRISEFALL3METHODS_pattern', 'CDLSEPARATINGLINES_pattern',\n",
              "       'CDLSHOOTINGSTAR_pattern', 'CDLSHORTLINE_pattern',\n",
              "       'CDLSPINNINGTOP_pattern', 'CDLSTALLEDPATTERN_pattern',\n",
              "       'CDLSTICKSANDWICH_pattern', 'CDLTAKURI_pattern', 'CDLTASUKIGAP_pattern',\n",
              "       'CDLTHRUSTING_pattern', 'CDLTRISTAR_pattern', 'CDLUNIQUE3RIVER_pattern',\n",
              "       'CDLUPSIDEGAP2CROWS_pattern', 'CDLXSIDEGAP3METHODS_pattern'],\n",
              "      dtype='object')"
            ]
          },
          "execution_count": 21,
          "metadata": {},
          "output_type": "execute_result"
        }
      ],
      "source": [
        "aa.filter(like=\"pattern\").columns"
      ]
    },
    {
      "cell_type": "code",
      "execution_count": 22,
      "id": "e0468ee6",
      "metadata": {},
      "outputs": [
        {
          "data": {
            "text/html": [
              "<div>\n",
              "<style scoped>\n",
              "    .dataframe tbody tr th:only-of-type {\n",
              "        vertical-align: middle;\n",
              "    }\n",
              "\n",
              "    .dataframe tbody tr th {\n",
              "        vertical-align: top;\n",
              "    }\n",
              "\n",
              "    .dataframe thead th {\n",
              "        text-align: right;\n",
              "    }\n",
              "</style>\n",
              "<table border=\"1\" class=\"dataframe\">\n",
              "  <thead>\n",
              "    <tr style=\"text-align: right;\">\n",
              "      <th></th>\n",
              "      <th>CDL2CROWS_pattern</th>\n",
              "      <th>CDL3BLACKCROWS_pattern</th>\n",
              "      <th>CDL3INSIDE_pattern</th>\n",
              "      <th>CDL3LINESTRIKE_pattern</th>\n",
              "      <th>CDL3OUTSIDE_pattern</th>\n",
              "      <th>CDL3STARSINSOUTH_pattern</th>\n",
              "      <th>CDL3WHITESOLDIERS_pattern</th>\n",
              "      <th>CDLABANDONEDBABY_pattern</th>\n",
              "      <th>CDLADVANCEBLOCK_pattern</th>\n",
              "      <th>CDLBELTHOLD_pattern</th>\n",
              "      <th>...</th>\n",
              "      <th>CDLSPINNINGTOP_pattern</th>\n",
              "      <th>CDLSTALLEDPATTERN_pattern</th>\n",
              "      <th>CDLSTICKSANDWICH_pattern</th>\n",
              "      <th>CDLTAKURI_pattern</th>\n",
              "      <th>CDLTASUKIGAP_pattern</th>\n",
              "      <th>CDLTHRUSTING_pattern</th>\n",
              "      <th>CDLTRISTAR_pattern</th>\n",
              "      <th>CDLUNIQUE3RIVER_pattern</th>\n",
              "      <th>CDLUPSIDEGAP2CROWS_pattern</th>\n",
              "      <th>CDLXSIDEGAP3METHODS_pattern</th>\n",
              "    </tr>\n",
              "  </thead>\n",
              "  <tbody>\n",
              "    <tr>\n",
              "      <th>count</th>\n",
              "      <td>180.0</td>\n",
              "      <td>180.0</td>\n",
              "      <td>180.0</td>\n",
              "      <td>180.0</td>\n",
              "      <td>180.000000</td>\n",
              "      <td>180.0</td>\n",
              "      <td>180.0</td>\n",
              "      <td>180.0</td>\n",
              "      <td>180.000000</td>\n",
              "      <td>180.000000</td>\n",
              "      <td>...</td>\n",
              "      <td>180.000000</td>\n",
              "      <td>180.000000</td>\n",
              "      <td>180.0</td>\n",
              "      <td>180.000000</td>\n",
              "      <td>180.0</td>\n",
              "      <td>180.0</td>\n",
              "      <td>180.0</td>\n",
              "      <td>180.0</td>\n",
              "      <td>180.0</td>\n",
              "      <td>180.0</td>\n",
              "    </tr>\n",
              "    <tr>\n",
              "      <th>mean</th>\n",
              "      <td>0.0</td>\n",
              "      <td>0.0</td>\n",
              "      <td>0.0</td>\n",
              "      <td>0.0</td>\n",
              "      <td>0.000000</td>\n",
              "      <td>0.0</td>\n",
              "      <td>0.0</td>\n",
              "      <td>0.0</td>\n",
              "      <td>-2.222222</td>\n",
              "      <td>5.555556</td>\n",
              "      <td>...</td>\n",
              "      <td>-1.666667</td>\n",
              "      <td>-0.555556</td>\n",
              "      <td>0.0</td>\n",
              "      <td>2.222222</td>\n",
              "      <td>0.0</td>\n",
              "      <td>0.0</td>\n",
              "      <td>0.0</td>\n",
              "      <td>0.0</td>\n",
              "      <td>0.0</td>\n",
              "      <td>0.0</td>\n",
              "    </tr>\n",
              "    <tr>\n",
              "      <th>std</th>\n",
              "      <td>0.0</td>\n",
              "      <td>0.0</td>\n",
              "      <td>0.0</td>\n",
              "      <td>0.0</td>\n",
              "      <td>14.948702</td>\n",
              "      <td>0.0</td>\n",
              "      <td>0.0</td>\n",
              "      <td>0.0</td>\n",
              "      <td>14.781672</td>\n",
              "      <td>41.912682</td>\n",
              "      <td>...</td>\n",
              "      <td>46.647376</td>\n",
              "      <td>7.453560</td>\n",
              "      <td>0.0</td>\n",
              "      <td>14.781672</td>\n",
              "      <td>0.0</td>\n",
              "      <td>0.0</td>\n",
              "      <td>0.0</td>\n",
              "      <td>0.0</td>\n",
              "      <td>0.0</td>\n",
              "      <td>0.0</td>\n",
              "    </tr>\n",
              "    <tr>\n",
              "      <th>min</th>\n",
              "      <td>0.0</td>\n",
              "      <td>0.0</td>\n",
              "      <td>0.0</td>\n",
              "      <td>0.0</td>\n",
              "      <td>-100.000000</td>\n",
              "      <td>0.0</td>\n",
              "      <td>0.0</td>\n",
              "      <td>0.0</td>\n",
              "      <td>-100.000000</td>\n",
              "      <td>-100.000000</td>\n",
              "      <td>...</td>\n",
              "      <td>-100.000000</td>\n",
              "      <td>-100.000000</td>\n",
              "      <td>0.0</td>\n",
              "      <td>0.000000</td>\n",
              "      <td>0.0</td>\n",
              "      <td>0.0</td>\n",
              "      <td>0.0</td>\n",
              "      <td>0.0</td>\n",
              "      <td>0.0</td>\n",
              "      <td>0.0</td>\n",
              "    </tr>\n",
              "    <tr>\n",
              "      <th>25%</th>\n",
              "      <td>0.0</td>\n",
              "      <td>0.0</td>\n",
              "      <td>0.0</td>\n",
              "      <td>0.0</td>\n",
              "      <td>0.000000</td>\n",
              "      <td>0.0</td>\n",
              "      <td>0.0</td>\n",
              "      <td>0.0</td>\n",
              "      <td>0.000000</td>\n",
              "      <td>0.000000</td>\n",
              "      <td>...</td>\n",
              "      <td>0.000000</td>\n",
              "      <td>0.000000</td>\n",
              "      <td>0.0</td>\n",
              "      <td>0.000000</td>\n",
              "      <td>0.0</td>\n",
              "      <td>0.0</td>\n",
              "      <td>0.0</td>\n",
              "      <td>0.0</td>\n",
              "      <td>0.0</td>\n",
              "      <td>0.0</td>\n",
              "    </tr>\n",
              "    <tr>\n",
              "      <th>50%</th>\n",
              "      <td>0.0</td>\n",
              "      <td>0.0</td>\n",
              "      <td>0.0</td>\n",
              "      <td>0.0</td>\n",
              "      <td>0.000000</td>\n",
              "      <td>0.0</td>\n",
              "      <td>0.0</td>\n",
              "      <td>0.0</td>\n",
              "      <td>0.000000</td>\n",
              "      <td>0.000000</td>\n",
              "      <td>...</td>\n",
              "      <td>0.000000</td>\n",
              "      <td>0.000000</td>\n",
              "      <td>0.0</td>\n",
              "      <td>0.000000</td>\n",
              "      <td>0.0</td>\n",
              "      <td>0.0</td>\n",
              "      <td>0.0</td>\n",
              "      <td>0.0</td>\n",
              "      <td>0.0</td>\n",
              "      <td>0.0</td>\n",
              "    </tr>\n",
              "    <tr>\n",
              "      <th>75%</th>\n",
              "      <td>0.0</td>\n",
              "      <td>0.0</td>\n",
              "      <td>0.0</td>\n",
              "      <td>0.0</td>\n",
              "      <td>0.000000</td>\n",
              "      <td>0.0</td>\n",
              "      <td>0.0</td>\n",
              "      <td>0.0</td>\n",
              "      <td>0.000000</td>\n",
              "      <td>0.000000</td>\n",
              "      <td>...</td>\n",
              "      <td>0.000000</td>\n",
              "      <td>0.000000</td>\n",
              "      <td>0.0</td>\n",
              "      <td>0.000000</td>\n",
              "      <td>0.0</td>\n",
              "      <td>0.0</td>\n",
              "      <td>0.0</td>\n",
              "      <td>0.0</td>\n",
              "      <td>0.0</td>\n",
              "      <td>0.0</td>\n",
              "    </tr>\n",
              "    <tr>\n",
              "      <th>max</th>\n",
              "      <td>0.0</td>\n",
              "      <td>0.0</td>\n",
              "      <td>0.0</td>\n",
              "      <td>0.0</td>\n",
              "      <td>100.000000</td>\n",
              "      <td>0.0</td>\n",
              "      <td>0.0</td>\n",
              "      <td>0.0</td>\n",
              "      <td>0.000000</td>\n",
              "      <td>100.000000</td>\n",
              "      <td>...</td>\n",
              "      <td>100.000000</td>\n",
              "      <td>0.000000</td>\n",
              "      <td>0.0</td>\n",
              "      <td>100.000000</td>\n",
              "      <td>0.0</td>\n",
              "      <td>0.0</td>\n",
              "      <td>0.0</td>\n",
              "      <td>0.0</td>\n",
              "      <td>0.0</td>\n",
              "      <td>0.0</td>\n",
              "    </tr>\n",
              "  </tbody>\n",
              "</table>\n",
              "<p>8 rows \u00d7 61 columns</p>\n",
              "</div>"
            ],
            "text/plain": [
              "       CDL2CROWS_pattern  CDL3BLACKCROWS_pattern  CDL3INSIDE_pattern  \\\n",
              "count              180.0                   180.0               180.0   \n",
              "mean                 0.0                     0.0                 0.0   \n",
              "std                  0.0                     0.0                 0.0   \n",
              "min                  0.0                     0.0                 0.0   \n",
              "25%                  0.0                     0.0                 0.0   \n",
              "50%                  0.0                     0.0                 0.0   \n",
              "75%                  0.0                     0.0                 0.0   \n",
              "max                  0.0                     0.0                 0.0   \n",
              "\n",
              "       CDL3LINESTRIKE_pattern  CDL3OUTSIDE_pattern  CDL3STARSINSOUTH_pattern  \\\n",
              "count                   180.0           180.000000                     180.0   \n",
              "mean                      0.0             0.000000                       0.0   \n",
              "std                       0.0            14.948702                       0.0   \n",
              "min                       0.0          -100.000000                       0.0   \n",
              "25%                       0.0             0.000000                       0.0   \n",
              "50%                       0.0             0.000000                       0.0   \n",
              "75%                       0.0             0.000000                       0.0   \n",
              "max                       0.0           100.000000                       0.0   \n",
              "\n",
              "       CDL3WHITESOLDIERS_pattern  CDLABANDONEDBABY_pattern  \\\n",
              "count                      180.0                     180.0   \n",
              "mean                         0.0                       0.0   \n",
              "std                          0.0                       0.0   \n",
              "min                          0.0                       0.0   \n",
              "25%                          0.0                       0.0   \n",
              "50%                          0.0                       0.0   \n",
              "75%                          0.0                       0.0   \n",
              "max                          0.0                       0.0   \n",
              "\n",
              "       CDLADVANCEBLOCK_pattern  CDLBELTHOLD_pattern  ...  \\\n",
              "count               180.000000           180.000000  ...   \n",
              "mean                 -2.222222             5.555556  ...   \n",
              "std                  14.781672            41.912682  ...   \n",
              "min                -100.000000          -100.000000  ...   \n",
              "25%                   0.000000             0.000000  ...   \n",
              "50%                   0.000000             0.000000  ...   \n",
              "75%                   0.000000             0.000000  ...   \n",
              "max                   0.000000           100.000000  ...   \n",
              "\n",
              "       CDLSPINNINGTOP_pattern  CDLSTALLEDPATTERN_pattern  \\\n",
              "count              180.000000                 180.000000   \n",
              "mean                -1.666667                  -0.555556   \n",
              "std                 46.647376                   7.453560   \n",
              "min               -100.000000                -100.000000   \n",
              "25%                  0.000000                   0.000000   \n",
              "50%                  0.000000                   0.000000   \n",
              "75%                  0.000000                   0.000000   \n",
              "max                100.000000                   0.000000   \n",
              "\n",
              "       CDLSTICKSANDWICH_pattern  CDLTAKURI_pattern  CDLTASUKIGAP_pattern  \\\n",
              "count                     180.0         180.000000                 180.0   \n",
              "mean                        0.0           2.222222                   0.0   \n",
              "std                         0.0          14.781672                   0.0   \n",
              "min                         0.0           0.000000                   0.0   \n",
              "25%                         0.0           0.000000                   0.0   \n",
              "50%                         0.0           0.000000                   0.0   \n",
              "75%                         0.0           0.000000                   0.0   \n",
              "max                         0.0         100.000000                   0.0   \n",
              "\n",
              "       CDLTHRUSTING_pattern  CDLTRISTAR_pattern  CDLUNIQUE3RIVER_pattern  \\\n",
              "count                 180.0               180.0                    180.0   \n",
              "mean                    0.0                 0.0                      0.0   \n",
              "std                     0.0                 0.0                      0.0   \n",
              "min                     0.0                 0.0                      0.0   \n",
              "25%                     0.0                 0.0                      0.0   \n",
              "50%                     0.0                 0.0                      0.0   \n",
              "75%                     0.0                 0.0                      0.0   \n",
              "max                     0.0                 0.0                      0.0   \n",
              "\n",
              "       CDLUPSIDEGAP2CROWS_pattern  CDLXSIDEGAP3METHODS_pattern  \n",
              "count                       180.0                        180.0  \n",
              "mean                          0.0                          0.0  \n",
              "std                           0.0                          0.0  \n",
              "min                           0.0                          0.0  \n",
              "25%                           0.0                          0.0  \n",
              "50%                           0.0                          0.0  \n",
              "75%                           0.0                          0.0  \n",
              "max                           0.0                          0.0  \n",
              "\n",
              "[8 rows x 61 columns]"
            ]
          },
          "execution_count": 22,
          "metadata": {},
          "output_type": "execute_result"
        }
      ],
      "source": [
        "aa.filter(like=\"pattern\").describe()"
      ]
    },
    {
      "cell_type": "code",
      "execution_count": null,
      "id": "8f7e6751",
      "metadata": {},
      "outputs": [
        {
          "data": {
            "application/vnd.plotly.v1+json": {
              "config": {
                "plotlyServerURL": "https://plot.ly"
              },
              "data": [
                {
                  "close": {
                    "bdata": "rkfhemCl9ECPwvUoTKb0QM3MzMz4u/RA9ihcj1KI9EDsUbgesbv0QHsUrkf5pvRAw/UoXD/Y9EAfhetRTO30QOF6FK5T5fRA16NwPWK79EAfhetR6IH0QHE9Cte/a/RA9ihcj/pu9ECF61G4Mlr0QClcj8IBhfRAexSuR+m29ECPwvUo4Jb0QEjhehTmg/RA4XoUrqOB9EDhehSu36v0QAAAAAAgpfRAw/UoXDuj9EBcj8L1ELf0QPYoXI8+vfRAAAAAAMC19EAUrkfh6qr0QClcj8LRq/RACtejcGmZ9EB7FK5HLaX0QKRwPQqrn/RAw/UoXDu59EDXo3A9Fs70QGZmZmYWzvRApHA9CnPM9EDNzMzM2MX0QI/C9ShQxfRAXI/C9QzL9ECPwvUoALP0QHsUrkcdivRA9ihcj4qX9EApXI/Cuar0QHE9Ctezy/RAXI/C9VhK9UCuR+F6rFj1QIXrUbi+O/VAzczMzMx+9UCamZmZcVf1QOF6FK7DXfVAzczMzNiF9UB7FK5HzZn1QJqZmZlhovVAKVyPwmkz9kA9CtejbFH2QHE9Ctcv0PZA9ihcjw6/9kDsUbgeXfv2QI/C9Sig0fZArkfherTA9kBI4XoUntP2QHsUrkex3/ZAMzMzMx+g9kDNzMzMuIL2QKRwPQq/nPZAj8L1KCjB9kC4HoXrQdf2QFK4HoXH8fZAexSuR/3H9kCPwvUoxOT2QIXrUbi6GvdAUrgehVM190AAAAAAsEP3QBSuR+HqGvdAcT0K1z8h90Bcj8L1pBb3QFyPwvUA/PZAcT0K11MK90AAAAAAOAb3QAAAAABAGvdAw/UoXMP89kDhehSuH/f2QI/C9SgA7vZAexSuR9Hs9kAAAAAAGA73QM3MzMxU4/ZAFK5H4Z7p9kBxPQrXRx73QHE9Ctd/RfdAj8L1KJjo9kAzMzMzMyT3QBSuR+EyMvdAj8L1KCwc90ApXI/CWSz3QHE9CtebOfdAmpmZmbEn90A9CtejTET3QOxRuB4NA/dACtejcI0z90BxPQrXzxn3QPYoXI+KPPdASOF6FErz9kCPwvUogPz2QAAAAADA/fZAmpmZmekj90AK16NwHTP3QI/C9ShAe/dAzczMzGSl90CPwvUotJD3QPYoXI+ejvdA7FG4HuW090AAAAAA4IX3QFK4HoUPqvdApHA9CiPD90DhehSuw6n3QNejcD1yp/dAAAAAABiF90AUrkfhKoT3QB+F61FgbPdAFK5H4SqK90AK16NwJYb3QIXrUbgGZ/dA4XoUrqNe90BxPQrXf2j3QDMzMzPzS/dAmpmZmblO90DsUbgeAVb3QLgehetZBPdAUrgehff09kD2KFyPniL3QBSuR+Fi9fZAXI/C9aTk9kCF61G4sgj3QBSuR+HaIPdAj8L1KGAP90BxPQrXDwz3QD0K16NI5/ZAMzMzM+8V90AAAAAAOC/3QB+F61EgpPdAZmZmZq6P90DsUbgeLa73QBSuR+F2sfdA9ihcj76p90CPwvUoQHv3QAAAAABosPdAPQrXoww1+EAK16NwRTv4QNejcD0SRfhAexSuR2GZ+EBxPQrXP7v4QJqZmZnZNflAPQrXozAD+UAfhetRzEz5QFyPwvXkIvlAcT0K1/8e+UCF61G4UjH5QHE9Cte/I/lAcT0K16Mz+UDD9Shc+1T5QKRwPQqvQPlAH4XrUSwu+UCamZmZdTH5QK5H4XqYlvlArkfhenBk+UBSuB6Flz35QI/C9SjAjPlAAAAAAGBt+UAAAAAAQH75QAAAAABga/lASOF6FEJq+UBxPQrXP4H5QGZmZmYuVflAj8L1KPQH+UAAAAAAQN74QOxRuB51GPlAZmZmZnbV+EAAAAAAmBD5QDMzMzMTU/lAzczMzChQ+UBSuB6Fg5X5QD0K16P0dPlA",
                    "dtype": "f8"
                  },
                  "high": {
                    "bdata": "zczMzITi9EAAAAAAYMf0QArXo3BVvvRAcT0K13/y9ECamZmZgc30QDMzMzO7vvRAmpmZmXHa9ECamZmZcff0QAAAAAAA//RAhetRuAYe9UDNzMzMqMn0QJqZmZm9kPRAAAAAAIB/9EAAAAAAYHb0QM3MzMzwifRAH4XrUWTR9EAAAAAAwN/0QK5H4Xp4rPRAAAAAAACh9EBI4XoU1sP0QKRwPQrHsfRAFK5H4e639ECPwvUo4N30QAAAAABAyfRAexSuR8HI9EAfhetRaLb0QAAAAADAsfRAMzMzMx+y9EBxPQrXn6r0QHE9CtfHrPRAj8L1KKy/9EAAAAAAQNP0QFK4HoXL2/RAcT0K19/q9EBcj8L1INX0QBSuR+F+1/RAj8L1KIzU9EAAAAAAAND0QAAAAAAQs/RAAAAAAICr9EAK16Nwgav0QAAAAAAg0/RAAAAAAIBl9UAAAAAAoGv1QI/C9Sg0b/VAcT0K1x+Z9UBI4XoU7oz1QBSuR+GaZPVAAAAAANCy9UAAAAAAYJr1QBSuR+Hep/VAw/UoXPdS9kAAAAAA8GL2QAAAAAAA7PZAzczMzFDt9kAAAAAAgAP3QD0K16OcE/dAzczMzIAe90AUrkfhvgD3QK5H4XrY7fZAZmZmZrrl9kCkcD0Kf672QKRwPQobn/ZAAAAAAKDQ9kBcj8L1GN32QAAAAABQ8/ZAAAAAAMAO90AAAAAAQOr2QAAAAABAHPdAPQrXo+Bg90BxPQrXL1T3QDMzMzMXR/dAAAAAAPA990AUrkfh7ib3QD0K16PYIPdAAAAAAKAL90C4HoXrrQr3QAAAAACAKvdAAAAAAJBI90BmZmZmCgX3QJqZmZm9B/dA9ihcj9799kA9CtejLA73QDMzMzMXFfdAzczMzDTy9kAAAAAAACX3QAAAAADgU/dAAAAAAOBY90AAAAAAgCz3QAAAAADAPPdArkfhelhO90AAAAAAAC/3QMP1KFxbQ/dAAAAAAEBE90BxPQrXP073QAAAAAAAS/dAj8L1KHA490AAAAAAwDz3QDMzMzPHP/dAZmZmZu4+90AAAAAAQBL3QJqZmZkBJPdAzczMzAQ090AAAAAAwDz3QFyPwvXEiPdAH4XrUQDJ90CPwvUodMX3QB+F61Fcp/dAmpmZmRG990CuR+F63MH3QAAAAADAtPdAFK5H4Xrm90AfhetRcN/3QAAAAAAAt/dAhetRuHqq90AAAAAAEJX3QPYoXI9eivdApHA9CteP90B7FK5HxYr3QHE9CteXi/dA4XoUrgeD90ApXI/C7Xj3QD0K16M4a/dA4XoUrqdc90DhehSuj1n3QHsUrkfhYPdAZmZmZoYl90DD9Shclyb3QI/C9SjgJPdAcT0K1zsU90AAAAAAQCv3QAAAAADwPfdAcT0K1+8s90CPwvUo4Br3QHE9CtcPDPdASOF6FNYg90AAAAAAUDv3QGZmZmaKqfdAAAAAAEDc90CuR+F6WK/3QAAAAABwtfdAH4XrUWTM90A9CtejEKz3QAAAAADgxvdAUrgehWM5+EAAAAAAsEX4QAAAAAAAY/hArkfhelDJ+EAfhetRsNT4QI/C9SgcbflApHA9Ckc2+UDNzMzMlHr5QAAAAACgX/lA9ihcjxpX+UA9CtejqDz5QAAAAAAAP/lA7FG4Hh02+UAAAAAAQGr5QLgehev1aPlAZmZmZhZZ+UAUrkfhOkz5QOxRuB6JoflAAAAAAMCg+UAAAAAAAH35QAAAAACQlPlAAAAAAICb+UDsUbgeDZj5QLgehespiPlAhetRuOan+UAzMzMzt9X5QDMzMzMHkvlAw/UoXF+L+UBI4XoUDiv5QIXrUbh+LflA7FG4HnUY+UCuR+F69CH5QK5H4XrgWPlAAAAAAOBh+UAAAAAABKH5QAAAAAAAnvlA",
                    "dtype": "f8"
                  },
                  "low": {
                    "bdata": "AAAAAOBt9EBcj8L1MI/0QAAAAACgkfRAAAAAANRv9EBI4XoUenn0QB+F61GInPRAUrgehb+X9ECamZmZWcr0QAAAAABw1vRA4XoUrvuo9ECkcD0KE330QAAAAAAAafRA16NwPXpK9EDXo3A9ylD0QNejcD1OTPRAMzMzM4Nj9EAAAAAAsFT0QAAAAACAg/RA4XoUrmd29EAAAAAAwHv0QIXrUbjyjfRAj8L1KIRx9EAK16NwmZr0QMP1KFwDr/RAmpmZmUmv9EDhehSu05v0QAAAAACEn/RAAAAAACCX9EDD9Shc/5T0QGZmZmZil/RAMzMzM8eY9EDD9ShcO7n0QDMzMzO3x/RAAAAAAODE9EBxPQrXZ630QEjhehR6wfRAH4XrUaTD9EAUrkfhYqz0QB+F61HYfvRAzczMzDSI9EBxPQrXC5P0QOF6FK6LqPRAj8L1KIzJ9EAAAAAA4D/1QD0K16NEJ/VAUrgehb8v9UCuR+F6XBf1QGZmZmZyNvVArkfhekBC9UApXI/CHXn1QHsUrkcVi/VAAAAAACCa9UCuR+F6ACD2QAAAAABAO/ZAFK5H4UKa9kDD9Shcl7X2QDMzMzPHyPZA9ihcj/Zx9kA9CtejEK/2QJqZmZlhw/ZAAAAAAKCe9kBI4XoUWnz2QI/C9SjAYPZArkfheiyR9kC4HoXrqZ/2QAAAAAAAtvZAw/UoXH+r9kBcj8L1WLX2QOxRuB491vZA9ihcj5bu9kCamZmZJQr3QClcj8KZDvdACtejcP0T90BSuB6Fywr3QJqZmZlp8vZApHA9Cuvq9kAAAAAAkPX2QAAAAABw+PZAmpmZmZn19kAAAAAAcN32QFyPwvW86/ZAexSuRyna9kB7FK5H8eH2QDMzMzOb3PZAj8L1KACo9kAUrkfhnun2QOF6FK43CPdAZmZmZv7Y9kAAAAAAQND2QDMzMzMfBvdAMzMzM7sO90AAAAAAgP/2QI/C9ShwIfdAmpmZmT0U90BxPQrXLxz3QD0K16Po4vZA4XoUrof79kAAAAAAQBL3QHsUrkf5E/dAAAAAAOCu9kDD9Shci9X2QAAAAABQ8/ZAFK5H4Sb79kBI4XoUph/3QD0K16MQLPdA9ihcj5ph90CkcD0Kh4r3QKRwPQqDe/dAw/UoXCON90AAAAAA4IX3QAAAAADghfdApHA9Cq+Y90AK16NwHaD3QOxRuB4Zk/dAH4XrUcCC90CF61G4Snj3QD0K16PEZvdAZmZmZopo90AUrkfh2mf3QI/C9SiQYPdAAAAAAEBW90AzMzMzy1z3QK5H4XpsQ/dA7FG4HpE+90B7FK5HdUD3QEjhehR2/PZAmpmZmaHU9kD2KFyPSvT2QAAAAAAA7PZA9ihcj9ra9kBI4XoU+uP2QAAAAABA6/ZArkfheszz9kBI4XoUSgb3QEjhehSK4fZAAAAAABDM9kAAAAAAgAD3QAAAAABMD/dAmpmZmQF990DXo3A9boP3QHsUrkcVpPdA16NwPZKc90ApXI/CiWL3QIXrUbjOdPdAPQrXo8Sm90AAAAAANBr4QD0K16OQOPhA9ihcjyox+EAAAAAAQI/4QMP1KFxbuvhAAAAAAMD9+ECuR+F6YP74QAAAAABQAflAcT0K178A+UDXo3A9svr4QAAAAAB0FPlAj8L1KCwa+UAAAAAAqCf5QAAAAABgPPlAAAAAAMAr+UB7FK5H1SX5QLgehevNKflAzczMzKBC+UBcj8L1EDv5QDMzMzNPPflA9ihcj/5V+UAAAAAAYFT5QB+F61EcSflAZmZmZmJR+UAAAAAAYFT5QAAAAACQTPlAAAAAAED/+EC4HoXr5Zb4QDMzMzOj2PhAMzMzM1vD+EBcj8L1qM74QBSuR+HCCPlA7FG4HrUZ+UAUrkfhwkb5QOxRuB4Nb/lA",
                    "dtype": "f8"
                  },
                  "name": "Candlesticks",
                  "open": {
                    "bdata": "AAAAAABz9EA9CtejYKX0QB+F61FMpvRAXI/C9fi79ED2KFyPUoj0QOxRuB6xu/RAexSuR/mm9EBSuB6FP9j0QB+F61FM7fRA4XoUrlPl9EBmZmZmYrv0QI/C9SjogfRAcT0K179r9ED2KFyP+m70QIXrUbgyWvRAKVyPwgWF9EB7FK5H6bb0QAAAAADglvRASOF6FOaD9EDhehSuo4H0QOF6FK7fq/RAAAAAACCl9EBSuB6FO6P0QM3MzMwQt/RAhetRuD699EBxPQrXv7X0QBSuR+HqqvRAKVyPwtGr9ECamZmZaZn0QHsUrkctpfRAMzMzM6uf9EBSuB6FO7n0QEjhehQWzvRAZmZmZhbO9EAUrkfhcsz0QFyPwvXYxfRAAAAAAFDF9EDsUbgeDcv0QI/C9SgAs/RA7FG4Hh2K9EBmZmZmipf0QClcj8K5qvRAcT0K17PL9EBcj8L1WEr1QD0K16OsWPVAhetRuL479UBcj8L1zH71QArXo3BxV/VAUrgehcNd9UDNzMzM2IX1QOxRuB7NmfVACtejcGGi9UApXI/CaTP2QK5H4XpsUfZAcT0K1y/Q9kD2KFyPDr/2QOxRuB5d+/ZAj8L1KKDR9kCuR+F6tMD2QEjhehSe0/ZA7FG4HrHf9kAzMzMzH6D2QD0K16O4gvZApHA9Cr+c9kAfhetRKMH2QLgehetB1/ZAUrgehcfx9kB7FK5H/cf2QB+F61HE5PZAhetRuLoa90DD9ShcUzX3QAAAAACwQ/dAFK5H4eoa90BxPQrXPyH3QFyPwvWkFvdA7FG4HgH89kBxPQrXUwr3QI/C9Sg4BvdAAAAAAEAa90BSuB6Fw/z2QHE9Ctcf9/ZAAAAAAADu9kAK16Nw0ez2QHE9CtcXDvdAPQrXo1Tj9kAUrkfhnun2QHE9CtdHHvdAcT0K139F90AAAAAAmOj2QOF6FK4rJPdAFK5H4TIy90AAAAAALBz3QClcj8JZLPdAcT0K15s590CamZmZsSf3QD0K16NMRPdA7FG4Hg0D90AK16NwjTP3QHE9CtfPGfdA9ihcj4o890BI4XoUSvP2QI/C9SiA/PZAAAAAAMD99kCamZmZ6SP3QArXo3AdM/dAj8L1KEB790Bcj8L1ZKX3QI/C9Si0kPdAZmZmZp6O90DsUbge5bT3QI/C9SjghfdAUrgehQ+q90CkcD0KI8P3QOF6FK7DqfdASOF6FHKn90AAAAAAGIX3QBSuR+EqhPdAj8L1KGBs90AUrkfhKor3QArXo3AlhvdAhetRuAZn90BSuB6Fo173QHE9Ctd/aPdApHA9CvNL90CamZmZuU73QOxRuB4BVvdAKVyPwlkE90BSuB6F9/T2QPYoXI+eIvdApHA9CmP19kDsUbgepeT2QPYoXI+yCPdAFK5H4dog90CPwvUoYA/3QOF6FK4PDPdArkfhekjn9kCkcD0K7xX3QAAAAAA4L/dAH4XrUSCk90BmZmZmro/3QOxRuB4trvdAFK5H4Xax90D2KFyPvqn3QAAAAABAe/dAAAAAAGiw90A9CtejDDX4QArXo3BFO/hAZmZmZhJF+EB7FK5HYZn4QAAAAABAu/hAKVyPwtk1+UA9CtejMAP5QI/C9SjMTPlAXI/C9eQi+UBxPQrX/x75QIXrUbhSMflAcT0K178j+UAAAAAApDP5QMP1KFz7VPlApHA9Cq9A+UCPwvUoLC75QJqZmZl1MflArkfhepiW+UCuR+F6cGT5QMP1KFyXPflAj8L1KMCM+UAAAAAAYG35QAAAAABAfvlAAAAAAGBr+UBI4XoUQmr5QHE9Ctc/gflA16NwPS5V+UAfhetR9Af5QHE9Ctc/3vhA7FG4HnUY+UBmZmZmdtX4QAAAAACYEPlAMzMzMxNT+UA9CtejKFD5QMP1KFyDlflA",
                    "dtype": "f8"
                  },
                  "type": "candlestick",
                  "x": [
                    "2025-04-14T00:00:00.000000000",
                    "2025-04-14T04:00:00.000000000",
                    "2025-04-14T08:00:00.000000000",
                    "2025-04-14T12:00:00.000000000",
                    "2025-04-14T16:00:00.000000000",
                    "2025-04-14T20:00:00.000000000",
                    "2025-04-15T00:00:00.000000000",
                    "2025-04-15T04:00:00.000000000",
                    "2025-04-15T08:00:00.000000000",
                    "2025-04-15T12:00:00.000000000",
                    "2025-04-15T16:00:00.000000000",
                    "2025-04-15T20:00:00.000000000",
                    "2025-04-16T00:00:00.000000000",
                    "2025-04-16T04:00:00.000000000",
                    "2025-04-16T08:00:00.000000000",
                    "2025-04-16T12:00:00.000000000",
                    "2025-04-16T16:00:00.000000000",
                    "2025-04-16T20:00:00.000000000",
                    "2025-04-17T00:00:00.000000000",
                    "2025-04-17T04:00:00.000000000",
                    "2025-04-17T08:00:00.000000000",
                    "2025-04-17T12:00:00.000000000",
                    "2025-04-17T16:00:00.000000000",
                    "2025-04-17T20:00:00.000000000",
                    "2025-04-18T00:00:00.000000000",
                    "2025-04-18T04:00:00.000000000",
                    "2025-04-18T08:00:00.000000000",
                    "2025-04-18T12:00:00.000000000",
                    "2025-04-18T16:00:00.000000000",
                    "2025-04-18T20:00:00.000000000",
                    "2025-04-19T00:00:00.000000000",
                    "2025-04-19T04:00:00.000000000",
                    "2025-04-19T08:00:00.000000000",
                    "2025-04-19T12:00:00.000000000",
                    "2025-04-19T16:00:00.000000000",
                    "2025-04-19T20:00:00.000000000",
                    "2025-04-20T00:00:00.000000000",
                    "2025-04-20T04:00:00.000000000",
                    "2025-04-20T08:00:00.000000000",
                    "2025-04-20T12:00:00.000000000",
                    "2025-04-20T16:00:00.000000000",
                    "2025-04-20T20:00:00.000000000",
                    "2025-04-21T00:00:00.000000000",
                    "2025-04-21T04:00:00.000000000",
                    "2025-04-21T08:00:00.000000000",
                    "2025-04-21T12:00:00.000000000",
                    "2025-04-21T16:00:00.000000000",
                    "2025-04-21T20:00:00.000000000",
                    "2025-04-22T00:00:00.000000000",
                    "2025-04-22T04:00:00.000000000",
                    "2025-04-22T08:00:00.000000000",
                    "2025-04-22T12:00:00.000000000",
                    "2025-04-22T16:00:00.000000000",
                    "2025-04-22T20:00:00.000000000",
                    "2025-04-23T00:00:00.000000000",
                    "2025-04-23T04:00:00.000000000",
                    "2025-04-23T08:00:00.000000000",
                    "2025-04-23T12:00:00.000000000",
                    "2025-04-23T16:00:00.000000000",
                    "2025-04-23T20:00:00.000000000",
                    "2025-04-24T00:00:00.000000000",
                    "2025-04-24T04:00:00.000000000",
                    "2025-04-24T08:00:00.000000000",
                    "2025-04-24T12:00:00.000000000",
                    "2025-04-24T16:00:00.000000000",
                    "2025-04-24T20:00:00.000000000",
                    "2025-04-25T00:00:00.000000000",
                    "2025-04-25T04:00:00.000000000",
                    "2025-04-25T08:00:00.000000000",
                    "2025-04-25T12:00:00.000000000",
                    "2025-04-25T16:00:00.000000000",
                    "2025-04-25T20:00:00.000000000",
                    "2025-04-26T00:00:00.000000000",
                    "2025-04-26T04:00:00.000000000",
                    "2025-04-26T08:00:00.000000000",
                    "2025-04-26T12:00:00.000000000",
                    "2025-04-26T16:00:00.000000000",
                    "2025-04-26T20:00:00.000000000",
                    "2025-04-27T00:00:00.000000000",
                    "2025-04-27T04:00:00.000000000",
                    "2025-04-27T08:00:00.000000000",
                    "2025-04-27T12:00:00.000000000",
                    "2025-04-27T16:00:00.000000000",
                    "2025-04-27T20:00:00.000000000",
                    "2025-04-28T00:00:00.000000000",
                    "2025-04-28T04:00:00.000000000",
                    "2025-04-28T08:00:00.000000000",
                    "2025-04-28T12:00:00.000000000",
                    "2025-04-28T16:00:00.000000000",
                    "2025-04-28T20:00:00.000000000",
                    "2025-04-29T00:00:00.000000000",
                    "2025-04-29T04:00:00.000000000",
                    "2025-04-29T08:00:00.000000000",
                    "2025-04-29T12:00:00.000000000",
                    "2025-04-29T16:00:00.000000000",
                    "2025-04-29T20:00:00.000000000",
                    "2025-04-30T00:00:00.000000000",
                    "2025-04-30T04:00:00.000000000",
                    "2025-04-30T08:00:00.000000000",
                    "2025-04-30T12:00:00.000000000",
                    "2025-04-30T16:00:00.000000000",
                    "2025-04-30T20:00:00.000000000",
                    "2025-05-01T00:00:00.000000000",
                    "2025-05-01T04:00:00.000000000",
                    "2025-05-01T08:00:00.000000000",
                    "2025-05-01T12:00:00.000000000",
                    "2025-05-01T16:00:00.000000000",
                    "2025-05-01T20:00:00.000000000",
                    "2025-05-02T00:00:00.000000000",
                    "2025-05-02T04:00:00.000000000",
                    "2025-05-02T08:00:00.000000000",
                    "2025-05-02T12:00:00.000000000",
                    "2025-05-02T16:00:00.000000000",
                    "2025-05-02T20:00:00.000000000",
                    "2025-05-03T00:00:00.000000000",
                    "2025-05-03T04:00:00.000000000",
                    "2025-05-03T08:00:00.000000000",
                    "2025-05-03T12:00:00.000000000",
                    "2025-05-03T16:00:00.000000000",
                    "2025-05-03T20:00:00.000000000",
                    "2025-05-04T00:00:00.000000000",
                    "2025-05-04T04:00:00.000000000",
                    "2025-05-04T08:00:00.000000000",
                    "2025-05-04T12:00:00.000000000",
                    "2025-05-04T16:00:00.000000000",
                    "2025-05-04T20:00:00.000000000",
                    "2025-05-05T00:00:00.000000000",
                    "2025-05-05T04:00:00.000000000",
                    "2025-05-05T08:00:00.000000000",
                    "2025-05-05T12:00:00.000000000",
                    "2025-05-05T16:00:00.000000000",
                    "2025-05-05T20:00:00.000000000",
                    "2025-05-06T00:00:00.000000000",
                    "2025-05-06T04:00:00.000000000",
                    "2025-05-06T08:00:00.000000000",
                    "2025-05-06T12:00:00.000000000",
                    "2025-05-06T16:00:00.000000000",
                    "2025-05-06T20:00:00.000000000",
                    "2025-05-07T00:00:00.000000000",
                    "2025-05-07T04:00:00.000000000",
                    "2025-05-07T08:00:00.000000000",
                    "2025-05-07T12:00:00.000000000",
                    "2025-05-07T16:00:00.000000000",
                    "2025-05-07T20:00:00.000000000",
                    "2025-05-08T00:00:00.000000000",
                    "2025-05-08T04:00:00.000000000",
                    "2025-05-08T08:00:00.000000000",
                    "2025-05-08T12:00:00.000000000",
                    "2025-05-08T16:00:00.000000000",
                    "2025-05-08T20:00:00.000000000",
                    "2025-05-09T00:00:00.000000000",
                    "2025-05-09T04:00:00.000000000",
                    "2025-05-09T08:00:00.000000000",
                    "2025-05-09T12:00:00.000000000",
                    "2025-05-09T16:00:00.000000000",
                    "2025-05-09T20:00:00.000000000",
                    "2025-05-10T00:00:00.000000000",
                    "2025-05-10T04:00:00.000000000",
                    "2025-05-10T08:00:00.000000000",
                    "2025-05-10T12:00:00.000000000",
                    "2025-05-10T16:00:00.000000000",
                    "2025-05-10T20:00:00.000000000",
                    "2025-05-11T00:00:00.000000000",
                    "2025-05-11T04:00:00.000000000",
                    "2025-05-11T08:00:00.000000000",
                    "2025-05-11T12:00:00.000000000",
                    "2025-05-11T16:00:00.000000000",
                    "2025-05-11T20:00:00.000000000",
                    "2025-05-12T00:00:00.000000000",
                    "2025-05-12T04:00:00.000000000",
                    "2025-05-12T08:00:00.000000000",
                    "2025-05-12T12:00:00.000000000",
                    "2025-05-12T16:00:00.000000000",
                    "2025-05-12T20:00:00.000000000",
                    "2025-05-13T00:00:00.000000000",
                    "2025-05-13T04:00:00.000000000",
                    "2025-05-13T08:00:00.000000000",
                    "2025-05-13T12:00:00.000000000",
                    "2025-05-13T16:00:00.000000000",
                    "2025-05-13T20:00:00.000000000"
                  ]
                },
                {
                  "marker": {
                    "color": "purple",
                    "size": 10
                  },
                  "mode": "markers",
                  "name": "CDL3OUTSIDE pattern",
                  "type": "scatter",
                  "x": [
                    "2025-04-14T00:00:00.000000000",
                    "2025-04-14T04:00:00.000000000",
                    "2025-04-14T08:00:00.000000000",
                    "2025-04-14T12:00:00.000000000",
                    "2025-04-14T16:00:00.000000000",
                    "2025-04-14T20:00:00.000000000",
                    "2025-04-15T00:00:00.000000000",
                    "2025-04-15T04:00:00.000000000",
                    "2025-04-15T08:00:00.000000000",
                    "2025-04-15T12:00:00.000000000",
                    "2025-04-15T16:00:00.000000000",
                    "2025-04-15T20:00:00.000000000",
                    "2025-04-16T00:00:00.000000000",
                    "2025-04-16T04:00:00.000000000",
                    "2025-04-16T08:00:00.000000000",
                    "2025-04-16T12:00:00.000000000",
                    "2025-04-16T16:00:00.000000000",
                    "2025-04-16T20:00:00.000000000",
                    "2025-04-17T00:00:00.000000000",
                    "2025-04-17T04:00:00.000000000",
                    "2025-04-17T08:00:00.000000000",
                    "2025-04-17T12:00:00.000000000",
                    "2025-04-17T16:00:00.000000000",
                    "2025-04-17T20:00:00.000000000",
                    "2025-04-18T00:00:00.000000000",
                    "2025-04-18T04:00:00.000000000",
                    "2025-04-18T08:00:00.000000000",
                    "2025-04-18T12:00:00.000000000",
                    "2025-04-18T16:00:00.000000000",
                    "2025-04-18T20:00:00.000000000",
                    "2025-04-19T00:00:00.000000000",
                    "2025-04-19T04:00:00.000000000",
                    "2025-04-19T08:00:00.000000000",
                    "2025-04-19T12:00:00.000000000",
                    "2025-04-19T16:00:00.000000000",
                    "2025-04-19T20:00:00.000000000",
                    "2025-04-20T00:00:00.000000000",
                    "2025-04-20T04:00:00.000000000",
                    "2025-04-20T08:00:00.000000000",
                    "2025-04-20T12:00:00.000000000",
                    "2025-04-20T16:00:00.000000000",
                    "2025-04-20T20:00:00.000000000",
                    "2025-04-21T00:00:00.000000000",
                    "2025-04-21T04:00:00.000000000",
                    "2025-04-21T08:00:00.000000000",
                    "2025-04-21T12:00:00.000000000",
                    "2025-04-21T16:00:00.000000000",
                    "2025-04-21T20:00:00.000000000",
                    "2025-04-22T00:00:00.000000000",
                    "2025-04-22T04:00:00.000000000",
                    "2025-04-22T08:00:00.000000000",
                    "2025-04-22T12:00:00.000000000",
                    "2025-04-22T16:00:00.000000000",
                    "2025-04-22T20:00:00.000000000",
                    "2025-04-23T00:00:00.000000000",
                    "2025-04-23T04:00:00.000000000",
                    "2025-04-23T08:00:00.000000000",
                    "2025-04-23T12:00:00.000000000",
                    "2025-04-23T16:00:00.000000000",
                    "2025-04-23T20:00:00.000000000",
                    "2025-04-24T00:00:00.000000000",
                    "2025-04-24T04:00:00.000000000",
                    "2025-04-24T08:00:00.000000000",
                    "2025-04-24T12:00:00.000000000",
                    "2025-04-24T16:00:00.000000000",
                    "2025-04-24T20:00:00.000000000",
                    "2025-04-25T00:00:00.000000000",
                    "2025-04-25T04:00:00.000000000",
                    "2025-04-25T08:00:00.000000000",
                    "2025-04-25T12:00:00.000000000",
                    "2025-04-25T16:00:00.000000000",
                    "2025-04-25T20:00:00.000000000",
                    "2025-04-26T00:00:00.000000000",
                    "2025-04-26T04:00:00.000000000",
                    "2025-04-26T08:00:00.000000000",
                    "2025-04-26T12:00:00.000000000",
                    "2025-04-26T16:00:00.000000000",
                    "2025-04-26T20:00:00.000000000",
                    "2025-04-27T00:00:00.000000000",
                    "2025-04-27T04:00:00.000000000",
                    "2025-04-27T08:00:00.000000000",
                    "2025-04-27T12:00:00.000000000",
                    "2025-04-27T16:00:00.000000000",
                    "2025-04-27T20:00:00.000000000",
                    "2025-04-28T00:00:00.000000000",
                    "2025-04-28T04:00:00.000000000",
                    "2025-04-28T08:00:00.000000000",
                    "2025-04-28T12:00:00.000000000",
                    "2025-04-28T16:00:00.000000000",
                    "2025-04-28T20:00:00.000000000",
                    "2025-04-29T00:00:00.000000000",
                    "2025-04-29T04:00:00.000000000",
                    "2025-04-29T08:00:00.000000000",
                    "2025-04-29T12:00:00.000000000",
                    "2025-04-29T16:00:00.000000000",
                    "2025-04-29T20:00:00.000000000",
                    "2025-04-30T00:00:00.000000000",
                    "2025-04-30T04:00:00.000000000",
                    "2025-04-30T08:00:00.000000000",
                    "2025-04-30T12:00:00.000000000",
                    "2025-04-30T16:00:00.000000000",
                    "2025-04-30T20:00:00.000000000",
                    "2025-05-01T00:00:00.000000000",
                    "2025-05-01T04:00:00.000000000",
                    "2025-05-01T08:00:00.000000000",
                    "2025-05-01T12:00:00.000000000",
                    "2025-05-01T16:00:00.000000000",
                    "2025-05-01T20:00:00.000000000",
                    "2025-05-02T00:00:00.000000000",
                    "2025-05-02T04:00:00.000000000",
                    "2025-05-02T08:00:00.000000000",
                    "2025-05-02T12:00:00.000000000",
                    "2025-05-02T16:00:00.000000000",
                    "2025-05-02T20:00:00.000000000",
                    "2025-05-03T00:00:00.000000000",
                    "2025-05-03T04:00:00.000000000",
                    "2025-05-03T08:00:00.000000000",
                    "2025-05-03T12:00:00.000000000",
                    "2025-05-03T16:00:00.000000000",
                    "2025-05-03T20:00:00.000000000",
                    "2025-05-04T00:00:00.000000000",
                    "2025-05-04T04:00:00.000000000",
                    "2025-05-04T08:00:00.000000000",
                    "2025-05-04T12:00:00.000000000",
                    "2025-05-04T16:00:00.000000000",
                    "2025-05-04T20:00:00.000000000",
                    "2025-05-05T00:00:00.000000000",
                    "2025-05-05T04:00:00.000000000",
                    "2025-05-05T08:00:00.000000000",
                    "2025-05-05T12:00:00.000000000",
                    "2025-05-05T16:00:00.000000000",
                    "2025-05-05T20:00:00.000000000",
                    "2025-05-06T00:00:00.000000000",
                    "2025-05-06T04:00:00.000000000",
                    "2025-05-06T08:00:00.000000000",
                    "2025-05-06T12:00:00.000000000",
                    "2025-05-06T16:00:00.000000000",
                    "2025-05-06T20:00:00.000000000",
                    "2025-05-07T00:00:00.000000000",
                    "2025-05-07T04:00:00.000000000",
                    "2025-05-07T08:00:00.000000000",
                    "2025-05-07T12:00:00.000000000",
                    "2025-05-07T16:00:00.000000000",
                    "2025-05-07T20:00:00.000000000",
                    "2025-05-08T00:00:00.000000000",
                    "2025-05-08T04:00:00.000000000",
                    "2025-05-08T08:00:00.000000000",
                    "2025-05-08T12:00:00.000000000",
                    "2025-05-08T16:00:00.000000000",
                    "2025-05-08T20:00:00.000000000",
                    "2025-05-09T00:00:00.000000000",
                    "2025-05-09T04:00:00.000000000",
                    "2025-05-09T08:00:00.000000000",
                    "2025-05-09T12:00:00.000000000",
                    "2025-05-09T16:00:00.000000000",
                    "2025-05-09T20:00:00.000000000",
                    "2025-05-10T00:00:00.000000000",
                    "2025-05-10T04:00:00.000000000",
                    "2025-05-10T08:00:00.000000000",
                    "2025-05-10T12:00:00.000000000",
                    "2025-05-10T16:00:00.000000000",
                    "2025-05-10T20:00:00.000000000",
                    "2025-05-11T00:00:00.000000000",
                    "2025-05-11T04:00:00.000000000",
                    "2025-05-11T08:00:00.000000000",
                    "2025-05-11T12:00:00.000000000",
                    "2025-05-11T16:00:00.000000000",
                    "2025-05-11T20:00:00.000000000",
                    "2025-05-12T00:00:00.000000000",
                    "2025-05-12T04:00:00.000000000",
                    "2025-05-12T08:00:00.000000000",
                    "2025-05-12T12:00:00.000000000",
                    "2025-05-12T16:00:00.000000000",
                    "2025-05-12T20:00:00.000000000",
                    "2025-05-13T00:00:00.000000000",
                    "2025-05-13T04:00:00.000000000",
                    "2025-05-13T08:00:00.000000000",
                    "2025-05-13T12:00:00.000000000",
                    "2025-05-13T16:00:00.000000000",
                    "2025-05-13T20:00:00.000000000"
                  ],
                  "y": [
                    null,
                    null,
                    null,
                    null,
                    null,
                    null,
                    null,
                    null,
                    null,
                    null,
                    null,
                    null,
                    null,
                    null,
                    null,
                    null,
                    null,
                    null,
                    null,
                    null,
                    null,
                    null,
                    null,
                    null,
                    null,
                    -100,
                    null,
                    null,
                    null,
                    null,
                    null,
                    null,
                    null,
                    null,
                    null,
                    null,
                    null,
                    null,
                    -100,
                    null,
                    null,
                    null,
                    null,
                    null,
                    null,
                    null,
                    null,
                    null,
                    null,
                    null,
                    null,
                    null,
                    null,
                    null,
                    null,
                    null,
                    null,
                    null,
                    null,
                    null,
                    null,
                    null,
                    null,
                    null,
                    null,
                    null,
                    null,
                    null,
                    null,
                    null,
                    null,
                    null,
                    null,
                    null,
                    null,
                    null,
                    null,
                    null,
                    null,
                    null,
                    null,
                    null,
                    null,
                    null,
                    null,
                    null,
                    null,
                    null,
                    null,
                    null,
                    null,
                    null,
                    null,
                    null,
                    null,
                    null,
                    null,
                    null,
                    null,
                    null,
                    null,
                    null,
                    null,
                    null,
                    null,
                    null,
                    null,
                    null,
                    null,
                    null,
                    null,
                    null,
                    null,
                    null,
                    null,
                    null,
                    null,
                    null,
                    null,
                    null,
                    null,
                    null,
                    null,
                    null,
                    null,
                    null,
                    null,
                    null,
                    null,
                    null,
                    null,
                    null,
                    null,
                    null,
                    null,
                    null,
                    100,
                    null,
                    null,
                    null,
                    null,
                    null,
                    null,
                    null,
                    100,
                    null,
                    null,
                    null,
                    null,
                    null,
                    null,
                    null,
                    null,
                    null,
                    null,
                    null,
                    null,
                    null,
                    null,
                    null,
                    null,
                    null,
                    null,
                    null,
                    null,
                    null,
                    null,
                    null,
                    null,
                    null,
                    null,
                    null,
                    null,
                    null,
                    null,
                    null,
                    null,
                    null,
                    null,
                    null
                  ],
                  "yaxis": "y2"
                }
              ],
              "layout": {
                "template": {
                  "data": {
                    "bar": [
                      {
                        "error_x": {
                          "color": "#2a3f5f"
                        },
                        "error_y": {
                          "color": "#2a3f5f"
                        },
                        "marker": {
                          "line": {
                            "color": "#E5ECF6",
                            "width": 0.5
                          },
                          "pattern": {
                            "fillmode": "overlay",
                            "size": 10,
                            "solidity": 0.2
                          }
                        },
                        "type": "bar"
                      }
                    ],
                    "barpolar": [
                      {
                        "marker": {
                          "line": {
                            "color": "#E5ECF6",
                            "width": 0.5
                          },
                          "pattern": {
                            "fillmode": "overlay",
                            "size": 10,
                            "solidity": 0.2
                          }
                        },
                        "type": "barpolar"
                      }
                    ],
                    "carpet": [
                      {
                        "aaxis": {
                          "endlinecolor": "#2a3f5f",
                          "gridcolor": "white",
                          "linecolor": "white",
                          "minorgridcolor": "white",
                          "startlinecolor": "#2a3f5f"
                        },
                        "baxis": {
                          "endlinecolor": "#2a3f5f",
                          "gridcolor": "white",
                          "linecolor": "white",
                          "minorgridcolor": "white",
                          "startlinecolor": "#2a3f5f"
                        },
                        "type": "carpet"
                      }
                    ],
                    "choropleth": [
                      {
                        "colorbar": {
                          "outlinewidth": 0,
                          "ticks": ""
                        },
                        "type": "choropleth"
                      }
                    ],
                    "contour": [
                      {
                        "colorbar": {
                          "outlinewidth": 0,
                          "ticks": ""
                        },
                        "colorscale": [
                          [
                            0,
                            "#0d0887"
                          ],
                          [
                            0.1111111111111111,
                            "#46039f"
                          ],
                          [
                            0.2222222222222222,
                            "#7201a8"
                          ],
                          [
                            0.3333333333333333,
                            "#9c179e"
                          ],
                          [
                            0.4444444444444444,
                            "#bd3786"
                          ],
                          [
                            0.5555555555555556,
                            "#d8576b"
                          ],
                          [
                            0.6666666666666666,
                            "#ed7953"
                          ],
                          [
                            0.7777777777777778,
                            "#fb9f3a"
                          ],
                          [
                            0.8888888888888888,
                            "#fdca26"
                          ],
                          [
                            1,
                            "#f0f921"
                          ]
                        ],
                        "type": "contour"
                      }
                    ],
                    "contourcarpet": [
                      {
                        "colorbar": {
                          "outlinewidth": 0,
                          "ticks": ""
                        },
                        "type": "contourcarpet"
                      }
                    ],
                    "heatmap": [
                      {
                        "colorbar": {
                          "outlinewidth": 0,
                          "ticks": ""
                        },
                        "colorscale": [
                          [
                            0,
                            "#0d0887"
                          ],
                          [
                            0.1111111111111111,
                            "#46039f"
                          ],
                          [
                            0.2222222222222222,
                            "#7201a8"
                          ],
                          [
                            0.3333333333333333,
                            "#9c179e"
                          ],
                          [
                            0.4444444444444444,
                            "#bd3786"
                          ],
                          [
                            0.5555555555555556,
                            "#d8576b"
                          ],
                          [
                            0.6666666666666666,
                            "#ed7953"
                          ],
                          [
                            0.7777777777777778,
                            "#fb9f3a"
                          ],
                          [
                            0.8888888888888888,
                            "#fdca26"
                          ],
                          [
                            1,
                            "#f0f921"
                          ]
                        ],
                        "type": "heatmap"
                      }
                    ],
                    "histogram": [
                      {
                        "marker": {
                          "pattern": {
                            "fillmode": "overlay",
                            "size": 10,
                            "solidity": 0.2
                          }
                        },
                        "type": "histogram"
                      }
                    ],
                    "histogram2d": [
                      {
                        "colorbar": {
                          "outlinewidth": 0,
                          "ticks": ""
                        },
                        "colorscale": [
                          [
                            0,
                            "#0d0887"
                          ],
                          [
                            0.1111111111111111,
                            "#46039f"
                          ],
                          [
                            0.2222222222222222,
                            "#7201a8"
                          ],
                          [
                            0.3333333333333333,
                            "#9c179e"
                          ],
                          [
                            0.4444444444444444,
                            "#bd3786"
                          ],
                          [
                            0.5555555555555556,
                            "#d8576b"
                          ],
                          [
                            0.6666666666666666,
                            "#ed7953"
                          ],
                          [
                            0.7777777777777778,
                            "#fb9f3a"
                          ],
                          [
                            0.8888888888888888,
                            "#fdca26"
                          ],
                          [
                            1,
                            "#f0f921"
                          ]
                        ],
                        "type": "histogram2d"
                      }
                    ],
                    "histogram2dcontour": [
                      {
                        "colorbar": {
                          "outlinewidth": 0,
                          "ticks": ""
                        },
                        "colorscale": [
                          [
                            0,
                            "#0d0887"
                          ],
                          [
                            0.1111111111111111,
                            "#46039f"
                          ],
                          [
                            0.2222222222222222,
                            "#7201a8"
                          ],
                          [
                            0.3333333333333333,
                            "#9c179e"
                          ],
                          [
                            0.4444444444444444,
                            "#bd3786"
                          ],
                          [
                            0.5555555555555556,
                            "#d8576b"
                          ],
                          [
                            0.6666666666666666,
                            "#ed7953"
                          ],
                          [
                            0.7777777777777778,
                            "#fb9f3a"
                          ],
                          [
                            0.8888888888888888,
                            "#fdca26"
                          ],
                          [
                            1,
                            "#f0f921"
                          ]
                        ],
                        "type": "histogram2dcontour"
                      }
                    ],
                    "mesh3d": [
                      {
                        "colorbar": {
                          "outlinewidth": 0,
                          "ticks": ""
                        },
                        "type": "mesh3d"
                      }
                    ],
                    "parcoords": [
                      {
                        "line": {
                          "colorbar": {
                            "outlinewidth": 0,
                            "ticks": ""
                          }
                        },
                        "type": "parcoords"
                      }
                    ],
                    "pie": [
                      {
                        "automargin": true,
                        "type": "pie"
                      }
                    ],
                    "scatter": [
                      {
                        "fillpattern": {
                          "fillmode": "overlay",
                          "size": 10,
                          "solidity": 0.2
                        },
                        "type": "scatter"
                      }
                    ],
                    "scatter3d": [
                      {
                        "line": {
                          "colorbar": {
                            "outlinewidth": 0,
                            "ticks": ""
                          }
                        },
                        "marker": {
                          "colorbar": {
                            "outlinewidth": 0,
                            "ticks": ""
                          }
                        },
                        "type": "scatter3d"
                      }
                    ],
                    "scattercarpet": [
                      {
                        "marker": {
                          "colorbar": {
                            "outlinewidth": 0,
                            "ticks": ""
                          }
                        },
                        "type": "scattercarpet"
                      }
                    ],
                    "scattergeo": [
                      {
                        "marker": {
                          "colorbar": {
                            "outlinewidth": 0,
                            "ticks": ""
                          }
                        },
                        "type": "scattergeo"
                      }
                    ],
                    "scattergl": [
                      {
                        "marker": {
                          "colorbar": {
                            "outlinewidth": 0,
                            "ticks": ""
                          }
                        },
                        "type": "scattergl"
                      }
                    ],
                    "scattermap": [
                      {
                        "marker": {
                          "colorbar": {
                            "outlinewidth": 0,
                            "ticks": ""
                          }
                        },
                        "type": "scattermap"
                      }
                    ],
                    "scattermapbox": [
                      {
                        "marker": {
                          "colorbar": {
                            "outlinewidth": 0,
                            "ticks": ""
                          }
                        },
                        "type": "scattermapbox"
                      }
                    ],
                    "scatterpolar": [
                      {
                        "marker": {
                          "colorbar": {
                            "outlinewidth": 0,
                            "ticks": ""
                          }
                        },
                        "type": "scatterpolar"
                      }
                    ],
                    "scatterpolargl": [
                      {
                        "marker": {
                          "colorbar": {
                            "outlinewidth": 0,
                            "ticks": ""
                          }
                        },
                        "type": "scatterpolargl"
                      }
                    ],
                    "scatterternary": [
                      {
                        "marker": {
                          "colorbar": {
                            "outlinewidth": 0,
                            "ticks": ""
                          }
                        },
                        "type": "scatterternary"
                      }
                    ],
                    "surface": [
                      {
                        "colorbar": {
                          "outlinewidth": 0,
                          "ticks": ""
                        },
                        "colorscale": [
                          [
                            0,
                            "#0d0887"
                          ],
                          [
                            0.1111111111111111,
                            "#46039f"
                          ],
                          [
                            0.2222222222222222,
                            "#7201a8"
                          ],
                          [
                            0.3333333333333333,
                            "#9c179e"
                          ],
                          [
                            0.4444444444444444,
                            "#bd3786"
                          ],
                          [
                            0.5555555555555556,
                            "#d8576b"
                          ],
                          [
                            0.6666666666666666,
                            "#ed7953"
                          ],
                          [
                            0.7777777777777778,
                            "#fb9f3a"
                          ],
                          [
                            0.8888888888888888,
                            "#fdca26"
                          ],
                          [
                            1,
                            "#f0f921"
                          ]
                        ],
                        "type": "surface"
                      }
                    ],
                    "table": [
                      {
                        "cells": {
                          "fill": {
                            "color": "#EBF0F8"
                          },
                          "line": {
                            "color": "white"
                          }
                        },
                        "header": {
                          "fill": {
                            "color": "#C8D4E3"
                          },
                          "line": {
                            "color": "white"
                          }
                        },
                        "type": "table"
                      }
                    ]
                  },
                  "layout": {
                    "annotationdefaults": {
                      "arrowcolor": "#2a3f5f",
                      "arrowhead": 0,
                      "arrowwidth": 1
                    },
                    "autotypenumbers": "strict",
                    "coloraxis": {
                      "colorbar": {
                        "outlinewidth": 0,
                        "ticks": ""
                      }
                    },
                    "colorscale": {
                      "diverging": [
                        [
                          0,
                          "#8e0152"
                        ],
                        [
                          0.1,
                          "#c51b7d"
                        ],
                        [
                          0.2,
                          "#de77ae"
                        ],
                        [
                          0.3,
                          "#f1b6da"
                        ],
                        [
                          0.4,
                          "#fde0ef"
                        ],
                        [
                          0.5,
                          "#f7f7f7"
                        ],
                        [
                          0.6,
                          "#e6f5d0"
                        ],
                        [
                          0.7,
                          "#b8e186"
                        ],
                        [
                          0.8,
                          "#7fbc41"
                        ],
                        [
                          0.9,
                          "#4d9221"
                        ],
                        [
                          1,
                          "#276419"
                        ]
                      ],
                      "sequential": [
                        [
                          0,
                          "#0d0887"
                        ],
                        [
                          0.1111111111111111,
                          "#46039f"
                        ],
                        [
                          0.2222222222222222,
                          "#7201a8"
                        ],
                        [
                          0.3333333333333333,
                          "#9c179e"
                        ],
                        [
                          0.4444444444444444,
                          "#bd3786"
                        ],
                        [
                          0.5555555555555556,
                          "#d8576b"
                        ],
                        [
                          0.6666666666666666,
                          "#ed7953"
                        ],
                        [
                          0.7777777777777778,
                          "#fb9f3a"
                        ],
                        [
                          0.8888888888888888,
                          "#fdca26"
                        ],
                        [
                          1,
                          "#f0f921"
                        ]
                      ],
                      "sequentialminus": [
                        [
                          0,
                          "#0d0887"
                        ],
                        [
                          0.1111111111111111,
                          "#46039f"
                        ],
                        [
                          0.2222222222222222,
                          "#7201a8"
                        ],
                        [
                          0.3333333333333333,
                          "#9c179e"
                        ],
                        [
                          0.4444444444444444,
                          "#bd3786"
                        ],
                        [
                          0.5555555555555556,
                          "#d8576b"
                        ],
                        [
                          0.6666666666666666,
                          "#ed7953"
                        ],
                        [
                          0.7777777777777778,
                          "#fb9f3a"
                        ],
                        [
                          0.8888888888888888,
                          "#fdca26"
                        ],
                        [
                          1,
                          "#f0f921"
                        ]
                      ]
                    },
                    "colorway": [
                      "#636efa",
                      "#EF553B",
                      "#00cc96",
                      "#ab63fa",
                      "#FFA15A",
                      "#19d3f3",
                      "#FF6692",
                      "#B6E880",
                      "#FF97FF",
                      "#FECB52"
                    ],
                    "font": {
                      "color": "#2a3f5f"
                    },
                    "geo": {
                      "bgcolor": "white",
                      "lakecolor": "white",
                      "landcolor": "#E5ECF6",
                      "showlakes": true,
                      "showland": true,
                      "subunitcolor": "white"
                    },
                    "hoverlabel": {
                      "align": "left"
                    },
                    "hovermode": "closest",
                    "mapbox": {
                      "style": "light"
                    },
                    "paper_bgcolor": "white",
                    "plot_bgcolor": "#E5ECF6",
                    "polar": {
                      "angularaxis": {
                        "gridcolor": "white",
                        "linecolor": "white",
                        "ticks": ""
                      },
                      "bgcolor": "#E5ECF6",
                      "radialaxis": {
                        "gridcolor": "white",
                        "linecolor": "white",
                        "ticks": ""
                      }
                    },
                    "scene": {
                      "xaxis": {
                        "backgroundcolor": "#E5ECF6",
                        "gridcolor": "white",
                        "gridwidth": 2,
                        "linecolor": "white",
                        "showbackground": true,
                        "ticks": "",
                        "zerolinecolor": "white"
                      },
                      "yaxis": {
                        "backgroundcolor": "#E5ECF6",
                        "gridcolor": "white",
                        "gridwidth": 2,
                        "linecolor": "white",
                        "showbackground": true,
                        "ticks": "",
                        "zerolinecolor": "white"
                      },
                      "zaxis": {
                        "backgroundcolor": "#E5ECF6",
                        "gridcolor": "white",
                        "gridwidth": 2,
                        "linecolor": "white",
                        "showbackground": true,
                        "ticks": "",
                        "zerolinecolor": "white"
                      }
                    },
                    "shapedefaults": {
                      "line": {
                        "color": "#2a3f5f"
                      }
                    },
                    "ternary": {
                      "aaxis": {
                        "gridcolor": "white",
                        "linecolor": "white",
                        "ticks": ""
                      },
                      "baxis": {
                        "gridcolor": "white",
                        "linecolor": "white",
                        "ticks": ""
                      },
                      "bgcolor": "#E5ECF6",
                      "caxis": {
                        "gridcolor": "white",
                        "linecolor": "white",
                        "ticks": ""
                      }
                    },
                    "title": {
                      "x": 0.05
                    },
                    "xaxis": {
                      "automargin": true,
                      "gridcolor": "white",
                      "linecolor": "white",
                      "ticks": "",
                      "title": {
                        "standoff": 15
                      },
                      "zerolinecolor": "white",
                      "zerolinewidth": 2
                    },
                    "yaxis": {
                      "automargin": true,
                      "gridcolor": "white",
                      "linecolor": "white",
                      "ticks": "",
                      "title": {
                        "standoff": 15
                      },
                      "zerolinecolor": "white",
                      "zerolinewidth": 2
                    }
                  }
                },
                "title": {
                  "text": "Candlestick Chart"
                },
                "xaxis": {
                  "rangeslider": {
                    "visible": false
                  },
                  "title": {
                    "text": "Time"
                  }
                },
                "yaxis": {
                  "title": {
                    "text": "Price"
                  }
                },
                "yaxis2": {
                  "overlaying": "y",
                  "side": "right",
                  "title": {
                    "text": "Secondary Y-Axis"
                  }
                }
              }
            }
          },
          "metadata": {},
          "output_type": "display_data"
        }
      ],
      "source": [
        "fig1 = create_base_candlestick_chart(aa)\n",
        "\n",
        "\n",
        "fig1 = add_chart_to_figure(\n",
        "    fig1,\n",
        "    go.Scatter(\n",
        "        x=aa.index,\n",
        "        y=aa[\"CDL3OUTSIDE_pattern\"].replace(0, None),\n",
        "        mode=\"markers\",\n",
        "        name=\"CDL3OUTSIDE pattern\",\n",
        "        marker={\"color\": \"purple\", \"size\": 10},\n",
        "    ),\n",
        ")\n",
        "\n",
        "# Deploy a secondary y-axis\n",
        "fig1.data[-1].update(yaxis=\"y2\")\n",
        "\n",
        "fig1.update_layout(yaxis2={\"title\": \"Secondary Y-Axis\", \"overlaying\": \"y\", \"side\": \"right\"})\n",
        "\n",
        "fig1.show()"
      ]
    }
  ],
  "metadata": {
    "kernelspec": {
      "display_name": ".venv",
      "language": "python",
      "name": "python3"
    },
    "language_info": {
      "codemirror_mode": {
        "name": "ipython",
        "version": 3
      },
      "file_extension": ".py",
      "mimetype": "text/x-python",
      "name": "python",
      "nbconvert_exporter": "python",
      "pygments_lexer": "ipython3",
      "version": "3.13.0"
    }
  },
  "nbformat": 4,
  "nbformat_minor": 5
}
