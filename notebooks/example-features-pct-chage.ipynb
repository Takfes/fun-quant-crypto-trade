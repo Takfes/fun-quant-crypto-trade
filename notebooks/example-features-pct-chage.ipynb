{
 "cells": [
  {
   "cell_type": "code",
   "execution_count": 1,
   "id": "7d9df896",
   "metadata": {},
   "outputs": [],
   "source": [
    "import pandas as pd\n",
    "\n",
    "from pytrade.features.trends import PctChangeTransformer, pct_change_transformer_func\n",
    "from pytrade.loaders import fetch_crypto_ohlcv_data"
   ]
  },
  {
   "cell_type": "code",
   "execution_count": 2,
   "id": "600ab292",
   "metadata": {},
   "outputs": [],
   "source": [
    "dfc = fetch_crypto_ohlcv_data(symbol=\"BTC/USDT\", timeframe=\"1d\", lookback_period=\"3m\")"
   ]
  },
  {
   "cell_type": "code",
   "execution_count": 3,
   "id": "ab7f5d0a",
   "metadata": {},
   "outputs": [],
   "source": [
    "df = dfc.copy()"
   ]
  },
  {
   "cell_type": "code",
   "execution_count": 4,
   "id": "0a2240e0",
   "metadata": {},
   "outputs": [],
   "source": [
    "period = [1, 3, 5, 10]"
   ]
  },
  {
   "cell_type": "code",
   "execution_count": 5,
   "id": "286db35c",
   "metadata": {},
   "outputs": [],
   "source": [
    "dfx = pct_change_transformer_func(\n",
    "    df,\n",
    "    column=\"close\",\n",
    "    period=period,\n",
    ")"
   ]
  },
  {
   "cell_type": "code",
   "execution_count": 10,
   "id": "a1895930",
   "metadata": {},
   "outputs": [
    {
     "data": {
      "text/plain": [
       "Index(['symbol', 'open', 'high', 'low', 'close', 'volume',\n",
       "       'close_pct_change_1', 'close_pct_change_3', 'close_pct_change_5',\n",
       "       'close_pct_change_10'],\n",
       "      dtype='object')"
      ]
     },
     "execution_count": 10,
     "metadata": {},
     "output_type": "execute_result"
    }
   ],
   "source": [
    "dfx.columns"
   ]
  },
  {
   "cell_type": "code",
   "execution_count": 11,
   "id": "1eaf305c",
   "metadata": {},
   "outputs": [],
   "source": [
    "ftr = PctChangeTransformer(\n",
    "    column=\"close\",\n",
    "    period=period,\n",
    ")\n",
    "dfxx = ftr.fit_transform(df)"
   ]
  },
  {
   "cell_type": "code",
   "execution_count": 12,
   "id": "95b07df7",
   "metadata": {},
   "outputs": [
    {
     "data": {
      "text/plain": [
       "True"
      ]
     },
     "execution_count": 12,
     "metadata": {},
     "output_type": "execute_result"
    }
   ],
   "source": [
    "dfx.equals(dfxx)"
   ]
  }
 ],
 "metadata": {
  "kernelspec": {
   "display_name": ".venv",
   "language": "python",
   "name": "python3"
  },
  "language_info": {
   "codemirror_mode": {
    "name": "ipython",
    "version": 3
   },
   "file_extension": ".py",
   "mimetype": "text/x-python",
   "name": "python",
   "nbconvert_exporter": "python",
   "pygments_lexer": "ipython3",
   "version": "3.13.0"
  }
 },
 "nbformat": 4,
 "nbformat_minor": 5
}
