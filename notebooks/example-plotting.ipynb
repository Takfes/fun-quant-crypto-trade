{
 "cells": [
  {
   "cell_type": "code",
   "execution_count": 7,
   "id": "7d9df896",
   "metadata": {},
   "outputs": [],
   "source": [
    "import pandas as pd\n",
    "import plotly.graph_objects as go\n",
    "\n",
    "from pytrade.loaders import fetch_crypto_ohlcv_data\n",
    "from pytrade.plotting import add_chart_to_figure, create_base_candlestick_chart, plot_candlestick_chart"
   ]
  },
  {
   "cell_type": "code",
   "execution_count": 2,
   "id": "600ab292",
   "metadata": {},
   "outputs": [],
   "source": [
    "dfc = fetch_crypto_ohlcv_data(symbol=\"BTC/USDT\", timeframe=\"1d\", lookback_period=\"3m\")\n",
    "\n",
    "df = dfc.copy()"
   ]
  },
  {
   "cell_type": "code",
   "execution_count": 3,
   "id": "f9f3c652",
   "metadata": {},
   "outputs": [
    {
     "data": {
      "application/vnd.plotly.v1+json": {
       "config": {
        "plotlyServerURL": "https://plot.ly"
       },
       "data": [
        {
         "close": {
          "bdata": "cT0K19/k90DXo3A9Apb3QOF6FK7HzfdA9ihcjxrS90C4HoXrYXf3QAAAAABAYvdAcT0K13tb90C4HoXrRZj3QAAAAAAQAPhA4XoUrl9790CPwvUocJL3QAAAAAAggPdASOF6FA5a9kBmZmZmhqb1QArXo3ChkfRAexSuR0mu9ECkcD0K35f0QK5H4XoIA/VAAAAAAOAD90ApXI/CyQz1QOF6FK4fT/VAj8L1KOAe9kDXo3A9vvT1QAAAAAAcMfVAMzMzM+cM9UC4HoXr5bXzQClcj8I9MPNAcT0K108/9EC4HoXrAW70QK5H4Xq8zfNAMzMzM/OA9ECkcD0KJ5f0QK5H4XroKPRArkfheqCC9ECuR+F6sDH0QKRwPQrfM/VA16NwPfaP9EA9CtejjIf0QArXo3AJePRAAAAAACgE9UD2KFyPolz1QLgehesNVvVAhetRuNI39UCPwvUoAEz1QEjhehSGnPRAPQrXo4gt9EBxPQrXXx30QI/C9ShgJ/RACtejcGXK9EA9CtejRCX0QArXo3DRUPRAuB6F6x179EBxPQrXH2X0QAAAAADgJfNAcT0K17NT80CF61G4JqLyQFK4HoVzK/RAzczMzHRv80AK16Nw/V30QGZmZmbO0fRAAAAAAABz9EB7FK5H+ab0QHE9Cte/a/RASOF6FOaD9ED2KFyPPr30QKRwPQqrn/RAj8L1KFDF9EBxPQrXs8v0QOF6FK7DXfVAcT0K1y/Q9kB7FK5Hsd/2QFK4HoXH8fZAFK5H4eoa90AAAAAAQBr3QM3MzMxU4/ZAFK5H4TIy90DsUbgeDQP3QAAAAADA/fZA9ihcj56O90DXo3A9cqf3QIXrUbgGZ/dAuB6F61kE90AUrkfh2iD3QB+F61EgpPdAAAAAAGiw90CamZmZ2TX5QHE9Cte/I/lArkfhepiW+UAAAAAAYGv5QOxRuB51GPlAH4XrURRa+UA=",
          "dtype": "f8"
         },
         "high": {
          "bdata": "cT0K13/090D2KFyPPvL3QAAAAACgIPhAj8L1KETr90BSuB6Fh9r3QArXo3BpsfdA9ihcjx6f90BxPQrXP6j3QClcj8J1GfhAAAAAADBJ+EAAAAAAQK33QAAAAACgmPdAAAAAAECP90CkcD0Ky5f2QGZmZmZi1PVAw/UoXGdC9UAAAAAAAMj0QAAAAADgIfVAAAAAAIAx90DD9ShcBw33QB+F61F4uPVAAAAAAIA39kDXo3A9qqj2QB+F61EwSfZAAAAAABQ39UAAAAAAQB71QMP1KFy3ifRAZmZmZhZq9ECamZmZvaP0QHsUrkcFl/RAw/UoXNvT9ECuR+F6RKz0QD0K16PQx/RAexSuR02x9EBxPQrXW4P0QAAAAACAPfVAhetRuNpZ9UB7FK5HJbf0QIXrUbiyo/RA16NwPRoH9UAUrkfh1qv1QEjhehS6nfVAAAAAADCN9UDXo3A9xmz1QIXrUbi6XfVA4XoUrgup9EDXo3A96mT0QHsUrkdxfvRAw/UoXLfk9EAAAAAAQJv1QB+F61HggfRAAAAAAACv9EAAAAAAoJL0QEjhehSadvRAexSuR7nV80BxPQrXP77zQAAAAABAaPRAw/UoXBM09EAAAAAAwJT0QAAAAAAQ+fRAAAAAAEAF9UBxPQrXf/L0QIXrUbgGHvVAAAAAAMDf9ECPwvUo4N30QHsUrkfByPRAcT0K19/q9ECPwvUojNT0QHE9CtcfmfVAAAAAAADs9kDNzMzMgB73QAAAAABQ8/ZAPQrXo+Bg90AAAAAA8D33QAAAAACQSPdAAAAAAOBY90CuR+F6WE73QDMzMzPHP/dAH4XrUQDJ90AUrkfheub3QIXrUbh6qvdA4XoUrgeD90AAAAAA8D33QGZmZmaKqfdAAAAAAEDc90CPwvUoHG35QM3MzMyUevlA7FG4Homh+UAAAAAAwKD5QDMzMzO31flAKVyPwql8+UA=",
          "dtype": "f8"
         },
         "low": {
          "bdata": "4XoUroP49kApXI/CFT/3QOxRuB7Nf/dAexSuR3m890AUrkfh4nL3QAAAAABQPvdACtejcMHM9kBxPQrXXzP3QArXo3DxifdAMzMzM38p90BxPQrXp2H3QKRwPQq/P/dAj8L1KFRN9kBxPQrXLwL1QI/C9SgAFfRAcT0K18cx9EAfhetRKBvzQK5H4XoMd/RAmpmZmanD9EApXI/C0cf0QAAAAADA5fNArkfheugT9UAAAAAAwHH1QK5H4Xqwq/RAUrgehSfO9EAAAAAAAIjzQPYoXI8+6fJAAAAAAOCz8kBmZmZm+q3zQGZmZmY+hPNACtejcC2780AAAAAAIGr0QLgehevRA/RAAAAAAIAh9ED2KFyP6s7zQPYoXI8yJ/RA4XoUrnNs9EAAAAAAdE70QJqZmZmRavRAAAAAABx29EAK16Nw8eD0QAAAAABgEvVAAAAAAED29EAAAAAAgPL0QAAAAAAQaPRAXI/C9czu80AAAAAA0OnzQB+F61Ho1/NAcT0K1wsg9EAAAAAAABn0QHE9Ctez0/NAAAAAALDv80AzMzMzvxz0QHsUrkcd1vJAAAAAAMAw8kBmZmZm/pzyQAAAAADAN/JAKVyPwgUo80B7FK5HmUfzQDMzMzOPNvRA4XoUrqNF9EAAAAAA4G30QAAAAAAAafRA16NwPXpK9ECPwvUohHH0QMP1KFz/lPRAMzMzM8eY9EAfhetR2H70QI/C9SiMyfRArkfhekBC9UD2KFyP9nH2QI/C9SjAYPZAw/UoXH+r9kCkcD0K6+r2QHsUrkcp2vZAj8L1KACo9kA9Ctej6OL2QAAAAADgrvZAFK5H4Sb79kAAAAAA4IX3QI/C9SiQYPdASOF6FHb89kCamZmZodT2QAAAAAAQzPZAKVyPwoli90A9CtejxKb3QNejcD2y+vhAj8L1KCwa+UBcj8L1EDv5QLgehevllvhAMzMzM1vD+EA=",
          "dtype": "f8"
         },
         "name": "Candlesticks",
         "open": {
          "bdata": "w/UoXCNi90AAAAAA4OT3QEjhehQClvdAUrgehcfN90CF61G4GtL3QLgehethd/dAj8L1KEBi90BxPQrXe1v3QLgehetFmPdAj8L1KBAA+EBxPQrXX3v3QI/C9ShwkvdAAAAAACCA90BI4XoUDlr2QNejcD2GpvVACtejcKGR9EDsUbgeSa70QDMzMzPfl/RAPQrXowgD9UBxPQrX3wP3QPYoXI/SDPVA4XoUrh9P9UAAAAAA4B72QEjhehS+9PVAcT0K1xsx9UDD9Shc5wz1QOF6FK7ntfNAKVyPwj0w80BxPQrXTz/0QLgehesBbvRArkfherzN80CkcD0K84D0QKRwPQonl/RAH4XrUego9EAfhetRoIL0QK5H4XqwMfRAFK5H4d4z9UBI4XoU9o/0QD0K16OMh/RACtejcAl49EAAAAAAKAT1QPYoXI+iXPVASOF6FA5W9UCF61G40jf1QI/C9SgATPVASOF6FIac9ECuR+F6iC30QAAAAABgHfRAAAAAAGAn9ECamZmZZcr0QK5H4XpEJfRACtejcNFQ9EC4HoXrHXv0QHE9CtcfZfRAAAAAAOAl80BxPQrXs1PzQIXrUbgmovJAUrgehXMr9EDNzMzMdG/zQHsUrkf9XfRA9ihcj87R9EAAAAAAAHP0QHsUrkf5pvRAcT0K179r9EBI4XoU5oP0QIXrUbg+vfRAMzMzM6uf9EAAAAAAUMX0QHE9Ctezy/RAUrgehcNd9UBxPQrXL9D2QOxRuB6x3/ZAUrgehcfx9kAUrkfh6hr3QAAAAABAGvdAPQrXo1Tj9kAUrkfhMjL3QOxRuB4NA/dAAAAAAMD99kBmZmZmno73QEjhehRyp/dAhetRuAZn90ApXI/CWQT3QBSuR+HaIPdAH4XrUSCk90AAAAAAaLD3QClcj8LZNflAcT0K178j+UCuR+F6mJb5QAAAAABga/lA7FG4HnUY+UA=",
          "dtype": "f8"
         },
         "type": "candlestick",
         "x": [
          "2025-02-12T00:00:00.000000000",
          "2025-02-13T00:00:00.000000000",
          "2025-02-14T00:00:00.000000000",
          "2025-02-15T00:00:00.000000000",
          "2025-02-16T00:00:00.000000000",
          "2025-02-17T00:00:00.000000000",
          "2025-02-18T00:00:00.000000000",
          "2025-02-19T00:00:00.000000000",
          "2025-02-20T00:00:00.000000000",
          "2025-02-21T00:00:00.000000000",
          "2025-02-22T00:00:00.000000000",
          "2025-02-23T00:00:00.000000000",
          "2025-02-24T00:00:00.000000000",
          "2025-02-25T00:00:00.000000000",
          "2025-02-26T00:00:00.000000000",
          "2025-02-27T00:00:00.000000000",
          "2025-02-28T00:00:00.000000000",
          "2025-03-01T00:00:00.000000000",
          "2025-03-02T00:00:00.000000000",
          "2025-03-03T00:00:00.000000000",
          "2025-03-04T00:00:00.000000000",
          "2025-03-05T00:00:00.000000000",
          "2025-03-06T00:00:00.000000000",
          "2025-03-07T00:00:00.000000000",
          "2025-03-08T00:00:00.000000000",
          "2025-03-09T00:00:00.000000000",
          "2025-03-10T00:00:00.000000000",
          "2025-03-11T00:00:00.000000000",
          "2025-03-12T00:00:00.000000000",
          "2025-03-13T00:00:00.000000000",
          "2025-03-14T00:00:00.000000000",
          "2025-03-15T00:00:00.000000000",
          "2025-03-16T00:00:00.000000000",
          "2025-03-17T00:00:00.000000000",
          "2025-03-18T00:00:00.000000000",
          "2025-03-19T00:00:00.000000000",
          "2025-03-20T00:00:00.000000000",
          "2025-03-21T00:00:00.000000000",
          "2025-03-22T00:00:00.000000000",
          "2025-03-23T00:00:00.000000000",
          "2025-03-24T00:00:00.000000000",
          "2025-03-25T00:00:00.000000000",
          "2025-03-26T00:00:00.000000000",
          "2025-03-27T00:00:00.000000000",
          "2025-03-28T00:00:00.000000000",
          "2025-03-29T00:00:00.000000000",
          "2025-03-30T00:00:00.000000000",
          "2025-03-31T00:00:00.000000000",
          "2025-04-01T00:00:00.000000000",
          "2025-04-02T00:00:00.000000000",
          "2025-04-03T00:00:00.000000000",
          "2025-04-04T00:00:00.000000000",
          "2025-04-05T00:00:00.000000000",
          "2025-04-06T00:00:00.000000000",
          "2025-04-07T00:00:00.000000000",
          "2025-04-08T00:00:00.000000000",
          "2025-04-09T00:00:00.000000000",
          "2025-04-10T00:00:00.000000000",
          "2025-04-11T00:00:00.000000000",
          "2025-04-12T00:00:00.000000000",
          "2025-04-13T00:00:00.000000000",
          "2025-04-14T00:00:00.000000000",
          "2025-04-15T00:00:00.000000000",
          "2025-04-16T00:00:00.000000000",
          "2025-04-17T00:00:00.000000000",
          "2025-04-18T00:00:00.000000000",
          "2025-04-19T00:00:00.000000000",
          "2025-04-20T00:00:00.000000000",
          "2025-04-21T00:00:00.000000000",
          "2025-04-22T00:00:00.000000000",
          "2025-04-23T00:00:00.000000000",
          "2025-04-24T00:00:00.000000000",
          "2025-04-25T00:00:00.000000000",
          "2025-04-26T00:00:00.000000000",
          "2025-04-27T00:00:00.000000000",
          "2025-04-28T00:00:00.000000000",
          "2025-04-29T00:00:00.000000000",
          "2025-04-30T00:00:00.000000000",
          "2025-05-01T00:00:00.000000000",
          "2025-05-02T00:00:00.000000000",
          "2025-05-03T00:00:00.000000000",
          "2025-05-04T00:00:00.000000000",
          "2025-05-05T00:00:00.000000000",
          "2025-05-06T00:00:00.000000000",
          "2025-05-07T00:00:00.000000000",
          "2025-05-08T00:00:00.000000000",
          "2025-05-09T00:00:00.000000000",
          "2025-05-10T00:00:00.000000000",
          "2025-05-11T00:00:00.000000000",
          "2025-05-12T00:00:00.000000000",
          "2025-05-13T00:00:00.000000000"
         ]
        }
       ],
       "layout": {
        "template": {
         "data": {
          "bar": [
           {
            "error_x": {
             "color": "#2a3f5f"
            },
            "error_y": {
             "color": "#2a3f5f"
            },
            "marker": {
             "line": {
              "color": "#E5ECF6",
              "width": 0.5
             },
             "pattern": {
              "fillmode": "overlay",
              "size": 10,
              "solidity": 0.2
             }
            },
            "type": "bar"
           }
          ],
          "barpolar": [
           {
            "marker": {
             "line": {
              "color": "#E5ECF6",
              "width": 0.5
             },
             "pattern": {
              "fillmode": "overlay",
              "size": 10,
              "solidity": 0.2
             }
            },
            "type": "barpolar"
           }
          ],
          "carpet": [
           {
            "aaxis": {
             "endlinecolor": "#2a3f5f",
             "gridcolor": "white",
             "linecolor": "white",
             "minorgridcolor": "white",
             "startlinecolor": "#2a3f5f"
            },
            "baxis": {
             "endlinecolor": "#2a3f5f",
             "gridcolor": "white",
             "linecolor": "white",
             "minorgridcolor": "white",
             "startlinecolor": "#2a3f5f"
            },
            "type": "carpet"
           }
          ],
          "choropleth": [
           {
            "colorbar": {
             "outlinewidth": 0,
             "ticks": ""
            },
            "type": "choropleth"
           }
          ],
          "contour": [
           {
            "colorbar": {
             "outlinewidth": 0,
             "ticks": ""
            },
            "colorscale": [
             [
              0,
              "#0d0887"
             ],
             [
              0.1111111111111111,
              "#46039f"
             ],
             [
              0.2222222222222222,
              "#7201a8"
             ],
             [
              0.3333333333333333,
              "#9c179e"
             ],
             [
              0.4444444444444444,
              "#bd3786"
             ],
             [
              0.5555555555555556,
              "#d8576b"
             ],
             [
              0.6666666666666666,
              "#ed7953"
             ],
             [
              0.7777777777777778,
              "#fb9f3a"
             ],
             [
              0.8888888888888888,
              "#fdca26"
             ],
             [
              1,
              "#f0f921"
             ]
            ],
            "type": "contour"
           }
          ],
          "contourcarpet": [
           {
            "colorbar": {
             "outlinewidth": 0,
             "ticks": ""
            },
            "type": "contourcarpet"
           }
          ],
          "heatmap": [
           {
            "colorbar": {
             "outlinewidth": 0,
             "ticks": ""
            },
            "colorscale": [
             [
              0,
              "#0d0887"
             ],
             [
              0.1111111111111111,
              "#46039f"
             ],
             [
              0.2222222222222222,
              "#7201a8"
             ],
             [
              0.3333333333333333,
              "#9c179e"
             ],
             [
              0.4444444444444444,
              "#bd3786"
             ],
             [
              0.5555555555555556,
              "#d8576b"
             ],
             [
              0.6666666666666666,
              "#ed7953"
             ],
             [
              0.7777777777777778,
              "#fb9f3a"
             ],
             [
              0.8888888888888888,
              "#fdca26"
             ],
             [
              1,
              "#f0f921"
             ]
            ],
            "type": "heatmap"
           }
          ],
          "histogram": [
           {
            "marker": {
             "pattern": {
              "fillmode": "overlay",
              "size": 10,
              "solidity": 0.2
             }
            },
            "type": "histogram"
           }
          ],
          "histogram2d": [
           {
            "colorbar": {
             "outlinewidth": 0,
             "ticks": ""
            },
            "colorscale": [
             [
              0,
              "#0d0887"
             ],
             [
              0.1111111111111111,
              "#46039f"
             ],
             [
              0.2222222222222222,
              "#7201a8"
             ],
             [
              0.3333333333333333,
              "#9c179e"
             ],
             [
              0.4444444444444444,
              "#bd3786"
             ],
             [
              0.5555555555555556,
              "#d8576b"
             ],
             [
              0.6666666666666666,
              "#ed7953"
             ],
             [
              0.7777777777777778,
              "#fb9f3a"
             ],
             [
              0.8888888888888888,
              "#fdca26"
             ],
             [
              1,
              "#f0f921"
             ]
            ],
            "type": "histogram2d"
           }
          ],
          "histogram2dcontour": [
           {
            "colorbar": {
             "outlinewidth": 0,
             "ticks": ""
            },
            "colorscale": [
             [
              0,
              "#0d0887"
             ],
             [
              0.1111111111111111,
              "#46039f"
             ],
             [
              0.2222222222222222,
              "#7201a8"
             ],
             [
              0.3333333333333333,
              "#9c179e"
             ],
             [
              0.4444444444444444,
              "#bd3786"
             ],
             [
              0.5555555555555556,
              "#d8576b"
             ],
             [
              0.6666666666666666,
              "#ed7953"
             ],
             [
              0.7777777777777778,
              "#fb9f3a"
             ],
             [
              0.8888888888888888,
              "#fdca26"
             ],
             [
              1,
              "#f0f921"
             ]
            ],
            "type": "histogram2dcontour"
           }
          ],
          "mesh3d": [
           {
            "colorbar": {
             "outlinewidth": 0,
             "ticks": ""
            },
            "type": "mesh3d"
           }
          ],
          "parcoords": [
           {
            "line": {
             "colorbar": {
              "outlinewidth": 0,
              "ticks": ""
             }
            },
            "type": "parcoords"
           }
          ],
          "pie": [
           {
            "automargin": true,
            "type": "pie"
           }
          ],
          "scatter": [
           {
            "fillpattern": {
             "fillmode": "overlay",
             "size": 10,
             "solidity": 0.2
            },
            "type": "scatter"
           }
          ],
          "scatter3d": [
           {
            "line": {
             "colorbar": {
              "outlinewidth": 0,
              "ticks": ""
             }
            },
            "marker": {
             "colorbar": {
              "outlinewidth": 0,
              "ticks": ""
             }
            },
            "type": "scatter3d"
           }
          ],
          "scattercarpet": [
           {
            "marker": {
             "colorbar": {
              "outlinewidth": 0,
              "ticks": ""
             }
            },
            "type": "scattercarpet"
           }
          ],
          "scattergeo": [
           {
            "marker": {
             "colorbar": {
              "outlinewidth": 0,
              "ticks": ""
             }
            },
            "type": "scattergeo"
           }
          ],
          "scattergl": [
           {
            "marker": {
             "colorbar": {
              "outlinewidth": 0,
              "ticks": ""
             }
            },
            "type": "scattergl"
           }
          ],
          "scattermap": [
           {
            "marker": {
             "colorbar": {
              "outlinewidth": 0,
              "ticks": ""
             }
            },
            "type": "scattermap"
           }
          ],
          "scattermapbox": [
           {
            "marker": {
             "colorbar": {
              "outlinewidth": 0,
              "ticks": ""
             }
            },
            "type": "scattermapbox"
           }
          ],
          "scatterpolar": [
           {
            "marker": {
             "colorbar": {
              "outlinewidth": 0,
              "ticks": ""
             }
            },
            "type": "scatterpolar"
           }
          ],
          "scatterpolargl": [
           {
            "marker": {
             "colorbar": {
              "outlinewidth": 0,
              "ticks": ""
             }
            },
            "type": "scatterpolargl"
           }
          ],
          "scatterternary": [
           {
            "marker": {
             "colorbar": {
              "outlinewidth": 0,
              "ticks": ""
             }
            },
            "type": "scatterternary"
           }
          ],
          "surface": [
           {
            "colorbar": {
             "outlinewidth": 0,
             "ticks": ""
            },
            "colorscale": [
             [
              0,
              "#0d0887"
             ],
             [
              0.1111111111111111,
              "#46039f"
             ],
             [
              0.2222222222222222,
              "#7201a8"
             ],
             [
              0.3333333333333333,
              "#9c179e"
             ],
             [
              0.4444444444444444,
              "#bd3786"
             ],
             [
              0.5555555555555556,
              "#d8576b"
             ],
             [
              0.6666666666666666,
              "#ed7953"
             ],
             [
              0.7777777777777778,
              "#fb9f3a"
             ],
             [
              0.8888888888888888,
              "#fdca26"
             ],
             [
              1,
              "#f0f921"
             ]
            ],
            "type": "surface"
           }
          ],
          "table": [
           {
            "cells": {
             "fill": {
              "color": "#EBF0F8"
             },
             "line": {
              "color": "white"
             }
            },
            "header": {
             "fill": {
              "color": "#C8D4E3"
             },
             "line": {
              "color": "white"
             }
            },
            "type": "table"
           }
          ]
         },
         "layout": {
          "annotationdefaults": {
           "arrowcolor": "#2a3f5f",
           "arrowhead": 0,
           "arrowwidth": 1
          },
          "autotypenumbers": "strict",
          "coloraxis": {
           "colorbar": {
            "outlinewidth": 0,
            "ticks": ""
           }
          },
          "colorscale": {
           "diverging": [
            [
             0,
             "#8e0152"
            ],
            [
             0.1,
             "#c51b7d"
            ],
            [
             0.2,
             "#de77ae"
            ],
            [
             0.3,
             "#f1b6da"
            ],
            [
             0.4,
             "#fde0ef"
            ],
            [
             0.5,
             "#f7f7f7"
            ],
            [
             0.6,
             "#e6f5d0"
            ],
            [
             0.7,
             "#b8e186"
            ],
            [
             0.8,
             "#7fbc41"
            ],
            [
             0.9,
             "#4d9221"
            ],
            [
             1,
             "#276419"
            ]
           ],
           "sequential": [
            [
             0,
             "#0d0887"
            ],
            [
             0.1111111111111111,
             "#46039f"
            ],
            [
             0.2222222222222222,
             "#7201a8"
            ],
            [
             0.3333333333333333,
             "#9c179e"
            ],
            [
             0.4444444444444444,
             "#bd3786"
            ],
            [
             0.5555555555555556,
             "#d8576b"
            ],
            [
             0.6666666666666666,
             "#ed7953"
            ],
            [
             0.7777777777777778,
             "#fb9f3a"
            ],
            [
             0.8888888888888888,
             "#fdca26"
            ],
            [
             1,
             "#f0f921"
            ]
           ],
           "sequentialminus": [
            [
             0,
             "#0d0887"
            ],
            [
             0.1111111111111111,
             "#46039f"
            ],
            [
             0.2222222222222222,
             "#7201a8"
            ],
            [
             0.3333333333333333,
             "#9c179e"
            ],
            [
             0.4444444444444444,
             "#bd3786"
            ],
            [
             0.5555555555555556,
             "#d8576b"
            ],
            [
             0.6666666666666666,
             "#ed7953"
            ],
            [
             0.7777777777777778,
             "#fb9f3a"
            ],
            [
             0.8888888888888888,
             "#fdca26"
            ],
            [
             1,
             "#f0f921"
            ]
           ]
          },
          "colorway": [
           "#636efa",
           "#EF553B",
           "#00cc96",
           "#ab63fa",
           "#FFA15A",
           "#19d3f3",
           "#FF6692",
           "#B6E880",
           "#FF97FF",
           "#FECB52"
          ],
          "font": {
           "color": "#2a3f5f"
          },
          "geo": {
           "bgcolor": "white",
           "lakecolor": "white",
           "landcolor": "#E5ECF6",
           "showlakes": true,
           "showland": true,
           "subunitcolor": "white"
          },
          "hoverlabel": {
           "align": "left"
          },
          "hovermode": "closest",
          "mapbox": {
           "style": "light"
          },
          "paper_bgcolor": "white",
          "plot_bgcolor": "#E5ECF6",
          "polar": {
           "angularaxis": {
            "gridcolor": "white",
            "linecolor": "white",
            "ticks": ""
           },
           "bgcolor": "#E5ECF6",
           "radialaxis": {
            "gridcolor": "white",
            "linecolor": "white",
            "ticks": ""
           }
          },
          "scene": {
           "xaxis": {
            "backgroundcolor": "#E5ECF6",
            "gridcolor": "white",
            "gridwidth": 2,
            "linecolor": "white",
            "showbackground": true,
            "ticks": "",
            "zerolinecolor": "white"
           },
           "yaxis": {
            "backgroundcolor": "#E5ECF6",
            "gridcolor": "white",
            "gridwidth": 2,
            "linecolor": "white",
            "showbackground": true,
            "ticks": "",
            "zerolinecolor": "white"
           },
           "zaxis": {
            "backgroundcolor": "#E5ECF6",
            "gridcolor": "white",
            "gridwidth": 2,
            "linecolor": "white",
            "showbackground": true,
            "ticks": "",
            "zerolinecolor": "white"
           }
          },
          "shapedefaults": {
           "line": {
            "color": "#2a3f5f"
           }
          },
          "ternary": {
           "aaxis": {
            "gridcolor": "white",
            "linecolor": "white",
            "ticks": ""
           },
           "baxis": {
            "gridcolor": "white",
            "linecolor": "white",
            "ticks": ""
           },
           "bgcolor": "#E5ECF6",
           "caxis": {
            "gridcolor": "white",
            "linecolor": "white",
            "ticks": ""
           }
          },
          "title": {
           "x": 0.05
          },
          "xaxis": {
           "automargin": true,
           "gridcolor": "white",
           "linecolor": "white",
           "ticks": "",
           "title": {
            "standoff": 15
           },
           "zerolinecolor": "white",
           "zerolinewidth": 2
          },
          "yaxis": {
           "automargin": true,
           "gridcolor": "white",
           "linecolor": "white",
           "ticks": "",
           "title": {
            "standoff": 15
           },
           "zerolinecolor": "white",
           "zerolinewidth": 2
          }
         }
        },
        "title": {
         "text": "Default Candlestick Chart"
        },
        "xaxis": {
         "rangeslider": {
          "visible": false
         },
         "title": {
          "text": "Time"
         }
        },
        "yaxis": {
         "title": {
          "text": "Price"
         }
        }
       }
      }
     },
     "metadata": {},
     "output_type": "display_data"
    }
   ],
   "source": [
    "plot_candlestick_chart(df, title=\"Default Candlestick Chart\")"
   ]
  },
  {
   "cell_type": "code",
   "execution_count": 27,
   "id": "7eaa04ba",
   "metadata": {},
   "outputs": [],
   "source": [
    "fig = create_base_candlestick_chart(df)"
   ]
  },
  {
   "cell_type": "code",
   "execution_count": null,
   "id": "dfea2b2d",
   "metadata": {},
   "outputs": [
    {
     "data": {
      "application/vnd.plotly.v1+json": {
       "config": {
        "plotlyServerURL": "https://plot.ly"
       },
       "data": [
        {
         "close": {
          "bdata": "cT0K19/k90DXo3A9Apb3QOF6FK7HzfdA9ihcjxrS90C4HoXrYXf3QAAAAABAYvdAcT0K13tb90C4HoXrRZj3QAAAAAAQAPhA4XoUrl9790CPwvUocJL3QAAAAAAggPdASOF6FA5a9kBmZmZmhqb1QArXo3ChkfRAexSuR0mu9ECkcD0K35f0QK5H4XoIA/VAAAAAAOAD90ApXI/CyQz1QOF6FK4fT/VAj8L1KOAe9kDXo3A9vvT1QAAAAAAcMfVAMzMzM+cM9UC4HoXr5bXzQClcj8I9MPNAcT0K108/9EC4HoXrAW70QK5H4Xq8zfNAMzMzM/OA9ECkcD0KJ5f0QK5H4XroKPRArkfheqCC9ECuR+F6sDH0QKRwPQrfM/VA16NwPfaP9EA9CtejjIf0QArXo3AJePRAAAAAACgE9UD2KFyPolz1QLgehesNVvVAhetRuNI39UCPwvUoAEz1QEjhehSGnPRAPQrXo4gt9EBxPQrXXx30QI/C9ShgJ/RACtejcGXK9EA9CtejRCX0QArXo3DRUPRAuB6F6x179EBxPQrXH2X0QAAAAADgJfNAcT0K17NT80CF61G4JqLyQFK4HoVzK/RAzczMzHRv80AK16Nw/V30QGZmZmbO0fRAAAAAAABz9EB7FK5H+ab0QHE9Cte/a/RASOF6FOaD9ED2KFyPPr30QKRwPQqrn/RAj8L1KFDF9EBxPQrXs8v0QOF6FK7DXfVAcT0K1y/Q9kB7FK5Hsd/2QFK4HoXH8fZAFK5H4eoa90AAAAAAQBr3QM3MzMxU4/ZAFK5H4TIy90DsUbgeDQP3QAAAAADA/fZA9ihcj56O90DXo3A9cqf3QIXrUbgGZ/dAuB6F61kE90AUrkfh2iD3QB+F61EgpPdAAAAAAGiw90CamZmZ2TX5QHE9Cte/I/lArkfhepiW+UAAAAAAYGv5QOxRuB51GPlAH4XrURRa+UA=",
          "dtype": "f8"
         },
         "high": {
          "bdata": "cT0K13/090D2KFyPPvL3QAAAAACgIPhAj8L1KETr90BSuB6Fh9r3QArXo3BpsfdA9ihcjx6f90BxPQrXP6j3QClcj8J1GfhAAAAAADBJ+EAAAAAAQK33QAAAAACgmPdAAAAAAECP90CkcD0Ky5f2QGZmZmZi1PVAw/UoXGdC9UAAAAAAAMj0QAAAAADgIfVAAAAAAIAx90DD9ShcBw33QB+F61F4uPVAAAAAAIA39kDXo3A9qqj2QB+F61EwSfZAAAAAABQ39UAAAAAAQB71QMP1KFy3ifRAZmZmZhZq9ECamZmZvaP0QHsUrkcFl/RAw/UoXNvT9ECuR+F6RKz0QD0K16PQx/RAexSuR02x9EBxPQrXW4P0QAAAAACAPfVAhetRuNpZ9UB7FK5HJbf0QIXrUbiyo/RA16NwPRoH9UAUrkfh1qv1QEjhehS6nfVAAAAAADCN9UDXo3A9xmz1QIXrUbi6XfVA4XoUrgup9EDXo3A96mT0QHsUrkdxfvRAw/UoXLfk9EAAAAAAQJv1QB+F61HggfRAAAAAAACv9EAAAAAAoJL0QEjhehSadvRAexSuR7nV80BxPQrXP77zQAAAAABAaPRAw/UoXBM09EAAAAAAwJT0QAAAAAAQ+fRAAAAAAEAF9UBxPQrXf/L0QIXrUbgGHvVAAAAAAMDf9ECPwvUo4N30QHsUrkfByPRAcT0K19/q9ECPwvUojNT0QHE9CtcfmfVAAAAAAADs9kDNzMzMgB73QAAAAABQ8/ZAPQrXo+Bg90AAAAAA8D33QAAAAACQSPdAAAAAAOBY90CuR+F6WE73QDMzMzPHP/dAH4XrUQDJ90AUrkfheub3QIXrUbh6qvdA4XoUrgeD90AAAAAA8D33QGZmZmaKqfdAAAAAAEDc90CPwvUoHG35QM3MzMyUevlA7FG4Homh+UAAAAAAwKD5QDMzMzO31flAKVyPwql8+UA=",
          "dtype": "f8"
         },
         "low": {
          "bdata": "4XoUroP49kApXI/CFT/3QOxRuB7Nf/dAexSuR3m890AUrkfh4nL3QAAAAABQPvdACtejcMHM9kBxPQrXXzP3QArXo3DxifdAMzMzM38p90BxPQrXp2H3QKRwPQq/P/dAj8L1KFRN9kBxPQrXLwL1QI/C9SgAFfRAcT0K18cx9EAfhetRKBvzQK5H4XoMd/RAmpmZmanD9EApXI/C0cf0QAAAAADA5fNArkfheugT9UAAAAAAwHH1QK5H4Xqwq/RAUrgehSfO9EAAAAAAAIjzQPYoXI8+6fJAAAAAAOCz8kBmZmZm+q3zQGZmZmY+hPNACtejcC2780AAAAAAIGr0QLgehevRA/RAAAAAAIAh9ED2KFyP6s7zQPYoXI8yJ/RA4XoUrnNs9EAAAAAAdE70QJqZmZmRavRAAAAAABx29EAK16Nw8eD0QAAAAABgEvVAAAAAAED29EAAAAAAgPL0QAAAAAAQaPRAXI/C9czu80AAAAAA0OnzQB+F61Ho1/NAcT0K1wsg9EAAAAAAABn0QHE9Ctez0/NAAAAAALDv80AzMzMzvxz0QHsUrkcd1vJAAAAAAMAw8kBmZmZm/pzyQAAAAADAN/JAKVyPwgUo80B7FK5HmUfzQDMzMzOPNvRA4XoUrqNF9EAAAAAA4G30QAAAAAAAafRA16NwPXpK9ECPwvUohHH0QMP1KFz/lPRAMzMzM8eY9EAfhetR2H70QI/C9SiMyfRArkfhekBC9UD2KFyP9nH2QI/C9SjAYPZAw/UoXH+r9kCkcD0K6+r2QHsUrkcp2vZAj8L1KACo9kA9Ctej6OL2QAAAAADgrvZAFK5H4Sb79kAAAAAA4IX3QI/C9SiQYPdASOF6FHb89kCamZmZodT2QAAAAAAQzPZAKVyPwoli90A9CtejxKb3QNejcD2y+vhAj8L1KCwa+UBcj8L1EDv5QLgehevllvhAMzMzM1vD+EA=",
          "dtype": "f8"
         },
         "name": "Candlesticks",
         "open": {
          "bdata": "w/UoXCNi90AAAAAA4OT3QEjhehQClvdAUrgehcfN90CF61G4GtL3QLgehethd/dAj8L1KEBi90BxPQrXe1v3QLgehetFmPdAj8L1KBAA+EBxPQrXX3v3QI/C9ShwkvdAAAAAACCA90BI4XoUDlr2QNejcD2GpvVACtejcKGR9EDsUbgeSa70QDMzMzPfl/RAPQrXowgD9UBxPQrX3wP3QPYoXI/SDPVA4XoUrh9P9UAAAAAA4B72QEjhehS+9PVAcT0K1xsx9UDD9Shc5wz1QOF6FK7ntfNAKVyPwj0w80BxPQrXTz/0QLgehesBbvRArkfherzN80CkcD0K84D0QKRwPQonl/RAH4XrUego9EAfhetRoIL0QK5H4XqwMfRAFK5H4d4z9UBI4XoU9o/0QD0K16OMh/RACtejcAl49EAAAAAAKAT1QPYoXI+iXPVASOF6FA5W9UCF61G40jf1QI/C9SgATPVASOF6FIac9ECuR+F6iC30QAAAAABgHfRAAAAAAGAn9ECamZmZZcr0QK5H4XpEJfRACtejcNFQ9EC4HoXrHXv0QHE9CtcfZfRAAAAAAOAl80BxPQrXs1PzQIXrUbgmovJAUrgehXMr9EDNzMzMdG/zQHsUrkf9XfRA9ihcj87R9EAAAAAAAHP0QHsUrkf5pvRAcT0K179r9EBI4XoU5oP0QIXrUbg+vfRAMzMzM6uf9EAAAAAAUMX0QHE9Ctezy/RAUrgehcNd9UBxPQrXL9D2QOxRuB6x3/ZAUrgehcfx9kAUrkfh6hr3QAAAAABAGvdAPQrXo1Tj9kAUrkfhMjL3QOxRuB4NA/dAAAAAAMD99kBmZmZmno73QEjhehRyp/dAhetRuAZn90ApXI/CWQT3QBSuR+HaIPdAH4XrUSCk90AAAAAAaLD3QClcj8LZNflAcT0K178j+UCuR+F6mJb5QAAAAABga/lA7FG4HnUY+UA=",
          "dtype": "f8"
         },
         "type": "candlestick",
         "x": [
          "2025-02-12T00:00:00.000000000",
          "2025-02-13T00:00:00.000000000",
          "2025-02-14T00:00:00.000000000",
          "2025-02-15T00:00:00.000000000",
          "2025-02-16T00:00:00.000000000",
          "2025-02-17T00:00:00.000000000",
          "2025-02-18T00:00:00.000000000",
          "2025-02-19T00:00:00.000000000",
          "2025-02-20T00:00:00.000000000",
          "2025-02-21T00:00:00.000000000",
          "2025-02-22T00:00:00.000000000",
          "2025-02-23T00:00:00.000000000",
          "2025-02-24T00:00:00.000000000",
          "2025-02-25T00:00:00.000000000",
          "2025-02-26T00:00:00.000000000",
          "2025-02-27T00:00:00.000000000",
          "2025-02-28T00:00:00.000000000",
          "2025-03-01T00:00:00.000000000",
          "2025-03-02T00:00:00.000000000",
          "2025-03-03T00:00:00.000000000",
          "2025-03-04T00:00:00.000000000",
          "2025-03-05T00:00:00.000000000",
          "2025-03-06T00:00:00.000000000",
          "2025-03-07T00:00:00.000000000",
          "2025-03-08T00:00:00.000000000",
          "2025-03-09T00:00:00.000000000",
          "2025-03-10T00:00:00.000000000",
          "2025-03-11T00:00:00.000000000",
          "2025-03-12T00:00:00.000000000",
          "2025-03-13T00:00:00.000000000",
          "2025-03-14T00:00:00.000000000",
          "2025-03-15T00:00:00.000000000",
          "2025-03-16T00:00:00.000000000",
          "2025-03-17T00:00:00.000000000",
          "2025-03-18T00:00:00.000000000",
          "2025-03-19T00:00:00.000000000",
          "2025-03-20T00:00:00.000000000",
          "2025-03-21T00:00:00.000000000",
          "2025-03-22T00:00:00.000000000",
          "2025-03-23T00:00:00.000000000",
          "2025-03-24T00:00:00.000000000",
          "2025-03-25T00:00:00.000000000",
          "2025-03-26T00:00:00.000000000",
          "2025-03-27T00:00:00.000000000",
          "2025-03-28T00:00:00.000000000",
          "2025-03-29T00:00:00.000000000",
          "2025-03-30T00:00:00.000000000",
          "2025-03-31T00:00:00.000000000",
          "2025-04-01T00:00:00.000000000",
          "2025-04-02T00:00:00.000000000",
          "2025-04-03T00:00:00.000000000",
          "2025-04-04T00:00:00.000000000",
          "2025-04-05T00:00:00.000000000",
          "2025-04-06T00:00:00.000000000",
          "2025-04-07T00:00:00.000000000",
          "2025-04-08T00:00:00.000000000",
          "2025-04-09T00:00:00.000000000",
          "2025-04-10T00:00:00.000000000",
          "2025-04-11T00:00:00.000000000",
          "2025-04-12T00:00:00.000000000",
          "2025-04-13T00:00:00.000000000",
          "2025-04-14T00:00:00.000000000",
          "2025-04-15T00:00:00.000000000",
          "2025-04-16T00:00:00.000000000",
          "2025-04-17T00:00:00.000000000",
          "2025-04-18T00:00:00.000000000",
          "2025-04-19T00:00:00.000000000",
          "2025-04-20T00:00:00.000000000",
          "2025-04-21T00:00:00.000000000",
          "2025-04-22T00:00:00.000000000",
          "2025-04-23T00:00:00.000000000",
          "2025-04-24T00:00:00.000000000",
          "2025-04-25T00:00:00.000000000",
          "2025-04-26T00:00:00.000000000",
          "2025-04-27T00:00:00.000000000",
          "2025-04-28T00:00:00.000000000",
          "2025-04-29T00:00:00.000000000",
          "2025-04-30T00:00:00.000000000",
          "2025-05-01T00:00:00.000000000",
          "2025-05-02T00:00:00.000000000",
          "2025-05-03T00:00:00.000000000",
          "2025-05-04T00:00:00.000000000",
          "2025-05-05T00:00:00.000000000",
          "2025-05-06T00:00:00.000000000",
          "2025-05-07T00:00:00.000000000",
          "2025-05-08T00:00:00.000000000",
          "2025-05-09T00:00:00.000000000",
          "2025-05-10T00:00:00.000000000",
          "2025-05-11T00:00:00.000000000",
          "2025-05-12T00:00:00.000000000",
          "2025-05-13T00:00:00.000000000"
         ]
        },
        {
         "marker": {
          "color": "green",
          "size": 20
         },
         "mode": "lines+markers",
         "name": "SMA20",
         "type": "scatter",
         "x": [
          [
           "BTC/USDT",
           95778.21,
           98119.99,
           94088.23,
           97869.99,
           29151.16625
          ],
          [
           "BTC/USDT",
           97870,
           98083.91,
           95217.36,
           96608.14,
           19921.77616
          ],
          [
           "BTC/USDT",
           96608.13,
           98826,
           96252.82,
           97500.48,
           18173.02646
          ],
          [
           "BTC/USDT",
           97500.47,
           97972.26,
           97223.58,
           97569.66,
           7349.37683
          ],
          [
           "BTC/USDT",
           97569.67,
           97704.47,
           96046.18,
           96118.12,
           8191.4249
          ],
          [
           "BTC/USDT",
           96118.12,
           97046.59,
           95205,
           95780,
           16492.0451
          ],
          [
           "BTC/USDT",
           95780.01,
           96753.91,
           93388.09,
           95671.74,
           23368.19471
          ],
          [
           "BTC/USDT",
           95671.74,
           96899.99,
           95029.99,
           96644.37,
           16438.50954
          ],
          [
           "BTC/USDT",
           96644.37,
           98711.36,
           96415.09,
           98305,
           17057.39177
          ],
          [
           "BTC/USDT",
           98305.01,
           99475,
           94871.95,
           96181.98,
           32249.2814
          ],
          [
           "BTC/USDT",
           96181.99,
           96980,
           95770.49,
           96551.01,
           11268.17708
          ],
          [
           "BTC/USDT",
           96551.01,
           96650,
           95227.94,
           96258,
           10884.84913
          ],
          [
           "BTC/USDT",
           96258,
           96500,
           91349.26,
           91552.88,
           31550.10299
          ],
          [
           "BTC/USDT",
           91552.88,
           92540.69,
           86050.99,
           88680.4,
           78333.11111
          ],
          [
           "BTC/USDT",
           88680.39,
           89414.15,
           82256.01,
           84250.09,
           56893.54409
          ],
          [
           "BTC/USDT",
           84250.09,
           87078.46,
           82716.49,
           84708.58,
           42505.45439
          ],
          [
           "BTC/USDT",
           84708.57,
           85120,
           78258.52,
           84349.94,
           83648.03969
          ],
          [
           "BTC/USDT",
           84349.95,
           86558,
           83824.78,
           86064.53,
           25785.05464
          ],
          [
           "BTC/USDT",
           86064.54,
           95000,
           85050.6,
           94270,
           54889.09045
          ],
          [
           "BTC/USDT",
           94269.99,
           94416.46,
           85117.11,
           86220.61,
           59171.10218
          ],
          [
           "BTC/USDT",
           86221.16,
           88967.52,
           81500,
           87281.98,
           55609.10706
          ],
          [
           "BTC/USDT",
           87281.98,
           91000,
           86334.53,
           90606.01,
           38264.01163
          ],
          [
           "BTC/USDT",
           90606,
           92810.64,
           87836,
           89931.89,
           34342.44902
          ],
          [
           "BTC/USDT",
           89931.88,
           91283.02,
           84667.03,
           86801.75,
           57980.35713
          ],
          [
           "BTC/USDT",
           86801.74,
           86897.25,
           85218.47,
           86222.45,
           12989.23054
          ],
          [
           "BTC/USDT",
           86222.46,
           86500,
           80000,
           80734.37,
           26115.39345
          ],
          [
           "BTC/USDT",
           80734.48,
           84123.46,
           77459.91,
           78595.86,
           47633.38405
          ],
          [
           "BTC/USDT",
           78595.86,
           83617.4,
           76606,
           82932.99,
           48770.06853
          ],
          [
           "BTC/USDT",
           82932.99,
           84539.85,
           80607.65,
           83680.12,
           31933.986
          ],
          [
           "BTC/USDT",
           83680.12,
           84336.33,
           79939.9,
           81115.78,
           27546.27412
          ],
          [
           "BTC/USDT",
           81115.78,
           85309.71,
           80818.84,
           83983.2,
           26858.52755
          ],
          [
           "BTC/USDT",
           83983.19,
           84676.28,
           83618,
           84338.44,
           11324.7332
          ],
          [
           "BTC/USDT",
           84338.44,
           85117.04,
           81981.12,
           82574.53,
           17596.12531
          ],
          [
           "BTC/USDT",
           82574.52,
           84756.83,
           82456,
           84010.03,
           17214.74358
          ],
          [
           "BTC/USDT",
           84010.02,
           84021.74,
           81134.66,
           82715.03,
           17610.89883
          ],
          [
           "BTC/USDT",
           82715.03,
           87000,
           82547.16,
           86845.94,
           28151.05374
          ],
          [
           "BTC/USDT",
           86845.93,
           87453.67,
           83655.23,
           84223.39,
           22090.30463
          ],
          [
           "BTC/USDT",
           84223.38,
           84850.33,
           83175.25,
           84088.79,
           11956.97443
          ],
          [
           "BTC/USDT",
           84088.79,
           84539.17,
           83625.1,
           83840.59,
           5420.22114
          ],
          [
           "BTC/USDT",
           83840.59,
           86129.64,
           83809.75,
           86082.5,
           8461.97813
          ],
          [
           "BTC/USDT",
           86082.5,
           88765.43,
           85519.09,
           87498.16,
           30115.62111
          ],
          [
           "BTC/USDT",
           87498.16,
           88539.63,
           86310,
           87392.87,
           22643.25248
          ],
          [
           "BTC/USDT",
           87392.88,
           88275,
           85860,
           86909.17,
           18408.78485
          ],
          [
           "BTC/USDT",
           86909.17,
           87756.39,
           85800,
           87232.01,
           17098.03897
          ],
          [
           "BTC/USDT",
           87232.01,
           87515.67,
           83585,
           84424.38,
           27182.73169
          ],
          [
           "BTC/USDT",
           84424.38,
           84624.73,
           81644.81,
           82648.54,
           11696.39864
          ],
          [
           "BTC/USDT",
           82648.53,
           83534.64,
           81565,
           82389.99,
           9864.49508
          ],
          [
           "BTC/USDT",
           82390,
           83943.08,
           81278.52,
           82550.01,
           20569.13885
          ],
          [
           "BTC/USDT",
           82550,
           85579.46,
           82432.74,
           85158.34,
           20190.39697
          ],
          [
           "BTC/USDT",
           85158.35,
           88500,
           82320,
           82516.29,
           39931.457
          ],
          [
           "BTC/USDT",
           82516.28,
           83998.02,
           81211.24,
           83213.09,
           27337.84135
          ],
          [
           "BTC/USDT",
           83213.09,
           84720,
           81659,
           83889.87,
           32915.53976
          ],
          [
           "BTC/USDT",
           83889.87,
           84266,
           82379.95,
           83537.99,
           9360.40468
          ],
          [
           "BTC/USDT",
           83537.99,
           83817.63,
           77153.83,
           78430,
           27942.71436
          ],
          [
           "BTC/USDT",
           78430,
           81243.58,
           74508,
           79163.24,
           78387.53089
          ],
          [
           "BTC/USDT",
           79163.24,
           80867.99,
           76239.9,
           76322.42,
           35317.32063
          ],
          [
           "BTC/USDT",
           76322.42,
           83588,
           74620,
           82615.22,
           75488.28772
          ],
          [
           "BTC/USDT",
           82615.22,
           82753.21,
           78464.36,
           79607.3,
           33284.80718
          ],
          [
           "BTC/USDT",
           79607.3,
           84300,
           78969.58,
           83423.84,
           34435.43797
          ],
          [
           "BTC/USDT",
           83423.83,
           85905,
           82792.95,
           85276.9,
           18470.74437
          ],
          [
           "BTC/USDT",
           85276.91,
           86100,
           83034.23,
           83760,
           24680.04181
          ],
          [
           "BTC/USDT",
           83760,
           85799.99,
           83678,
           84591.58,
           28659.09348
          ],
          [
           "BTC/USDT",
           84591.58,
           86496.42,
           83600,
           83643.99,
           20910.99528
          ],
          [
           "BTC/USDT",
           83643.99,
           85500,
           83111.64,
           84030.38,
           20867.24519
          ],
          [
           "BTC/USDT",
           84030.38,
           85470.01,
           83736.26,
           84947.91,
           13728.84772
          ],
          [
           "BTC/USDT",
           84947.92,
           85132.08,
           84303.96,
           84474.69,
           6529.96315
          ],
          [
           "BTC/USDT",
           84474.7,
           85677.99,
           84364.45,
           85077.01,
           9666.58153
          ],
          [
           "BTC/USDT",
           85077,
           85320.76,
           83949.52,
           85179.24,
           8091.67725
          ],
          [
           "BTC/USDT",
           85179.24,
           88465.99,
           85144.76,
           87516.23,
           31773.37262
          ],
          [
           "BTC/USDT",
           87516.22,
           93888,
           87076.03,
           93442.99,
           43872.74705
          ],
          [
           "BTC/USDT",
           93442.99,
           94696.05,
           91935.41,
           93691.08,
           27404.16808
          ],
          [
           "BTC/USDT",
           93691.07,
           94005,
           91660.01,
           93980.47,
           19497.06071
          ],
          [
           "BTC/USDT",
           93980.47,
           95758.04,
           92855.96,
           94638.68,
           27500.66648
          ],
          [
           "BTC/USDT",
           94638.68,
           95199,
           93870.69,
           94628,
           9415.06875
          ],
          [
           "BTC/USDT",
           94628,
           95369,
           93602.58,
           93749.3,
           11162.841
          ],
          [
           "BTC/USDT",
           93749.29,
           95630,
           92800.01,
           95011.18,
           22157.53351
          ],
          [
           "BTC/USDT",
           95011.18,
           95461.53,
           93742.54,
           94256.82,
           16955.3402
          ],
          [
           "BTC/USDT",
           94256.82,
           95228.45,
           92910,
           94172,
           17661.2751
          ],
          [
           "BTC/USDT",
           94172,
           97424.02,
           94130.43,
           96489.91,
           21380.45343
          ],
          [
           "BTC/USDT",
           96489.9,
           97895.68,
           96350,
           96887.14,
           14905.74811
          ],
          [
           "BTC/USDT",
           96887.13,
           96935.67,
           95753.01,
           95856.42,
           9723.34838
          ],
          [
           "BTC/USDT",
           95856.42,
           96304.48,
           94151.38,
           94277.62,
           11036.38342
          ],
          [
           "BTC/USDT",
           94277.61,
           95199,
           93514.1,
           94733.68,
           17251.18189
          ],
          [
           "BTC/USDT",
           94733.68,
           96920.65,
           93377,
           96834.02,
           16122.64513
          ],
          [
           "BTC/USDT",
           96834.02,
           97732,
           95784.61,
           97030.5,
           16644.83854
          ],
          [
           "BTC/USDT",
           97030.5,
           104145.76,
           96876.29,
           103261.6,
           34962.02847
          ],
          [
           "BTC/USDT",
           103261.61,
           104361.3,
           102315.14,
           102971.99,
           27617.39907
          ],
          [
           "BTC/USDT",
           102971.99,
           104984.57,
           102818.76,
           104809.53,
           15324.78611
          ],
          [
           "BTC/USDT",
           104809.53,
           104972,
           103345.06,
           104118,
           17987.12197
          ],
          [
           "BTC/USDT",
           104118,
           105819.45,
           100718.37,
           102791.32,
           31272.77792
          ],
          [
           "BTC/USDT",
           102791.32,
           104394.61,
           101429.7,
           103841.27,
           15800.25212
          ]
         ],
         "y": {
          "bdata": "AAAAAAAA+H8AAAAAAAD4fwAAAAAAAPh/AAAAAAAA+H8AAAAAAAD4fwAAAAAAAPh/AAAAAAAA+H8AAAAAAAD4fwAAAAAAAPh/AAAAAAAA+H8AAAAAAAD4fwAAAAAAAPh/AAAAAAAA+H8AAAAAAAD4fwAAAAAAAPh/AAAAAAAA+H8AAAAAAAD4fwAAAAAAAPh/AAAAAAAA+H/b+X5qHLj2QLpJDAIGl/ZAqvHSTUSE9kBPjZdunWz2QHa+nxr3SvZAsHJokQos9kDTTWIQBv31QML1KFypx/VATDeJQdCc9UAIrBxaHG/1QKwcWmQHQPVAGi/dJMEY9UAi2/l+gfP0QEFg5dBy1/RAUrgehdrI9ED0/dR4DsT0QML1KFy8yvRA7FG4HlfK9EANAiuHKsT0QAAAAACTo/RAl24SgySj9EB/arx00aP0QOf7qfHGmfRA46WbxFSQ9EDRItv5rJH0QFK4HoUOjPRA5tAi2wmS9ECPwvUo5Z30QJ7vp8aynPRACKwcWlGh9EApXI/CsaX0QCcxCKxJo/RAQmDl0OKh9EAlBoGV5aT0QPYoXI91k/RAppvEIFyI9EBlO99PeWf0QJ7vp8ZyYvRAJQaBlXFU9EC+nxovJFP0QBFYObSfUPRABFYOLfFE9EAaL90kMDz0QAAAAAD8MfRAVg4tsvon9EBSuB6FnSn0QArXo3BSL/RAGARWDrg39EAK16Nw7z/0QG4Sg8BNR/RAMgisHHNp9EDdJAaBMYr0QIts5/u5qfRAx0s3iWrM9EAusp3vCP/0QFg5tMidLPVAEoPAygRn9UCNl24SZov1QLbz/dTpuPVAnMQgsL7h9UAUrkfhBgb2QHWTGATUK/ZAK4cW2RhK9kCamZmZwGz2QJduEoPDlPZAJQaBlYW69kAyCKwcO/X2QL10kxgnLfdA2s73U39q90C1yHa+YJ73QCGwcmiXu/dA9ihcj0/b90A=",
          "dtype": "f8"
         }
        },
        {
         "marker": {
          "color": "green",
          "size": 20
         },
         "mode": "lines",
         "name": "SMA20",
         "type": "scatter",
         "x": [
          [
           "BTC/USDT",
           95778.21,
           98119.99,
           94088.23,
           97869.99,
           29151.16625
          ],
          [
           "BTC/USDT",
           97870,
           98083.91,
           95217.36,
           96608.14,
           19921.77616
          ],
          [
           "BTC/USDT",
           96608.13,
           98826,
           96252.82,
           97500.48,
           18173.02646
          ],
          [
           "BTC/USDT",
           97500.47,
           97972.26,
           97223.58,
           97569.66,
           7349.37683
          ],
          [
           "BTC/USDT",
           97569.67,
           97704.47,
           96046.18,
           96118.12,
           8191.4249
          ],
          [
           "BTC/USDT",
           96118.12,
           97046.59,
           95205,
           95780,
           16492.0451
          ],
          [
           "BTC/USDT",
           95780.01,
           96753.91,
           93388.09,
           95671.74,
           23368.19471
          ],
          [
           "BTC/USDT",
           95671.74,
           96899.99,
           95029.99,
           96644.37,
           16438.50954
          ],
          [
           "BTC/USDT",
           96644.37,
           98711.36,
           96415.09,
           98305,
           17057.39177
          ],
          [
           "BTC/USDT",
           98305.01,
           99475,
           94871.95,
           96181.98,
           32249.2814
          ],
          [
           "BTC/USDT",
           96181.99,
           96980,
           95770.49,
           96551.01,
           11268.17708
          ],
          [
           "BTC/USDT",
           96551.01,
           96650,
           95227.94,
           96258,
           10884.84913
          ],
          [
           "BTC/USDT",
           96258,
           96500,
           91349.26,
           91552.88,
           31550.10299
          ],
          [
           "BTC/USDT",
           91552.88,
           92540.69,
           86050.99,
           88680.4,
           78333.11111
          ],
          [
           "BTC/USDT",
           88680.39,
           89414.15,
           82256.01,
           84250.09,
           56893.54409
          ],
          [
           "BTC/USDT",
           84250.09,
           87078.46,
           82716.49,
           84708.58,
           42505.45439
          ],
          [
           "BTC/USDT",
           84708.57,
           85120,
           78258.52,
           84349.94,
           83648.03969
          ],
          [
           "BTC/USDT",
           84349.95,
           86558,
           83824.78,
           86064.53,
           25785.05464
          ],
          [
           "BTC/USDT",
           86064.54,
           95000,
           85050.6,
           94270,
           54889.09045
          ],
          [
           "BTC/USDT",
           94269.99,
           94416.46,
           85117.11,
           86220.61,
           59171.10218
          ],
          [
           "BTC/USDT",
           86221.16,
           88967.52,
           81500,
           87281.98,
           55609.10706
          ],
          [
           "BTC/USDT",
           87281.98,
           91000,
           86334.53,
           90606.01,
           38264.01163
          ],
          [
           "BTC/USDT",
           90606,
           92810.64,
           87836,
           89931.89,
           34342.44902
          ],
          [
           "BTC/USDT",
           89931.88,
           91283.02,
           84667.03,
           86801.75,
           57980.35713
          ],
          [
           "BTC/USDT",
           86801.74,
           86897.25,
           85218.47,
           86222.45,
           12989.23054
          ],
          [
           "BTC/USDT",
           86222.46,
           86500,
           80000,
           80734.37,
           26115.39345
          ],
          [
           "BTC/USDT",
           80734.48,
           84123.46,
           77459.91,
           78595.86,
           47633.38405
          ],
          [
           "BTC/USDT",
           78595.86,
           83617.4,
           76606,
           82932.99,
           48770.06853
          ],
          [
           "BTC/USDT",
           82932.99,
           84539.85,
           80607.65,
           83680.12,
           31933.986
          ],
          [
           "BTC/USDT",
           83680.12,
           84336.33,
           79939.9,
           81115.78,
           27546.27412
          ],
          [
           "BTC/USDT",
           81115.78,
           85309.71,
           80818.84,
           83983.2,
           26858.52755
          ],
          [
           "BTC/USDT",
           83983.19,
           84676.28,
           83618,
           84338.44,
           11324.7332
          ],
          [
           "BTC/USDT",
           84338.44,
           85117.04,
           81981.12,
           82574.53,
           17596.12531
          ],
          [
           "BTC/USDT",
           82574.52,
           84756.83,
           82456,
           84010.03,
           17214.74358
          ],
          [
           "BTC/USDT",
           84010.02,
           84021.74,
           81134.66,
           82715.03,
           17610.89883
          ],
          [
           "BTC/USDT",
           82715.03,
           87000,
           82547.16,
           86845.94,
           28151.05374
          ],
          [
           "BTC/USDT",
           86845.93,
           87453.67,
           83655.23,
           84223.39,
           22090.30463
          ],
          [
           "BTC/USDT",
           84223.38,
           84850.33,
           83175.25,
           84088.79,
           11956.97443
          ],
          [
           "BTC/USDT",
           84088.79,
           84539.17,
           83625.1,
           83840.59,
           5420.22114
          ],
          [
           "BTC/USDT",
           83840.59,
           86129.64,
           83809.75,
           86082.5,
           8461.97813
          ],
          [
           "BTC/USDT",
           86082.5,
           88765.43,
           85519.09,
           87498.16,
           30115.62111
          ],
          [
           "BTC/USDT",
           87498.16,
           88539.63,
           86310,
           87392.87,
           22643.25248
          ],
          [
           "BTC/USDT",
           87392.88,
           88275,
           85860,
           86909.17,
           18408.78485
          ],
          [
           "BTC/USDT",
           86909.17,
           87756.39,
           85800,
           87232.01,
           17098.03897
          ],
          [
           "BTC/USDT",
           87232.01,
           87515.67,
           83585,
           84424.38,
           27182.73169
          ],
          [
           "BTC/USDT",
           84424.38,
           84624.73,
           81644.81,
           82648.54,
           11696.39864
          ],
          [
           "BTC/USDT",
           82648.53,
           83534.64,
           81565,
           82389.99,
           9864.49508
          ],
          [
           "BTC/USDT",
           82390,
           83943.08,
           81278.52,
           82550.01,
           20569.13885
          ],
          [
           "BTC/USDT",
           82550,
           85579.46,
           82432.74,
           85158.34,
           20190.39697
          ],
          [
           "BTC/USDT",
           85158.35,
           88500,
           82320,
           82516.29,
           39931.457
          ],
          [
           "BTC/USDT",
           82516.28,
           83998.02,
           81211.24,
           83213.09,
           27337.84135
          ],
          [
           "BTC/USDT",
           83213.09,
           84720,
           81659,
           83889.87,
           32915.53976
          ],
          [
           "BTC/USDT",
           83889.87,
           84266,
           82379.95,
           83537.99,
           9360.40468
          ],
          [
           "BTC/USDT",
           83537.99,
           83817.63,
           77153.83,
           78430,
           27942.71436
          ],
          [
           "BTC/USDT",
           78430,
           81243.58,
           74508,
           79163.24,
           78387.53089
          ],
          [
           "BTC/USDT",
           79163.24,
           80867.99,
           76239.9,
           76322.42,
           35317.32063
          ],
          [
           "BTC/USDT",
           76322.42,
           83588,
           74620,
           82615.22,
           75488.28772
          ],
          [
           "BTC/USDT",
           82615.22,
           82753.21,
           78464.36,
           79607.3,
           33284.80718
          ],
          [
           "BTC/USDT",
           79607.3,
           84300,
           78969.58,
           83423.84,
           34435.43797
          ],
          [
           "BTC/USDT",
           83423.83,
           85905,
           82792.95,
           85276.9,
           18470.74437
          ],
          [
           "BTC/USDT",
           85276.91,
           86100,
           83034.23,
           83760,
           24680.04181
          ],
          [
           "BTC/USDT",
           83760,
           85799.99,
           83678,
           84591.58,
           28659.09348
          ],
          [
           "BTC/USDT",
           84591.58,
           86496.42,
           83600,
           83643.99,
           20910.99528
          ],
          [
           "BTC/USDT",
           83643.99,
           85500,
           83111.64,
           84030.38,
           20867.24519
          ],
          [
           "BTC/USDT",
           84030.38,
           85470.01,
           83736.26,
           84947.91,
           13728.84772
          ],
          [
           "BTC/USDT",
           84947.92,
           85132.08,
           84303.96,
           84474.69,
           6529.96315
          ],
          [
           "BTC/USDT",
           84474.7,
           85677.99,
           84364.45,
           85077.01,
           9666.58153
          ],
          [
           "BTC/USDT",
           85077,
           85320.76,
           83949.52,
           85179.24,
           8091.67725
          ],
          [
           "BTC/USDT",
           85179.24,
           88465.99,
           85144.76,
           87516.23,
           31773.37262
          ],
          [
           "BTC/USDT",
           87516.22,
           93888,
           87076.03,
           93442.99,
           43872.74705
          ],
          [
           "BTC/USDT",
           93442.99,
           94696.05,
           91935.41,
           93691.08,
           27404.16808
          ],
          [
           "BTC/USDT",
           93691.07,
           94005,
           91660.01,
           93980.47,
           19497.06071
          ],
          [
           "BTC/USDT",
           93980.47,
           95758.04,
           92855.96,
           94638.68,
           27500.66648
          ],
          [
           "BTC/USDT",
           94638.68,
           95199,
           93870.69,
           94628,
           9415.06875
          ],
          [
           "BTC/USDT",
           94628,
           95369,
           93602.58,
           93749.3,
           11162.841
          ],
          [
           "BTC/USDT",
           93749.29,
           95630,
           92800.01,
           95011.18,
           22157.53351
          ],
          [
           "BTC/USDT",
           95011.18,
           95461.53,
           93742.54,
           94256.82,
           16955.3402
          ],
          [
           "BTC/USDT",
           94256.82,
           95228.45,
           92910,
           94172,
           17661.2751
          ],
          [
           "BTC/USDT",
           94172,
           97424.02,
           94130.43,
           96489.91,
           21380.45343
          ],
          [
           "BTC/USDT",
           96489.9,
           97895.68,
           96350,
           96887.14,
           14905.74811
          ],
          [
           "BTC/USDT",
           96887.13,
           96935.67,
           95753.01,
           95856.42,
           9723.34838
          ],
          [
           "BTC/USDT",
           95856.42,
           96304.48,
           94151.38,
           94277.62,
           11036.38342
          ],
          [
           "BTC/USDT",
           94277.61,
           95199,
           93514.1,
           94733.68,
           17251.18189
          ],
          [
           "BTC/USDT",
           94733.68,
           96920.65,
           93377,
           96834.02,
           16122.64513
          ],
          [
           "BTC/USDT",
           96834.02,
           97732,
           95784.61,
           97030.5,
           16644.83854
          ],
          [
           "BTC/USDT",
           97030.5,
           104145.76,
           96876.29,
           103261.6,
           34962.02847
          ],
          [
           "BTC/USDT",
           103261.61,
           104361.3,
           102315.14,
           102971.99,
           27617.39907
          ],
          [
           "BTC/USDT",
           102971.99,
           104984.57,
           102818.76,
           104809.53,
           15324.78611
          ],
          [
           "BTC/USDT",
           104809.53,
           104972,
           103345.06,
           104118,
           17987.12197
          ],
          [
           "BTC/USDT",
           104118,
           105819.45,
           100718.37,
           102791.32,
           31272.77792
          ],
          [
           "BTC/USDT",
           102791.32,
           104394.61,
           101429.7,
           103841.27,
           15800.25212
          ]
         ],
         "y": {
          "bdata": "AAAAAAAA+H8AAAAAAAD4fwAAAAAAAPh/AAAAAAAA+H8AAAAAAAD4fwAAAAAAAPh/AAAAAAAA+H8AAAAAAAD4fwAAAAAAAPh/AAAAAAAA+H8AAAAAAAD4fwAAAAAAAPh/AAAAAAAA+H8AAAAAAAD4fwAAAAAAAPh/AAAAAAAA+H8AAAAAAAD4fwAAAAAAAPh/AAAAAAAA+H/b+X5qHLj2QLpJDAIGl/ZAqvHSTUSE9kBPjZdunWz2QHa+nxr3SvZAsHJokQos9kDTTWIQBv31QML1KFypx/VATDeJQdCc9UAIrBxaHG/1QKwcWmQHQPVAGi/dJMEY9UAi2/l+gfP0QEFg5dBy1/RAUrgehdrI9ED0/dR4DsT0QML1KFy8yvRA7FG4HlfK9EANAiuHKsT0QAAAAACTo/RAl24SgySj9EB/arx00aP0QOf7qfHGmfRA46WbxFSQ9EDRItv5rJH0QFK4HoUOjPRA5tAi2wmS9ECPwvUo5Z30QJ7vp8aynPRACKwcWlGh9EApXI/CsaX0QCcxCKxJo/RAQmDl0OKh9EAlBoGV5aT0QPYoXI91k/RAppvEIFyI9EBlO99PeWf0QJ7vp8ZyYvRAJQaBlXFU9EC+nxovJFP0QBFYObSfUPRABFYOLfFE9EAaL90kMDz0QAAAAAD8MfRAVg4tsvon9EBSuB6FnSn0QArXo3BSL/RAGARWDrg39EAK16Nw7z/0QG4Sg8BNR/RAMgisHHNp9EDdJAaBMYr0QIts5/u5qfRAx0s3iWrM9EAusp3vCP/0QFg5tMidLPVAEoPAygRn9UCNl24SZov1QLbz/dTpuPVAnMQgsL7h9UAUrkfhBgb2QHWTGATUK/ZAK4cW2RhK9kCamZmZwGz2QJduEoPDlPZAJQaBlYW69kAyCKwcO/X2QL10kxgnLfdA2s73U39q90C1yHa+YJ73QCGwcmiXu/dA9ihcj0/b90A=",
          "dtype": "f8"
         }
        },
        {
         "marker": {
          "color": "green",
          "size": 20
         },
         "mode": "lines",
         "name": "SMA20",
         "type": "scatter",
         "x": [
          "2025-02-12T00:00:00.000000000",
          "2025-02-13T00:00:00.000000000",
          "2025-02-14T00:00:00.000000000",
          "2025-02-15T00:00:00.000000000",
          "2025-02-16T00:00:00.000000000",
          "2025-02-17T00:00:00.000000000",
          "2025-02-18T00:00:00.000000000",
          "2025-02-19T00:00:00.000000000",
          "2025-02-20T00:00:00.000000000",
          "2025-02-21T00:00:00.000000000",
          "2025-02-22T00:00:00.000000000",
          "2025-02-23T00:00:00.000000000",
          "2025-02-24T00:00:00.000000000",
          "2025-02-25T00:00:00.000000000",
          "2025-02-26T00:00:00.000000000",
          "2025-02-27T00:00:00.000000000",
          "2025-02-28T00:00:00.000000000",
          "2025-03-01T00:00:00.000000000",
          "2025-03-02T00:00:00.000000000",
          "2025-03-03T00:00:00.000000000",
          "2025-03-04T00:00:00.000000000",
          "2025-03-05T00:00:00.000000000",
          "2025-03-06T00:00:00.000000000",
          "2025-03-07T00:00:00.000000000",
          "2025-03-08T00:00:00.000000000",
          "2025-03-09T00:00:00.000000000",
          "2025-03-10T00:00:00.000000000",
          "2025-03-11T00:00:00.000000000",
          "2025-03-12T00:00:00.000000000",
          "2025-03-13T00:00:00.000000000",
          "2025-03-14T00:00:00.000000000",
          "2025-03-15T00:00:00.000000000",
          "2025-03-16T00:00:00.000000000",
          "2025-03-17T00:00:00.000000000",
          "2025-03-18T00:00:00.000000000",
          "2025-03-19T00:00:00.000000000",
          "2025-03-20T00:00:00.000000000",
          "2025-03-21T00:00:00.000000000",
          "2025-03-22T00:00:00.000000000",
          "2025-03-23T00:00:00.000000000",
          "2025-03-24T00:00:00.000000000",
          "2025-03-25T00:00:00.000000000",
          "2025-03-26T00:00:00.000000000",
          "2025-03-27T00:00:00.000000000",
          "2025-03-28T00:00:00.000000000",
          "2025-03-29T00:00:00.000000000",
          "2025-03-30T00:00:00.000000000",
          "2025-03-31T00:00:00.000000000",
          "2025-04-01T00:00:00.000000000",
          "2025-04-02T00:00:00.000000000",
          "2025-04-03T00:00:00.000000000",
          "2025-04-04T00:00:00.000000000",
          "2025-04-05T00:00:00.000000000",
          "2025-04-06T00:00:00.000000000",
          "2025-04-07T00:00:00.000000000",
          "2025-04-08T00:00:00.000000000",
          "2025-04-09T00:00:00.000000000",
          "2025-04-10T00:00:00.000000000",
          "2025-04-11T00:00:00.000000000",
          "2025-04-12T00:00:00.000000000",
          "2025-04-13T00:00:00.000000000",
          "2025-04-14T00:00:00.000000000",
          "2025-04-15T00:00:00.000000000",
          "2025-04-16T00:00:00.000000000",
          "2025-04-17T00:00:00.000000000",
          "2025-04-18T00:00:00.000000000",
          "2025-04-19T00:00:00.000000000",
          "2025-04-20T00:00:00.000000000",
          "2025-04-21T00:00:00.000000000",
          "2025-04-22T00:00:00.000000000",
          "2025-04-23T00:00:00.000000000",
          "2025-04-24T00:00:00.000000000",
          "2025-04-25T00:00:00.000000000",
          "2025-04-26T00:00:00.000000000",
          "2025-04-27T00:00:00.000000000",
          "2025-04-28T00:00:00.000000000",
          "2025-04-29T00:00:00.000000000",
          "2025-04-30T00:00:00.000000000",
          "2025-05-01T00:00:00.000000000",
          "2025-05-02T00:00:00.000000000",
          "2025-05-03T00:00:00.000000000",
          "2025-05-04T00:00:00.000000000",
          "2025-05-05T00:00:00.000000000",
          "2025-05-06T00:00:00.000000000",
          "2025-05-07T00:00:00.000000000",
          "2025-05-08T00:00:00.000000000",
          "2025-05-09T00:00:00.000000000",
          "2025-05-10T00:00:00.000000000",
          "2025-05-11T00:00:00.000000000",
          "2025-05-12T00:00:00.000000000",
          "2025-05-13T00:00:00.000000000"
         ],
         "y": {
          "bdata": "AAAAAAAA+H8AAAAAAAD4fwAAAAAAAPh/AAAAAAAA+H8AAAAAAAD4fwAAAAAAAPh/AAAAAAAA+H8AAAAAAAD4fwAAAAAAAPh/AAAAAAAA+H8AAAAAAAD4fwAAAAAAAPh/AAAAAAAA+H8AAAAAAAD4fwAAAAAAAPh/AAAAAAAA+H8AAAAAAAD4fwAAAAAAAPh/AAAAAAAA+H/b+X5qHLj2QLpJDAIGl/ZAqvHSTUSE9kBPjZdunWz2QHa+nxr3SvZAsHJokQos9kDTTWIQBv31QML1KFypx/VATDeJQdCc9UAIrBxaHG/1QKwcWmQHQPVAGi/dJMEY9UAi2/l+gfP0QEFg5dBy1/RAUrgehdrI9ED0/dR4DsT0QML1KFy8yvRA7FG4HlfK9EANAiuHKsT0QAAAAACTo/RAl24SgySj9EB/arx00aP0QOf7qfHGmfRA46WbxFSQ9EDRItv5rJH0QFK4HoUOjPRA5tAi2wmS9ECPwvUo5Z30QJ7vp8aynPRACKwcWlGh9EApXI/CsaX0QCcxCKxJo/RAQmDl0OKh9EAlBoGV5aT0QPYoXI91k/RAppvEIFyI9EBlO99PeWf0QJ7vp8ZyYvRAJQaBlXFU9EC+nxovJFP0QBFYObSfUPRABFYOLfFE9EAaL90kMDz0QAAAAAD8MfRAVg4tsvon9EBSuB6FnSn0QArXo3BSL/RAGARWDrg39EAK16Nw7z/0QG4Sg8BNR/RAMgisHHNp9EDdJAaBMYr0QIts5/u5qfRAx0s3iWrM9EAusp3vCP/0QFg5tMidLPVAEoPAygRn9UCNl24SZov1QLbz/dTpuPVAnMQgsL7h9UAUrkfhBgb2QHWTGATUK/ZAK4cW2RhK9kCamZmZwGz2QJduEoPDlPZAJQaBlYW69kAyCKwcO/X2QL10kxgnLfdA2s73U39q90C1yHa+YJ73QCGwcmiXu/dA9ihcj0/b90A=",
          "dtype": "f8"
         }
        }
       ],
       "layout": {
        "template": {
         "data": {
          "bar": [
           {
            "error_x": {
             "color": "#2a3f5f"
            },
            "error_y": {
             "color": "#2a3f5f"
            },
            "marker": {
             "line": {
              "color": "#E5ECF6",
              "width": 0.5
             },
             "pattern": {
              "fillmode": "overlay",
              "size": 10,
              "solidity": 0.2
             }
            },
            "type": "bar"
           }
          ],
          "barpolar": [
           {
            "marker": {
             "line": {
              "color": "#E5ECF6",
              "width": 0.5
             },
             "pattern": {
              "fillmode": "overlay",
              "size": 10,
              "solidity": 0.2
             }
            },
            "type": "barpolar"
           }
          ],
          "carpet": [
           {
            "aaxis": {
             "endlinecolor": "#2a3f5f",
             "gridcolor": "white",
             "linecolor": "white",
             "minorgridcolor": "white",
             "startlinecolor": "#2a3f5f"
            },
            "baxis": {
             "endlinecolor": "#2a3f5f",
             "gridcolor": "white",
             "linecolor": "white",
             "minorgridcolor": "white",
             "startlinecolor": "#2a3f5f"
            },
            "type": "carpet"
           }
          ],
          "choropleth": [
           {
            "colorbar": {
             "outlinewidth": 0,
             "ticks": ""
            },
            "type": "choropleth"
           }
          ],
          "contour": [
           {
            "colorbar": {
             "outlinewidth": 0,
             "ticks": ""
            },
            "colorscale": [
             [
              0,
              "#0d0887"
             ],
             [
              0.1111111111111111,
              "#46039f"
             ],
             [
              0.2222222222222222,
              "#7201a8"
             ],
             [
              0.3333333333333333,
              "#9c179e"
             ],
             [
              0.4444444444444444,
              "#bd3786"
             ],
             [
              0.5555555555555556,
              "#d8576b"
             ],
             [
              0.6666666666666666,
              "#ed7953"
             ],
             [
              0.7777777777777778,
              "#fb9f3a"
             ],
             [
              0.8888888888888888,
              "#fdca26"
             ],
             [
              1,
              "#f0f921"
             ]
            ],
            "type": "contour"
           }
          ],
          "contourcarpet": [
           {
            "colorbar": {
             "outlinewidth": 0,
             "ticks": ""
            },
            "type": "contourcarpet"
           }
          ],
          "heatmap": [
           {
            "colorbar": {
             "outlinewidth": 0,
             "ticks": ""
            },
            "colorscale": [
             [
              0,
              "#0d0887"
             ],
             [
              0.1111111111111111,
              "#46039f"
             ],
             [
              0.2222222222222222,
              "#7201a8"
             ],
             [
              0.3333333333333333,
              "#9c179e"
             ],
             [
              0.4444444444444444,
              "#bd3786"
             ],
             [
              0.5555555555555556,
              "#d8576b"
             ],
             [
              0.6666666666666666,
              "#ed7953"
             ],
             [
              0.7777777777777778,
              "#fb9f3a"
             ],
             [
              0.8888888888888888,
              "#fdca26"
             ],
             [
              1,
              "#f0f921"
             ]
            ],
            "type": "heatmap"
           }
          ],
          "histogram": [
           {
            "marker": {
             "pattern": {
              "fillmode": "overlay",
              "size": 10,
              "solidity": 0.2
             }
            },
            "type": "histogram"
           }
          ],
          "histogram2d": [
           {
            "colorbar": {
             "outlinewidth": 0,
             "ticks": ""
            },
            "colorscale": [
             [
              0,
              "#0d0887"
             ],
             [
              0.1111111111111111,
              "#46039f"
             ],
             [
              0.2222222222222222,
              "#7201a8"
             ],
             [
              0.3333333333333333,
              "#9c179e"
             ],
             [
              0.4444444444444444,
              "#bd3786"
             ],
             [
              0.5555555555555556,
              "#d8576b"
             ],
             [
              0.6666666666666666,
              "#ed7953"
             ],
             [
              0.7777777777777778,
              "#fb9f3a"
             ],
             [
              0.8888888888888888,
              "#fdca26"
             ],
             [
              1,
              "#f0f921"
             ]
            ],
            "type": "histogram2d"
           }
          ],
          "histogram2dcontour": [
           {
            "colorbar": {
             "outlinewidth": 0,
             "ticks": ""
            },
            "colorscale": [
             [
              0,
              "#0d0887"
             ],
             [
              0.1111111111111111,
              "#46039f"
             ],
             [
              0.2222222222222222,
              "#7201a8"
             ],
             [
              0.3333333333333333,
              "#9c179e"
             ],
             [
              0.4444444444444444,
              "#bd3786"
             ],
             [
              0.5555555555555556,
              "#d8576b"
             ],
             [
              0.6666666666666666,
              "#ed7953"
             ],
             [
              0.7777777777777778,
              "#fb9f3a"
             ],
             [
              0.8888888888888888,
              "#fdca26"
             ],
             [
              1,
              "#f0f921"
             ]
            ],
            "type": "histogram2dcontour"
           }
          ],
          "mesh3d": [
           {
            "colorbar": {
             "outlinewidth": 0,
             "ticks": ""
            },
            "type": "mesh3d"
           }
          ],
          "parcoords": [
           {
            "line": {
             "colorbar": {
              "outlinewidth": 0,
              "ticks": ""
             }
            },
            "type": "parcoords"
           }
          ],
          "pie": [
           {
            "automargin": true,
            "type": "pie"
           }
          ],
          "scatter": [
           {
            "fillpattern": {
             "fillmode": "overlay",
             "size": 10,
             "solidity": 0.2
            },
            "type": "scatter"
           }
          ],
          "scatter3d": [
           {
            "line": {
             "colorbar": {
              "outlinewidth": 0,
              "ticks": ""
             }
            },
            "marker": {
             "colorbar": {
              "outlinewidth": 0,
              "ticks": ""
             }
            },
            "type": "scatter3d"
           }
          ],
          "scattercarpet": [
           {
            "marker": {
             "colorbar": {
              "outlinewidth": 0,
              "ticks": ""
             }
            },
            "type": "scattercarpet"
           }
          ],
          "scattergeo": [
           {
            "marker": {
             "colorbar": {
              "outlinewidth": 0,
              "ticks": ""
             }
            },
            "type": "scattergeo"
           }
          ],
          "scattergl": [
           {
            "marker": {
             "colorbar": {
              "outlinewidth": 0,
              "ticks": ""
             }
            },
            "type": "scattergl"
           }
          ],
          "scattermap": [
           {
            "marker": {
             "colorbar": {
              "outlinewidth": 0,
              "ticks": ""
             }
            },
            "type": "scattermap"
           }
          ],
          "scattermapbox": [
           {
            "marker": {
             "colorbar": {
              "outlinewidth": 0,
              "ticks": ""
             }
            },
            "type": "scattermapbox"
           }
          ],
          "scatterpolar": [
           {
            "marker": {
             "colorbar": {
              "outlinewidth": 0,
              "ticks": ""
             }
            },
            "type": "scatterpolar"
           }
          ],
          "scatterpolargl": [
           {
            "marker": {
             "colorbar": {
              "outlinewidth": 0,
              "ticks": ""
             }
            },
            "type": "scatterpolargl"
           }
          ],
          "scatterternary": [
           {
            "marker": {
             "colorbar": {
              "outlinewidth": 0,
              "ticks": ""
             }
            },
            "type": "scatterternary"
           }
          ],
          "surface": [
           {
            "colorbar": {
             "outlinewidth": 0,
             "ticks": ""
            },
            "colorscale": [
             [
              0,
              "#0d0887"
             ],
             [
              0.1111111111111111,
              "#46039f"
             ],
             [
              0.2222222222222222,
              "#7201a8"
             ],
             [
              0.3333333333333333,
              "#9c179e"
             ],
             [
              0.4444444444444444,
              "#bd3786"
             ],
             [
              0.5555555555555556,
              "#d8576b"
             ],
             [
              0.6666666666666666,
              "#ed7953"
             ],
             [
              0.7777777777777778,
              "#fb9f3a"
             ],
             [
              0.8888888888888888,
              "#fdca26"
             ],
             [
              1,
              "#f0f921"
             ]
            ],
            "type": "surface"
           }
          ],
          "table": [
           {
            "cells": {
             "fill": {
              "color": "#EBF0F8"
             },
             "line": {
              "color": "white"
             }
            },
            "header": {
             "fill": {
              "color": "#C8D4E3"
             },
             "line": {
              "color": "white"
             }
            },
            "type": "table"
           }
          ]
         },
         "layout": {
          "annotationdefaults": {
           "arrowcolor": "#2a3f5f",
           "arrowhead": 0,
           "arrowwidth": 1
          },
          "autotypenumbers": "strict",
          "coloraxis": {
           "colorbar": {
            "outlinewidth": 0,
            "ticks": ""
           }
          },
          "colorscale": {
           "diverging": [
            [
             0,
             "#8e0152"
            ],
            [
             0.1,
             "#c51b7d"
            ],
            [
             0.2,
             "#de77ae"
            ],
            [
             0.3,
             "#f1b6da"
            ],
            [
             0.4,
             "#fde0ef"
            ],
            [
             0.5,
             "#f7f7f7"
            ],
            [
             0.6,
             "#e6f5d0"
            ],
            [
             0.7,
             "#b8e186"
            ],
            [
             0.8,
             "#7fbc41"
            ],
            [
             0.9,
             "#4d9221"
            ],
            [
             1,
             "#276419"
            ]
           ],
           "sequential": [
            [
             0,
             "#0d0887"
            ],
            [
             0.1111111111111111,
             "#46039f"
            ],
            [
             0.2222222222222222,
             "#7201a8"
            ],
            [
             0.3333333333333333,
             "#9c179e"
            ],
            [
             0.4444444444444444,
             "#bd3786"
            ],
            [
             0.5555555555555556,
             "#d8576b"
            ],
            [
             0.6666666666666666,
             "#ed7953"
            ],
            [
             0.7777777777777778,
             "#fb9f3a"
            ],
            [
             0.8888888888888888,
             "#fdca26"
            ],
            [
             1,
             "#f0f921"
            ]
           ],
           "sequentialminus": [
            [
             0,
             "#0d0887"
            ],
            [
             0.1111111111111111,
             "#46039f"
            ],
            [
             0.2222222222222222,
             "#7201a8"
            ],
            [
             0.3333333333333333,
             "#9c179e"
            ],
            [
             0.4444444444444444,
             "#bd3786"
            ],
            [
             0.5555555555555556,
             "#d8576b"
            ],
            [
             0.6666666666666666,
             "#ed7953"
            ],
            [
             0.7777777777777778,
             "#fb9f3a"
            ],
            [
             0.8888888888888888,
             "#fdca26"
            ],
            [
             1,
             "#f0f921"
            ]
           ]
          },
          "colorway": [
           "#636efa",
           "#EF553B",
           "#00cc96",
           "#ab63fa",
           "#FFA15A",
           "#19d3f3",
           "#FF6692",
           "#B6E880",
           "#FF97FF",
           "#FECB52"
          ],
          "font": {
           "color": "#2a3f5f"
          },
          "geo": {
           "bgcolor": "white",
           "lakecolor": "white",
           "landcolor": "#E5ECF6",
           "showlakes": true,
           "showland": true,
           "subunitcolor": "white"
          },
          "hoverlabel": {
           "align": "left"
          },
          "hovermode": "closest",
          "mapbox": {
           "style": "light"
          },
          "paper_bgcolor": "white",
          "plot_bgcolor": "#E5ECF6",
          "polar": {
           "angularaxis": {
            "gridcolor": "white",
            "linecolor": "white",
            "ticks": ""
           },
           "bgcolor": "#E5ECF6",
           "radialaxis": {
            "gridcolor": "white",
            "linecolor": "white",
            "ticks": ""
           }
          },
          "scene": {
           "xaxis": {
            "backgroundcolor": "#E5ECF6",
            "gridcolor": "white",
            "gridwidth": 2,
            "linecolor": "white",
            "showbackground": true,
            "ticks": "",
            "zerolinecolor": "white"
           },
           "yaxis": {
            "backgroundcolor": "#E5ECF6",
            "gridcolor": "white",
            "gridwidth": 2,
            "linecolor": "white",
            "showbackground": true,
            "ticks": "",
            "zerolinecolor": "white"
           },
           "zaxis": {
            "backgroundcolor": "#E5ECF6",
            "gridcolor": "white",
            "gridwidth": 2,
            "linecolor": "white",
            "showbackground": true,
            "ticks": "",
            "zerolinecolor": "white"
           }
          },
          "shapedefaults": {
           "line": {
            "color": "#2a3f5f"
           }
          },
          "ternary": {
           "aaxis": {
            "gridcolor": "white",
            "linecolor": "white",
            "ticks": ""
           },
           "baxis": {
            "gridcolor": "white",
            "linecolor": "white",
            "ticks": ""
           },
           "bgcolor": "#E5ECF6",
           "caxis": {
            "gridcolor": "white",
            "linecolor": "white",
            "ticks": ""
           }
          },
          "title": {
           "x": 0.05
          },
          "xaxis": {
           "automargin": true,
           "gridcolor": "white",
           "linecolor": "white",
           "ticks": "",
           "title": {
            "standoff": 15
           },
           "zerolinecolor": "white",
           "zerolinewidth": 2
          },
          "yaxis": {
           "automargin": true,
           "gridcolor": "white",
           "linecolor": "white",
           "ticks": "",
           "title": {
            "standoff": 15
           },
           "zerolinecolor": "white",
           "zerolinewidth": 2
          }
         }
        },
        "title": {
         "text": "Candlestick Chart"
        },
        "xaxis": {
         "rangeslider": {
          "visible": false
         },
         "title": {
          "text": "Time"
         }
        },
        "yaxis": {
         "title": {
          "text": "Price"
         }
        }
       }
      }
     },
     "metadata": {},
     "output_type": "display_data"
    }
   ],
   "source": [
    "add_chart_to_figure(\n",
    "    fig,\n",
    "    go.Scatter(\n",
    "        x=df.index,  # Use the index of the DataFrame as the x-axis\n",
    "        y=df[\"close\"].rolling(20).mean(),  # Compute the rolling mean for the y-axis\n",
    "        mode=\"lines\",\n",
    "        name=\"SMA20\",\n",
    "        marker={\"color\": \"green\", \"size\": 20},\n",
    "    ),\n",
    ")"
   ]
  }
 ],
 "metadata": {
  "kernelspec": {
   "display_name": ".venv",
   "language": "python",
   "name": "python3"
  },
  "language_info": {
   "codemirror_mode": {
    "name": "ipython",
    "version": 3
   },
   "file_extension": ".py",
   "mimetype": "text/x-python",
   "name": "python",
   "nbconvert_exporter": "python",
   "pygments_lexer": "ipython3",
   "version": "3.13.0"
  }
 },
 "nbformat": 4,
 "nbformat_minor": 5
}
