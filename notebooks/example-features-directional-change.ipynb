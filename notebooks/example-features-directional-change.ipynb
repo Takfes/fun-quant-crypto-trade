{
 "cells": [
  {
   "cell_type": "code",
   "execution_count": 1,
   "id": "7d9df896",
   "metadata": {},
   "outputs": [],
   "source": [
    "import pandas as pd\n",
    "import plotly.graph_objects as go\n",
    "\n",
    "from pytrade.features.structure import DirectionalChangeTransformer, directional_change_transformer_func\n",
    "from pytrade.loaders import fetch_crypto_ohlcv_data\n",
    "from pytrade.plotting import add_chart_to_figure, create_base_candlestick_chart"
   ]
  },
  {
   "cell_type": "code",
   "execution_count": 2,
   "id": "600ab292",
   "metadata": {},
   "outputs": [],
   "source": [
    "dfc = fetch_crypto_ohlcv_data(symbol=\"BTC/USDT\", timeframe=\"1d\", lookback_period=\"3m\")"
   ]
  },
  {
   "cell_type": "code",
   "execution_count": 8,
   "id": "ab7f5d0a",
   "metadata": {},
   "outputs": [],
   "source": [
    "df = dfc.copy()"
   ]
  },
  {
   "cell_type": "code",
   "execution_count": 9,
   "id": "f56b0898",
   "metadata": {},
   "outputs": [],
   "source": [
    "sigma = 0.03"
   ]
  },
  {
   "cell_type": "code",
   "execution_count": 10,
   "id": "286db35c",
   "metadata": {},
   "outputs": [],
   "source": [
    "df1 = directional_change_transformer_func(df, sigma=sigma)"
   ]
  },
  {
   "cell_type": "code",
   "execution_count": 12,
   "id": "99fca3e2",
   "metadata": {},
   "outputs": [],
   "source": [
    "dft = DirectionalChangeTransformer(sigma=sigma)\n",
    "df2 = dft.fit_transform(df)"
   ]
  },
  {
   "cell_type": "code",
   "execution_count": 13,
   "id": "00a45a01",
   "metadata": {},
   "outputs": [
    {
     "data": {
      "text/plain": [
       "True"
      ]
     },
     "execution_count": 13,
     "metadata": {},
     "output_type": "execute_result"
    }
   ],
   "source": [
    "df1.equals(df2)"
   ]
  },
  {
   "cell_type": "code",
   "execution_count": 14,
   "id": "87f32c6b",
   "metadata": {},
   "outputs": [
    {
     "data": {
      "text/html": [
       "<div>\n",
       "<style scoped>\n",
       "    .dataframe tbody tr th:only-of-type {\n",
       "        vertical-align: middle;\n",
       "    }\n",
       "\n",
       "    .dataframe tbody tr th {\n",
       "        vertical-align: top;\n",
       "    }\n",
       "\n",
       "    .dataframe thead th {\n",
       "        text-align: right;\n",
       "    }\n",
       "</style>\n",
       "<table border=\"1\" class=\"dataframe\">\n",
       "  <thead>\n",
       "    <tr style=\"text-align: right;\">\n",
       "      <th></th>\n",
       "      <th>symbol</th>\n",
       "      <th>open</th>\n",
       "      <th>high</th>\n",
       "      <th>low</th>\n",
       "      <th>close</th>\n",
       "      <th>volume</th>\n",
       "      <th>directional_change_tops</th>\n",
       "      <th>directional_change_bottoms</th>\n",
       "    </tr>\n",
       "    <tr>\n",
       "      <th>timestamp</th>\n",
       "      <th></th>\n",
       "      <th></th>\n",
       "      <th></th>\n",
       "      <th></th>\n",
       "      <th></th>\n",
       "      <th></th>\n",
       "      <th></th>\n",
       "      <th></th>\n",
       "    </tr>\n",
       "  </thead>\n",
       "  <tbody>\n",
       "    <tr>\n",
       "      <th>2025-02-14</th>\n",
       "      <td>BTC/USDT</td>\n",
       "      <td>96608.13</td>\n",
       "      <td>98826.00</td>\n",
       "      <td>96252.82</td>\n",
       "      <td>97500.48</td>\n",
       "      <td>18173.02646</td>\n",
       "      <td>98826.0</td>\n",
       "      <td>NaN</td>\n",
       "    </tr>\n",
       "    <tr>\n",
       "      <th>2025-02-15</th>\n",
       "      <td>BTC/USDT</td>\n",
       "      <td>97500.47</td>\n",
       "      <td>97972.26</td>\n",
       "      <td>97223.58</td>\n",
       "      <td>97569.66</td>\n",
       "      <td>7349.37683</td>\n",
       "      <td>NaN</td>\n",
       "      <td>NaN</td>\n",
       "    </tr>\n",
       "    <tr>\n",
       "      <th>2025-02-16</th>\n",
       "      <td>BTC/USDT</td>\n",
       "      <td>97569.67</td>\n",
       "      <td>97704.47</td>\n",
       "      <td>96046.18</td>\n",
       "      <td>96118.12</td>\n",
       "      <td>8191.42490</td>\n",
       "      <td>NaN</td>\n",
       "      <td>NaN</td>\n",
       "    </tr>\n",
       "  </tbody>\n",
       "</table>\n",
       "</div>"
      ],
      "text/plain": [
       "              symbol      open      high       low     close       volume  \\\n",
       "timestamp                                                                   \n",
       "2025-02-14  BTC/USDT  96608.13  98826.00  96252.82  97500.48  18173.02646   \n",
       "2025-02-15  BTC/USDT  97500.47  97972.26  97223.58  97569.66   7349.37683   \n",
       "2025-02-16  BTC/USDT  97569.67  97704.47  96046.18  96118.12   8191.42490   \n",
       "\n",
       "           directional_change_tops directional_change_bottoms  \n",
       "timestamp                                                      \n",
       "2025-02-14                 98826.0                        NaN  \n",
       "2025-02-15                     NaN                        NaN  \n",
       "2025-02-16                     NaN                        NaN  "
      ]
     },
     "execution_count": 14,
     "metadata": {},
     "output_type": "execute_result"
    }
   ],
   "source": [
    "df1.head(3)"
   ]
  },
  {
   "cell_type": "code",
   "execution_count": 15,
   "id": "651bdf18",
   "metadata": {},
   "outputs": [],
   "source": [
    "fig = create_base_candlestick_chart(df)\n",
    "\n",
    "fig = add_chart_to_figure(\n",
    "    fig,\n",
    "    go.Scatter(\n",
    "        x=df1.index,\n",
    "        y=df1[\"directional_change_bottoms\"],\n",
    "        mode=\"markers\",\n",
    "        marker={\"color\": \"red\", \"size\": 10},\n",
    "        name=\"Bottoms\",\n",
    "    ),\n",
    ")\n",
    "\n",
    "fig = add_chart_to_figure(\n",
    "    fig,\n",
    "    go.Scatter(\n",
    "        x=df1.index,\n",
    "        y=df1[\"directional_change_tops\"],\n",
    "        mode=\"markers\",\n",
    "        marker={\"color\": \"green\", \"size\": 10},\n",
    "        name=\"Tops\",\n",
    "    ),\n",
    ")"
   ]
  },
  {
   "cell_type": "code",
   "execution_count": 16,
   "id": "086d3cee",
   "metadata": {},
   "outputs": [
    {
     "data": {
      "application/vnd.plotly.v1+json": {
       "config": {
        "plotlyServerURL": "https://plot.ly"
       },
       "data": [
        {
         "close": {
          "bdata": "4XoUrsfN90D2KFyPGtL3QLgehethd/dAAAAAAEBi90BxPQrXe1v3QLgehetFmPdAAAAAABAA+EDhehSuX3v3QI/C9ShwkvdAAAAAACCA90BI4XoUDlr2QGZmZmaGpvVACtejcKGR9EB7FK5HSa70QKRwPQrfl/RArkfheggD9UAAAAAA4AP3QClcj8LJDPVA4XoUrh9P9UCPwvUo4B72QNejcD2+9PVAAAAAABwx9UAzMzMz5wz1QLgehevltfNAKVyPwj0w80BxPQrXTz/0QLgehesBbvRArkfherzN80AzMzMz84D0QKRwPQonl/RArkfheugo9ECuR+F6oIL0QK5H4XqwMfRApHA9Ct8z9UDXo3A99o/0QD0K16OMh/RACtejcAl49EAAAAAAKAT1QPYoXI+iXPVAuB6F6w1W9UCF61G40jf1QI/C9SgATPVASOF6FIac9EA9CtejiC30QHE9CtdfHfRAj8L1KGAn9EAK16NwZcr0QD0K16NEJfRACtejcNFQ9EC4HoXrHXv0QHE9CtcfZfRAAAAAAOAl80BxPQrXs1PzQIXrUbgmovJAUrgehXMr9EDNzMzMdG/zQArXo3D9XfRAZmZmZs7R9EAAAAAAAHP0QHsUrkf5pvRAcT0K179r9EBI4XoU5oP0QPYoXI8+vfRApHA9Cquf9ECPwvUoUMX0QHE9Ctezy/RA4XoUrsNd9UBxPQrXL9D2QHsUrkex3/ZAUrgehcfx9kAUrkfh6hr3QAAAAABAGvdAzczMzFTj9kAUrkfhMjL3QOxRuB4NA/dAAAAAAMD99kD2KFyPno73QNejcD1yp/dAhetRuAZn90C4HoXrWQT3QBSuR+HaIPdAH4XrUSCk90AAAAAAaLD3QJqZmZnZNflAcT0K178j+UCuR+F6mJb5QAAAAABga/lA7FG4HnUY+UBSuB6Fe2r5QOxRuB49RflAexSuR/3s+EA=",
          "dtype": "f8"
         },
         "high": {
          "bdata": "AAAAAKAg+ECPwvUoROv3QFK4HoWH2vdACtejcGmx90D2KFyPHp/3QHE9Ctc/qPdAKVyPwnUZ+EAAAAAAMEn4QAAAAABArfdAAAAAAKCY90AAAAAAQI/3QKRwPQrLl/ZAZmZmZmLU9UDD9ShcZ0L1QAAAAAAAyPRAAAAAAOAh9UAAAAAAgDH3QMP1KFwHDfdAH4XrUXi49UAAAAAAgDf2QNejcD2qqPZAH4XrUTBJ9kAAAAAAFDf1QAAAAABAHvVAw/UoXLeJ9EBmZmZmFmr0QJqZmZm9o/RAexSuRwWX9EDD9Shc29P0QK5H4XpErPRAPQrXo9DH9EB7FK5HTbH0QHE9Ctdbg/RAAAAAAIA99UCF61G42ln1QHsUrkclt/RAhetRuLKj9EDXo3A9Ggf1QBSuR+HWq/VASOF6FLqd9UAAAAAAMI31QNejcD3GbPVAhetRuLpd9UDhehSuC6n0QNejcD3qZPRAexSuR3F+9EDD9Shct+T0QAAAAABAm/VAH4XrUeCB9EAAAAAAAK/0QAAAAACgkvRASOF6FJp29EB7FK5HudXzQHE9Ctc/vvNAAAAAAEBo9EDD9ShcEzT0QAAAAADAlPRAAAAAABD59EAAAAAAQAX1QHE9Ctd/8vRAhetRuAYe9UAAAAAAwN/0QI/C9Sjg3fRAexSuR8HI9EBxPQrX3+r0QI/C9SiM1PRAcT0K1x+Z9UAAAAAAAOz2QM3MzMyAHvdAAAAAAFDz9kA9Ctej4GD3QAAAAADwPfdAAAAAAJBI90AAAAAA4Fj3QK5H4XpYTvdAMzMzM8c/90AfhetRAMn3QBSuR+F65vdAhetRuHqq90DhehSuB4P3QAAAAADwPfdAZmZmZoqp90AAAAAAQNz3QI/C9SgcbflAzczMzJR6+UDsUbgeiaH5QAAAAADAoPlAMzMzM7fV+UAAAAAABKH5QDMzMzNPevlAj8L1KKhb+UA=",
          "dtype": "f8"
         },
         "low": {
          "bdata": "7FG4Hs1/90B7FK5Hebz3QBSuR+HicvdAAAAAAFA+90AK16Nwwcz2QHE9CtdfM/dACtejcPGJ90AzMzMzfyn3QHE9CtenYfdApHA9Cr8/90CPwvUoVE32QHE9CtcvAvVAj8L1KAAV9EBxPQrXxzH0QB+F61EoG/NArkfhegx39ECamZmZqcP0QClcj8LRx/RAAAAAAMDl80CuR+F66BP1QAAAAADAcfVArkfherCr9EBSuB6FJ870QAAAAAAAiPNA9ihcjz7p8kAAAAAA4LPyQGZmZmb6rfNAZmZmZj6E80AK16NwLbvzQAAAAAAgavRAuB6F69ED9EAAAAAAgCH0QPYoXI/qzvNA9ihcjzIn9EDhehSuc2z0QAAAAAB0TvRAmpmZmZFq9EAAAAAAHHb0QArXo3Dx4PRAAAAAAGAS9UAAAAAAQPb0QAAAAACA8vRAAAAAABBo9EBcj8L1zO7zQAAAAADQ6fNAH4XrUejX80BxPQrXCyD0QAAAAAAAGfRAcT0K17PT80AAAAAAsO/zQDMzMzO/HPRAexSuRx3W8kAAAAAAwDDyQGZmZmb+nPJAAAAAAMA38kApXI/CBSjzQHsUrkeZR/NAMzMzM4829EDhehSuo0X0QAAAAADgbfRAAAAAAABp9EDXo3A9ekr0QI/C9SiEcfRAw/UoXP+U9EAzMzMzx5j0QB+F61HYfvRAj8L1KIzJ9ECuR+F6QEL1QPYoXI/2cfZAj8L1KMBg9kDD9Shcf6v2QKRwPQrr6vZAexSuRyna9kCPwvUoAKj2QD0K16Po4vZAAAAAAOCu9kAUrkfhJvv2QAAAAADghfdAj8L1KJBg90BI4XoUdvz2QJqZmZmh1PZAAAAAABDM9kApXI/CiWL3QD0K16PEpvdA16NwPbL6+ECPwvUoLBr5QFyPwvUQO/lAuB6F6+WW+EAzMzMzW8P4QM3MzMygDPlAAAAAAEDs+EA=",
          "dtype": "f8"
         },
         "name": "Candlesticks",
         "open": {
          "bdata": "SOF6FAKW90BSuB6Fx833QIXrUbga0vdAuB6F62F390CPwvUoQGL3QHE9Ctd7W/dAuB6F60WY90CPwvUoEAD4QHE9Ctdfe/dAj8L1KHCS90AAAAAAIID3QEjhehQOWvZA16NwPYam9UAK16NwoZH0QOxRuB5JrvRAMzMzM9+X9EA9CtejCAP1QHE9CtffA/dA9ihcj9IM9UDhehSuH0/1QAAAAADgHvZASOF6FL709UBxPQrXGzH1QMP1KFznDPVA4XoUrue180ApXI/CPTDzQHE9CtdPP/RAuB6F6wFu9ECuR+F6vM3zQKRwPQrzgPRApHA9CieX9EAfhetR6Cj0QB+F61GggvRArkfherAx9EAUrkfh3jP1QEjhehT2j/RAPQrXo4yH9EAK16NwCXj0QAAAAAAoBPVA9ihcj6Jc9UBI4XoUDlb1QIXrUbjSN/VAj8L1KABM9UBI4XoUhpz0QK5H4XqILfRAAAAAAGAd9EAAAAAAYCf0QJqZmZllyvRArkfhekQl9EAK16Nw0VD0QLgehesde/RAcT0K1x9l9EAAAAAA4CXzQHE9CtezU/NAhetRuCai8kBSuB6Fcyv0QM3MzMx0b/NAexSuR/1d9ED2KFyPztH0QAAAAAAAc/RAexSuR/mm9EBxPQrXv2v0QEjhehTmg/RAhetRuD699EAzMzMzq5/0QAAAAABQxfRAcT0K17PL9EBSuB6Fw131QHE9Ctcv0PZA7FG4HrHf9kBSuB6Fx/H2QBSuR+HqGvdAAAAAAEAa90A9CtejVOP2QBSuR+EyMvdA7FG4Hg0D90AAAAAAwP32QGZmZmaejvdASOF6FHKn90CF61G4Bmf3QClcj8JZBPdAFK5H4dog90AfhetRIKT3QAAAAABosPdAKVyPwtk1+UBxPQrXvyP5QK5H4XqYlvlAAAAAAGBr+UDsUbgedRj5QFK4HoV7avlAexSuRz1F+UA=",
          "dtype": "f8"
         },
         "type": "candlestick",
         "x": [
          "2025-02-14T00:00:00.000000000",
          "2025-02-15T00:00:00.000000000",
          "2025-02-16T00:00:00.000000000",
          "2025-02-17T00:00:00.000000000",
          "2025-02-18T00:00:00.000000000",
          "2025-02-19T00:00:00.000000000",
          "2025-02-20T00:00:00.000000000",
          "2025-02-21T00:00:00.000000000",
          "2025-02-22T00:00:00.000000000",
          "2025-02-23T00:00:00.000000000",
          "2025-02-24T00:00:00.000000000",
          "2025-02-25T00:00:00.000000000",
          "2025-02-26T00:00:00.000000000",
          "2025-02-27T00:00:00.000000000",
          "2025-02-28T00:00:00.000000000",
          "2025-03-01T00:00:00.000000000",
          "2025-03-02T00:00:00.000000000",
          "2025-03-03T00:00:00.000000000",
          "2025-03-04T00:00:00.000000000",
          "2025-03-05T00:00:00.000000000",
          "2025-03-06T00:00:00.000000000",
          "2025-03-07T00:00:00.000000000",
          "2025-03-08T00:00:00.000000000",
          "2025-03-09T00:00:00.000000000",
          "2025-03-10T00:00:00.000000000",
          "2025-03-11T00:00:00.000000000",
          "2025-03-12T00:00:00.000000000",
          "2025-03-13T00:00:00.000000000",
          "2025-03-14T00:00:00.000000000",
          "2025-03-15T00:00:00.000000000",
          "2025-03-16T00:00:00.000000000",
          "2025-03-17T00:00:00.000000000",
          "2025-03-18T00:00:00.000000000",
          "2025-03-19T00:00:00.000000000",
          "2025-03-20T00:00:00.000000000",
          "2025-03-21T00:00:00.000000000",
          "2025-03-22T00:00:00.000000000",
          "2025-03-23T00:00:00.000000000",
          "2025-03-24T00:00:00.000000000",
          "2025-03-25T00:00:00.000000000",
          "2025-03-26T00:00:00.000000000",
          "2025-03-27T00:00:00.000000000",
          "2025-03-28T00:00:00.000000000",
          "2025-03-29T00:00:00.000000000",
          "2025-03-30T00:00:00.000000000",
          "2025-03-31T00:00:00.000000000",
          "2025-04-01T00:00:00.000000000",
          "2025-04-02T00:00:00.000000000",
          "2025-04-03T00:00:00.000000000",
          "2025-04-04T00:00:00.000000000",
          "2025-04-05T00:00:00.000000000",
          "2025-04-06T00:00:00.000000000",
          "2025-04-07T00:00:00.000000000",
          "2025-04-08T00:00:00.000000000",
          "2025-04-09T00:00:00.000000000",
          "2025-04-10T00:00:00.000000000",
          "2025-04-11T00:00:00.000000000",
          "2025-04-12T00:00:00.000000000",
          "2025-04-13T00:00:00.000000000",
          "2025-04-14T00:00:00.000000000",
          "2025-04-15T00:00:00.000000000",
          "2025-04-16T00:00:00.000000000",
          "2025-04-17T00:00:00.000000000",
          "2025-04-18T00:00:00.000000000",
          "2025-04-19T00:00:00.000000000",
          "2025-04-20T00:00:00.000000000",
          "2025-04-21T00:00:00.000000000",
          "2025-04-22T00:00:00.000000000",
          "2025-04-23T00:00:00.000000000",
          "2025-04-24T00:00:00.000000000",
          "2025-04-25T00:00:00.000000000",
          "2025-04-26T00:00:00.000000000",
          "2025-04-27T00:00:00.000000000",
          "2025-04-28T00:00:00.000000000",
          "2025-04-29T00:00:00.000000000",
          "2025-04-30T00:00:00.000000000",
          "2025-05-01T00:00:00.000000000",
          "2025-05-02T00:00:00.000000000",
          "2025-05-03T00:00:00.000000000",
          "2025-05-04T00:00:00.000000000",
          "2025-05-05T00:00:00.000000000",
          "2025-05-06T00:00:00.000000000",
          "2025-05-07T00:00:00.000000000",
          "2025-05-08T00:00:00.000000000",
          "2025-05-09T00:00:00.000000000",
          "2025-05-10T00:00:00.000000000",
          "2025-05-11T00:00:00.000000000",
          "2025-05-12T00:00:00.000000000",
          "2025-05-13T00:00:00.000000000",
          "2025-05-14T00:00:00.000000000",
          "2025-05-15T00:00:00.000000000"
         ]
        },
        {
         "marker": {
          "color": "red",
          "size": 10
         },
         "mode": "markers",
         "name": "Bottoms",
         "type": "scatter",
         "x": [
          "2025-02-14T00:00:00.000000000",
          "2025-02-15T00:00:00.000000000",
          "2025-02-16T00:00:00.000000000",
          "2025-02-17T00:00:00.000000000",
          "2025-02-18T00:00:00.000000000",
          "2025-02-19T00:00:00.000000000",
          "2025-02-20T00:00:00.000000000",
          "2025-02-21T00:00:00.000000000",
          "2025-02-22T00:00:00.000000000",
          "2025-02-23T00:00:00.000000000",
          "2025-02-24T00:00:00.000000000",
          "2025-02-25T00:00:00.000000000",
          "2025-02-26T00:00:00.000000000",
          "2025-02-27T00:00:00.000000000",
          "2025-02-28T00:00:00.000000000",
          "2025-03-01T00:00:00.000000000",
          "2025-03-02T00:00:00.000000000",
          "2025-03-03T00:00:00.000000000",
          "2025-03-04T00:00:00.000000000",
          "2025-03-05T00:00:00.000000000",
          "2025-03-06T00:00:00.000000000",
          "2025-03-07T00:00:00.000000000",
          "2025-03-08T00:00:00.000000000",
          "2025-03-09T00:00:00.000000000",
          "2025-03-10T00:00:00.000000000",
          "2025-03-11T00:00:00.000000000",
          "2025-03-12T00:00:00.000000000",
          "2025-03-13T00:00:00.000000000",
          "2025-03-14T00:00:00.000000000",
          "2025-03-15T00:00:00.000000000",
          "2025-03-16T00:00:00.000000000",
          "2025-03-17T00:00:00.000000000",
          "2025-03-18T00:00:00.000000000",
          "2025-03-19T00:00:00.000000000",
          "2025-03-20T00:00:00.000000000",
          "2025-03-21T00:00:00.000000000",
          "2025-03-22T00:00:00.000000000",
          "2025-03-23T00:00:00.000000000",
          "2025-03-24T00:00:00.000000000",
          "2025-03-25T00:00:00.000000000",
          "2025-03-26T00:00:00.000000000",
          "2025-03-27T00:00:00.000000000",
          "2025-03-28T00:00:00.000000000",
          "2025-03-29T00:00:00.000000000",
          "2025-03-30T00:00:00.000000000",
          "2025-03-31T00:00:00.000000000",
          "2025-04-01T00:00:00.000000000",
          "2025-04-02T00:00:00.000000000",
          "2025-04-03T00:00:00.000000000",
          "2025-04-04T00:00:00.000000000",
          "2025-04-05T00:00:00.000000000",
          "2025-04-06T00:00:00.000000000",
          "2025-04-07T00:00:00.000000000",
          "2025-04-08T00:00:00.000000000",
          "2025-04-09T00:00:00.000000000",
          "2025-04-10T00:00:00.000000000",
          "2025-04-11T00:00:00.000000000",
          "2025-04-12T00:00:00.000000000",
          "2025-04-13T00:00:00.000000000",
          "2025-04-14T00:00:00.000000000",
          "2025-04-15T00:00:00.000000000",
          "2025-04-16T00:00:00.000000000",
          "2025-04-17T00:00:00.000000000",
          "2025-04-18T00:00:00.000000000",
          "2025-04-19T00:00:00.000000000",
          "2025-04-20T00:00:00.000000000",
          "2025-04-21T00:00:00.000000000",
          "2025-04-22T00:00:00.000000000",
          "2025-04-23T00:00:00.000000000",
          "2025-04-24T00:00:00.000000000",
          "2025-04-25T00:00:00.000000000",
          "2025-04-26T00:00:00.000000000",
          "2025-04-27T00:00:00.000000000",
          "2025-04-28T00:00:00.000000000",
          "2025-04-29T00:00:00.000000000",
          "2025-04-30T00:00:00.000000000",
          "2025-05-01T00:00:00.000000000",
          "2025-05-02T00:00:00.000000000",
          "2025-05-03T00:00:00.000000000",
          "2025-05-04T00:00:00.000000000",
          "2025-05-05T00:00:00.000000000",
          "2025-05-06T00:00:00.000000000",
          "2025-05-07T00:00:00.000000000",
          "2025-05-08T00:00:00.000000000",
          "2025-05-09T00:00:00.000000000",
          "2025-05-10T00:00:00.000000000",
          "2025-05-11T00:00:00.000000000",
          "2025-05-12T00:00:00.000000000",
          "2025-05-13T00:00:00.000000000",
          "2025-05-14T00:00:00.000000000",
          "2025-05-15T00:00:00.000000000"
         ],
         "y": [
          null,
          null,
          null,
          null,
          93388.09,
          null,
          null,
          null,
          null,
          null,
          null,
          null,
          null,
          null,
          78258.52,
          null,
          null,
          null,
          81500,
          null,
          null,
          null,
          null,
          null,
          null,
          76606,
          null,
          79939.9,
          null,
          null,
          null,
          null,
          81134.66,
          null,
          null,
          83175.25,
          null,
          null,
          null,
          null,
          null,
          null,
          null,
          null,
          null,
          81278.52,
          null,
          null,
          81211.24,
          null,
          null,
          null,
          74508,
          null,
          null,
          78464.36,
          null,
          null,
          null,
          null,
          null,
          null,
          null,
          null,
          null,
          null,
          null,
          null,
          null,
          null,
          null,
          null,
          null,
          null,
          null,
          null,
          null,
          null,
          null,
          null,
          null,
          93377,
          null,
          null,
          null,
          null,
          null,
          null,
          null,
          null,
          null
         ]
        },
        {
         "marker": {
          "color": "green",
          "size": 10
         },
         "mode": "markers",
         "name": "Tops",
         "type": "scatter",
         "x": [
          "2025-02-14T00:00:00.000000000",
          "2025-02-15T00:00:00.000000000",
          "2025-02-16T00:00:00.000000000",
          "2025-02-17T00:00:00.000000000",
          "2025-02-18T00:00:00.000000000",
          "2025-02-19T00:00:00.000000000",
          "2025-02-20T00:00:00.000000000",
          "2025-02-21T00:00:00.000000000",
          "2025-02-22T00:00:00.000000000",
          "2025-02-23T00:00:00.000000000",
          "2025-02-24T00:00:00.000000000",
          "2025-02-25T00:00:00.000000000",
          "2025-02-26T00:00:00.000000000",
          "2025-02-27T00:00:00.000000000",
          "2025-02-28T00:00:00.000000000",
          "2025-03-01T00:00:00.000000000",
          "2025-03-02T00:00:00.000000000",
          "2025-03-03T00:00:00.000000000",
          "2025-03-04T00:00:00.000000000",
          "2025-03-05T00:00:00.000000000",
          "2025-03-06T00:00:00.000000000",
          "2025-03-07T00:00:00.000000000",
          "2025-03-08T00:00:00.000000000",
          "2025-03-09T00:00:00.000000000",
          "2025-03-10T00:00:00.000000000",
          "2025-03-11T00:00:00.000000000",
          "2025-03-12T00:00:00.000000000",
          "2025-03-13T00:00:00.000000000",
          "2025-03-14T00:00:00.000000000",
          "2025-03-15T00:00:00.000000000",
          "2025-03-16T00:00:00.000000000",
          "2025-03-17T00:00:00.000000000",
          "2025-03-18T00:00:00.000000000",
          "2025-03-19T00:00:00.000000000",
          "2025-03-20T00:00:00.000000000",
          "2025-03-21T00:00:00.000000000",
          "2025-03-22T00:00:00.000000000",
          "2025-03-23T00:00:00.000000000",
          "2025-03-24T00:00:00.000000000",
          "2025-03-25T00:00:00.000000000",
          "2025-03-26T00:00:00.000000000",
          "2025-03-27T00:00:00.000000000",
          "2025-03-28T00:00:00.000000000",
          "2025-03-29T00:00:00.000000000",
          "2025-03-30T00:00:00.000000000",
          "2025-03-31T00:00:00.000000000",
          "2025-04-01T00:00:00.000000000",
          "2025-04-02T00:00:00.000000000",
          "2025-04-03T00:00:00.000000000",
          "2025-04-04T00:00:00.000000000",
          "2025-04-05T00:00:00.000000000",
          "2025-04-06T00:00:00.000000000",
          "2025-04-07T00:00:00.000000000",
          "2025-04-08T00:00:00.000000000",
          "2025-04-09T00:00:00.000000000",
          "2025-04-10T00:00:00.000000000",
          "2025-04-11T00:00:00.000000000",
          "2025-04-12T00:00:00.000000000",
          "2025-04-13T00:00:00.000000000",
          "2025-04-14T00:00:00.000000000",
          "2025-04-15T00:00:00.000000000",
          "2025-04-16T00:00:00.000000000",
          "2025-04-17T00:00:00.000000000",
          "2025-04-18T00:00:00.000000000",
          "2025-04-19T00:00:00.000000000",
          "2025-04-20T00:00:00.000000000",
          "2025-04-21T00:00:00.000000000",
          "2025-04-22T00:00:00.000000000",
          "2025-04-23T00:00:00.000000000",
          "2025-04-24T00:00:00.000000000",
          "2025-04-25T00:00:00.000000000",
          "2025-04-26T00:00:00.000000000",
          "2025-04-27T00:00:00.000000000",
          "2025-04-28T00:00:00.000000000",
          "2025-04-29T00:00:00.000000000",
          "2025-04-30T00:00:00.000000000",
          "2025-05-01T00:00:00.000000000",
          "2025-05-02T00:00:00.000000000",
          "2025-05-03T00:00:00.000000000",
          "2025-05-04T00:00:00.000000000",
          "2025-05-05T00:00:00.000000000",
          "2025-05-06T00:00:00.000000000",
          "2025-05-07T00:00:00.000000000",
          "2025-05-08T00:00:00.000000000",
          "2025-05-09T00:00:00.000000000",
          "2025-05-10T00:00:00.000000000",
          "2025-05-11T00:00:00.000000000",
          "2025-05-12T00:00:00.000000000",
          "2025-05-13T00:00:00.000000000",
          "2025-05-14T00:00:00.000000000",
          "2025-05-15T00:00:00.000000000"
         ],
         "y": [
          98826,
          null,
          null,
          null,
          null,
          null,
          null,
          99475,
          null,
          null,
          null,
          null,
          null,
          null,
          null,
          null,
          95000,
          null,
          null,
          null,
          92810.64,
          null,
          null,
          null,
          null,
          null,
          84539.85,
          null,
          85309.71,
          null,
          null,
          null,
          null,
          null,
          87453.67,
          null,
          null,
          null,
          88765.43,
          null,
          null,
          null,
          null,
          null,
          null,
          null,
          null,
          88500,
          null,
          84720,
          null,
          null,
          null,
          null,
          83588,
          null,
          null,
          null,
          null,
          null,
          null,
          null,
          null,
          null,
          null,
          null,
          null,
          null,
          null,
          null,
          null,
          null,
          null,
          null,
          null,
          null,
          null,
          97895.68,
          null,
          null,
          null,
          null,
          null,
          null,
          null,
          null,
          null,
          105819.45,
          null,
          null,
          null
         ]
        }
       ],
       "layout": {
        "template": {
         "data": {
          "bar": [
           {
            "error_x": {
             "color": "#2a3f5f"
            },
            "error_y": {
             "color": "#2a3f5f"
            },
            "marker": {
             "line": {
              "color": "#E5ECF6",
              "width": 0.5
             },
             "pattern": {
              "fillmode": "overlay",
              "size": 10,
              "solidity": 0.2
             }
            },
            "type": "bar"
           }
          ],
          "barpolar": [
           {
            "marker": {
             "line": {
              "color": "#E5ECF6",
              "width": 0.5
             },
             "pattern": {
              "fillmode": "overlay",
              "size": 10,
              "solidity": 0.2
             }
            },
            "type": "barpolar"
           }
          ],
          "carpet": [
           {
            "aaxis": {
             "endlinecolor": "#2a3f5f",
             "gridcolor": "white",
             "linecolor": "white",
             "minorgridcolor": "white",
             "startlinecolor": "#2a3f5f"
            },
            "baxis": {
             "endlinecolor": "#2a3f5f",
             "gridcolor": "white",
             "linecolor": "white",
             "minorgridcolor": "white",
             "startlinecolor": "#2a3f5f"
            },
            "type": "carpet"
           }
          ],
          "choropleth": [
           {
            "colorbar": {
             "outlinewidth": 0,
             "ticks": ""
            },
            "type": "choropleth"
           }
          ],
          "contour": [
           {
            "colorbar": {
             "outlinewidth": 0,
             "ticks": ""
            },
            "colorscale": [
             [
              0,
              "#0d0887"
             ],
             [
              0.1111111111111111,
              "#46039f"
             ],
             [
              0.2222222222222222,
              "#7201a8"
             ],
             [
              0.3333333333333333,
              "#9c179e"
             ],
             [
              0.4444444444444444,
              "#bd3786"
             ],
             [
              0.5555555555555556,
              "#d8576b"
             ],
             [
              0.6666666666666666,
              "#ed7953"
             ],
             [
              0.7777777777777778,
              "#fb9f3a"
             ],
             [
              0.8888888888888888,
              "#fdca26"
             ],
             [
              1,
              "#f0f921"
             ]
            ],
            "type": "contour"
           }
          ],
          "contourcarpet": [
           {
            "colorbar": {
             "outlinewidth": 0,
             "ticks": ""
            },
            "type": "contourcarpet"
           }
          ],
          "heatmap": [
           {
            "colorbar": {
             "outlinewidth": 0,
             "ticks": ""
            },
            "colorscale": [
             [
              0,
              "#0d0887"
             ],
             [
              0.1111111111111111,
              "#46039f"
             ],
             [
              0.2222222222222222,
              "#7201a8"
             ],
             [
              0.3333333333333333,
              "#9c179e"
             ],
             [
              0.4444444444444444,
              "#bd3786"
             ],
             [
              0.5555555555555556,
              "#d8576b"
             ],
             [
              0.6666666666666666,
              "#ed7953"
             ],
             [
              0.7777777777777778,
              "#fb9f3a"
             ],
             [
              0.8888888888888888,
              "#fdca26"
             ],
             [
              1,
              "#f0f921"
             ]
            ],
            "type": "heatmap"
           }
          ],
          "histogram": [
           {
            "marker": {
             "pattern": {
              "fillmode": "overlay",
              "size": 10,
              "solidity": 0.2
             }
            },
            "type": "histogram"
           }
          ],
          "histogram2d": [
           {
            "colorbar": {
             "outlinewidth": 0,
             "ticks": ""
            },
            "colorscale": [
             [
              0,
              "#0d0887"
             ],
             [
              0.1111111111111111,
              "#46039f"
             ],
             [
              0.2222222222222222,
              "#7201a8"
             ],
             [
              0.3333333333333333,
              "#9c179e"
             ],
             [
              0.4444444444444444,
              "#bd3786"
             ],
             [
              0.5555555555555556,
              "#d8576b"
             ],
             [
              0.6666666666666666,
              "#ed7953"
             ],
             [
              0.7777777777777778,
              "#fb9f3a"
             ],
             [
              0.8888888888888888,
              "#fdca26"
             ],
             [
              1,
              "#f0f921"
             ]
            ],
            "type": "histogram2d"
           }
          ],
          "histogram2dcontour": [
           {
            "colorbar": {
             "outlinewidth": 0,
             "ticks": ""
            },
            "colorscale": [
             [
              0,
              "#0d0887"
             ],
             [
              0.1111111111111111,
              "#46039f"
             ],
             [
              0.2222222222222222,
              "#7201a8"
             ],
             [
              0.3333333333333333,
              "#9c179e"
             ],
             [
              0.4444444444444444,
              "#bd3786"
             ],
             [
              0.5555555555555556,
              "#d8576b"
             ],
             [
              0.6666666666666666,
              "#ed7953"
             ],
             [
              0.7777777777777778,
              "#fb9f3a"
             ],
             [
              0.8888888888888888,
              "#fdca26"
             ],
             [
              1,
              "#f0f921"
             ]
            ],
            "type": "histogram2dcontour"
           }
          ],
          "mesh3d": [
           {
            "colorbar": {
             "outlinewidth": 0,
             "ticks": ""
            },
            "type": "mesh3d"
           }
          ],
          "parcoords": [
           {
            "line": {
             "colorbar": {
              "outlinewidth": 0,
              "ticks": ""
             }
            },
            "type": "parcoords"
           }
          ],
          "pie": [
           {
            "automargin": true,
            "type": "pie"
           }
          ],
          "scatter": [
           {
            "fillpattern": {
             "fillmode": "overlay",
             "size": 10,
             "solidity": 0.2
            },
            "type": "scatter"
           }
          ],
          "scatter3d": [
           {
            "line": {
             "colorbar": {
              "outlinewidth": 0,
              "ticks": ""
             }
            },
            "marker": {
             "colorbar": {
              "outlinewidth": 0,
              "ticks": ""
             }
            },
            "type": "scatter3d"
           }
          ],
          "scattercarpet": [
           {
            "marker": {
             "colorbar": {
              "outlinewidth": 0,
              "ticks": ""
             }
            },
            "type": "scattercarpet"
           }
          ],
          "scattergeo": [
           {
            "marker": {
             "colorbar": {
              "outlinewidth": 0,
              "ticks": ""
             }
            },
            "type": "scattergeo"
           }
          ],
          "scattergl": [
           {
            "marker": {
             "colorbar": {
              "outlinewidth": 0,
              "ticks": ""
             }
            },
            "type": "scattergl"
           }
          ],
          "scattermap": [
           {
            "marker": {
             "colorbar": {
              "outlinewidth": 0,
              "ticks": ""
             }
            },
            "type": "scattermap"
           }
          ],
          "scattermapbox": [
           {
            "marker": {
             "colorbar": {
              "outlinewidth": 0,
              "ticks": ""
             }
            },
            "type": "scattermapbox"
           }
          ],
          "scatterpolar": [
           {
            "marker": {
             "colorbar": {
              "outlinewidth": 0,
              "ticks": ""
             }
            },
            "type": "scatterpolar"
           }
          ],
          "scatterpolargl": [
           {
            "marker": {
             "colorbar": {
              "outlinewidth": 0,
              "ticks": ""
             }
            },
            "type": "scatterpolargl"
           }
          ],
          "scatterternary": [
           {
            "marker": {
             "colorbar": {
              "outlinewidth": 0,
              "ticks": ""
             }
            },
            "type": "scatterternary"
           }
          ],
          "surface": [
           {
            "colorbar": {
             "outlinewidth": 0,
             "ticks": ""
            },
            "colorscale": [
             [
              0,
              "#0d0887"
             ],
             [
              0.1111111111111111,
              "#46039f"
             ],
             [
              0.2222222222222222,
              "#7201a8"
             ],
             [
              0.3333333333333333,
              "#9c179e"
             ],
             [
              0.4444444444444444,
              "#bd3786"
             ],
             [
              0.5555555555555556,
              "#d8576b"
             ],
             [
              0.6666666666666666,
              "#ed7953"
             ],
             [
              0.7777777777777778,
              "#fb9f3a"
             ],
             [
              0.8888888888888888,
              "#fdca26"
             ],
             [
              1,
              "#f0f921"
             ]
            ],
            "type": "surface"
           }
          ],
          "table": [
           {
            "cells": {
             "fill": {
              "color": "#EBF0F8"
             },
             "line": {
              "color": "white"
             }
            },
            "header": {
             "fill": {
              "color": "#C8D4E3"
             },
             "line": {
              "color": "white"
             }
            },
            "type": "table"
           }
          ]
         },
         "layout": {
          "annotationdefaults": {
           "arrowcolor": "#2a3f5f",
           "arrowhead": 0,
           "arrowwidth": 1
          },
          "autotypenumbers": "strict",
          "coloraxis": {
           "colorbar": {
            "outlinewidth": 0,
            "ticks": ""
           }
          },
          "colorscale": {
           "diverging": [
            [
             0,
             "#8e0152"
            ],
            [
             0.1,
             "#c51b7d"
            ],
            [
             0.2,
             "#de77ae"
            ],
            [
             0.3,
             "#f1b6da"
            ],
            [
             0.4,
             "#fde0ef"
            ],
            [
             0.5,
             "#f7f7f7"
            ],
            [
             0.6,
             "#e6f5d0"
            ],
            [
             0.7,
             "#b8e186"
            ],
            [
             0.8,
             "#7fbc41"
            ],
            [
             0.9,
             "#4d9221"
            ],
            [
             1,
             "#276419"
            ]
           ],
           "sequential": [
            [
             0,
             "#0d0887"
            ],
            [
             0.1111111111111111,
             "#46039f"
            ],
            [
             0.2222222222222222,
             "#7201a8"
            ],
            [
             0.3333333333333333,
             "#9c179e"
            ],
            [
             0.4444444444444444,
             "#bd3786"
            ],
            [
             0.5555555555555556,
             "#d8576b"
            ],
            [
             0.6666666666666666,
             "#ed7953"
            ],
            [
             0.7777777777777778,
             "#fb9f3a"
            ],
            [
             0.8888888888888888,
             "#fdca26"
            ],
            [
             1,
             "#f0f921"
            ]
           ],
           "sequentialminus": [
            [
             0,
             "#0d0887"
            ],
            [
             0.1111111111111111,
             "#46039f"
            ],
            [
             0.2222222222222222,
             "#7201a8"
            ],
            [
             0.3333333333333333,
             "#9c179e"
            ],
            [
             0.4444444444444444,
             "#bd3786"
            ],
            [
             0.5555555555555556,
             "#d8576b"
            ],
            [
             0.6666666666666666,
             "#ed7953"
            ],
            [
             0.7777777777777778,
             "#fb9f3a"
            ],
            [
             0.8888888888888888,
             "#fdca26"
            ],
            [
             1,
             "#f0f921"
            ]
           ]
          },
          "colorway": [
           "#636efa",
           "#EF553B",
           "#00cc96",
           "#ab63fa",
           "#FFA15A",
           "#19d3f3",
           "#FF6692",
           "#B6E880",
           "#FF97FF",
           "#FECB52"
          ],
          "font": {
           "color": "#2a3f5f"
          },
          "geo": {
           "bgcolor": "white",
           "lakecolor": "white",
           "landcolor": "#E5ECF6",
           "showlakes": true,
           "showland": true,
           "subunitcolor": "white"
          },
          "hoverlabel": {
           "align": "left"
          },
          "hovermode": "closest",
          "mapbox": {
           "style": "light"
          },
          "paper_bgcolor": "white",
          "plot_bgcolor": "#E5ECF6",
          "polar": {
           "angularaxis": {
            "gridcolor": "white",
            "linecolor": "white",
            "ticks": ""
           },
           "bgcolor": "#E5ECF6",
           "radialaxis": {
            "gridcolor": "white",
            "linecolor": "white",
            "ticks": ""
           }
          },
          "scene": {
           "xaxis": {
            "backgroundcolor": "#E5ECF6",
            "gridcolor": "white",
            "gridwidth": 2,
            "linecolor": "white",
            "showbackground": true,
            "ticks": "",
            "zerolinecolor": "white"
           },
           "yaxis": {
            "backgroundcolor": "#E5ECF6",
            "gridcolor": "white",
            "gridwidth": 2,
            "linecolor": "white",
            "showbackground": true,
            "ticks": "",
            "zerolinecolor": "white"
           },
           "zaxis": {
            "backgroundcolor": "#E5ECF6",
            "gridcolor": "white",
            "gridwidth": 2,
            "linecolor": "white",
            "showbackground": true,
            "ticks": "",
            "zerolinecolor": "white"
           }
          },
          "shapedefaults": {
           "line": {
            "color": "#2a3f5f"
           }
          },
          "ternary": {
           "aaxis": {
            "gridcolor": "white",
            "linecolor": "white",
            "ticks": ""
           },
           "baxis": {
            "gridcolor": "white",
            "linecolor": "white",
            "ticks": ""
           },
           "bgcolor": "#E5ECF6",
           "caxis": {
            "gridcolor": "white",
            "linecolor": "white",
            "ticks": ""
           }
          },
          "title": {
           "x": 0.05
          },
          "xaxis": {
           "automargin": true,
           "gridcolor": "white",
           "linecolor": "white",
           "ticks": "",
           "title": {
            "standoff": 15
           },
           "zerolinecolor": "white",
           "zerolinewidth": 2
          },
          "yaxis": {
           "automargin": true,
           "gridcolor": "white",
           "linecolor": "white",
           "ticks": "",
           "title": {
            "standoff": 15
           },
           "zerolinecolor": "white",
           "zerolinewidth": 2
          }
         }
        },
        "title": {
         "text": "Candlestick Chart"
        },
        "xaxis": {
         "rangeslider": {
          "visible": false
         },
         "title": {
          "text": "Time"
         }
        },
        "yaxis": {
         "title": {
          "text": "Price"
         }
        }
       }
      }
     },
     "metadata": {},
     "output_type": "display_data"
    }
   ],
   "source": [
    "fig.show()"
   ]
  }
 ],
 "metadata": {
  "kernelspec": {
   "display_name": ".venv",
   "language": "python",
   "name": "python3"
  },
  "language_info": {
   "codemirror_mode": {
    "name": "ipython",
    "version": 3
   },
   "file_extension": ".py",
   "mimetype": "text/x-python",
   "name": "python",
   "nbconvert_exporter": "python",
   "pygments_lexer": "ipython3",
   "version": "3.13.0"
  }
 },
 "nbformat": 4,
 "nbformat_minor": 5
}
