{
 "cells": [
  {
   "cell_type": "code",
   "execution_count": 1,
   "id": "7d9df896",
   "metadata": {},
   "outputs": [],
   "source": [
    "import pandas as pd\n",
    "\n",
    "from pytrade.labels import (\n",
    "    ATRThresholdTargetTransformer,\n",
    "    FixedHorizonTargetTransformer,\n",
    "    TradeOutcomeTargetTransformer,\n",
    "    atr_threshold_labeler_func,\n",
    "    fixed_horizon_labeler_func,\n",
    "    trade_outcome_labeler_func,\n",
    ")\n",
    "from pytrade.loaders import fetch_crypto_ohlcv_data"
   ]
  },
  {
   "cell_type": "code",
   "execution_count": 2,
   "id": "600ab292",
   "metadata": {},
   "outputs": [],
   "source": [
    "dfc = fetch_crypto_ohlcv_data(symbol=\"BTC/USDT\", timeframe=\"1d\", lookback_period=\"3m\")"
   ]
  },
  {
   "cell_type": "code",
   "execution_count": 3,
   "id": "6822764e",
   "metadata": {},
   "outputs": [],
   "source": [
    "df = dfc.copy()"
   ]
  },
  {
   "cell_type": "markdown",
   "id": "d043faf9",
   "metadata": {},
   "source": [
    "### fixed_horizon_labeler_func & FixedHorizonTargetTransformer"
   ]
  },
  {
   "cell_type": "code",
   "execution_count": 4,
   "id": "2f94f38c",
   "metadata": {},
   "outputs": [],
   "source": [
    "horizon = 5\n",
    "up_threshold = 0.1\n",
    "down_threshold = -0.05\n",
    "y = df[\"close\"]"
   ]
  },
  {
   "cell_type": "code",
   "execution_count": 5,
   "id": "ae2fe4b8",
   "metadata": {},
   "outputs": [],
   "source": [
    "y11 = fixed_horizon_labeler_func(y, horizon=horizon, up_threshold=up_threshold, down_threshold=down_threshold)"
   ]
  },
  {
   "cell_type": "code",
   "execution_count": 6,
   "id": "05a006ad",
   "metadata": {},
   "outputs": [],
   "source": [
    "tt1 = FixedHorizonTargetTransformer(\n",
    "    horizon=horizon,\n",
    "    up_threshold=up_threshold,\n",
    "    down_threshold=down_threshold,\n",
    ")"
   ]
  },
  {
   "cell_type": "code",
   "execution_count": 7,
   "id": "59498020",
   "metadata": {},
   "outputs": [
    {
     "data": {
      "text/plain": [
       "True"
      ]
     },
     "execution_count": 7,
     "metadata": {},
     "output_type": "execute_result"
    }
   ],
   "source": [
    "y12 = tt1.fit_transform(y)\n",
    "y11.equals(y12)"
   ]
  },
  {
   "cell_type": "code",
   "execution_count": 8,
   "id": "b660e7ac",
   "metadata": {},
   "outputs": [
    {
     "name": "stdout",
     "output_type": "stream",
     "text": [
      "type(y11)=<class 'pandas.core.series.Series'> type(y12)=<class 'pandas.core.series.Series'>\n"
     ]
    }
   ],
   "source": [
    "print(f\"{type(y11)=}\", f\"{type(y12)=}\")"
   ]
  },
  {
   "cell_type": "markdown",
   "id": "e3e9b3ee",
   "metadata": {},
   "source": [
    "### trade_outcome_labeler_func & TradeOutcomeTargetTransformer"
   ]
  },
  {
   "cell_type": "code",
   "execution_count": 9,
   "id": "f9c27ca4",
   "metadata": {},
   "outputs": [],
   "source": [
    "horizon = 5\n",
    "tp = 0.1\n",
    "sl = -0.05\n",
    "y = df[\"close\"]"
   ]
  },
  {
   "cell_type": "code",
   "execution_count": 10,
   "id": "1c4c53ea",
   "metadata": {},
   "outputs": [],
   "source": [
    "y21 = trade_outcome_labeler_func(y, horizon=horizon, tp=tp, sl=sl)"
   ]
  },
  {
   "cell_type": "code",
   "execution_count": 11,
   "id": "7623bb54",
   "metadata": {},
   "outputs": [],
   "source": [
    "tt2 = TradeOutcomeTargetTransformer(\n",
    "    horizon=horizon,\n",
    "    tp=tp,\n",
    "    sl=sl,\n",
    ")"
   ]
  },
  {
   "cell_type": "code",
   "execution_count": 12,
   "id": "9c023107",
   "metadata": {},
   "outputs": [
    {
     "data": {
      "text/plain": [
       "True"
      ]
     },
     "execution_count": 12,
     "metadata": {},
     "output_type": "execute_result"
    }
   ],
   "source": [
    "y22 = tt2.fit_transform(y)\n",
    "y21.equals(y22)"
   ]
  },
  {
   "cell_type": "code",
   "execution_count": 13,
   "id": "8731c930",
   "metadata": {},
   "outputs": [
    {
     "name": "stdout",
     "output_type": "stream",
     "text": [
      "type(y21)=<class 'pandas.core.series.Series'> type(y22)=<class 'pandas.core.series.Series'>\n"
     ]
    }
   ],
   "source": [
    "print(f\"{type(y21)=}\", f\"{type(y22)=}\")"
   ]
  },
  {
   "cell_type": "markdown",
   "id": "1d409c34",
   "metadata": {},
   "source": [
    "### atr_threshold_labeler_func & ATRThresholdTargetTransformer"
   ]
  },
  {
   "cell_type": "code",
   "execution_count": 14,
   "id": "1a0942da",
   "metadata": {},
   "outputs": [],
   "source": [
    "horizon = 5\n",
    "atr_period = 24\n",
    "atr_mult_long = 2.0\n",
    "atr_mult_short = 2.0\n",
    "y = df[\"close\"]\n",
    "X = df.drop(columns=[\"close\"])"
   ]
  },
  {
   "cell_type": "code",
   "execution_count": 15,
   "id": "1fdc8ba9",
   "metadata": {},
   "outputs": [],
   "source": [
    "y31 = atr_threshold_labeler_func(\n",
    "    df, horizon=horizon, atr_period=atr_period, atr_mult_long=atr_mult_long, atr_mult_short=atr_mult_short\n",
    ")"
   ]
  },
  {
   "cell_type": "code",
   "execution_count": null,
   "id": "67500109",
   "metadata": {},
   "outputs": [],
   "source": [
    "tt3 = ATRThresholdTargetTransformer(\n",
    "    horizon=horizon, atr_period=atr_period, atr_mult_long=atr_mult_long, atr_mult_short=atr_mult_short\n",
    ")"
   ]
  },
  {
   "cell_type": "code",
   "execution_count": 17,
   "id": "34fa1c00",
   "metadata": {},
   "outputs": [
    {
     "data": {
      "text/plain": [
       "True"
      ]
     },
     "execution_count": 17,
     "metadata": {},
     "output_type": "execute_result"
    }
   ],
   "source": [
    "y32 = tt3.fit_transform(X, y)\n",
    "y31.equals(y32)"
   ]
  },
  {
   "cell_type": "code",
   "execution_count": 18,
   "id": "fcb7f2a7",
   "metadata": {},
   "outputs": [
    {
     "name": "stdout",
     "output_type": "stream",
     "text": [
      "type(y31)=<class 'pandas.core.series.Series'> type(y32)=<class 'pandas.core.series.Series'>\n"
     ]
    }
   ],
   "source": [
    "print(f\"{type(y31)=}\", f\"{type(y32)=}\")"
   ]
  }
 ],
 "metadata": {
  "kernelspec": {
   "display_name": ".venv",
   "language": "python",
   "name": "python3"
  },
  "language_info": {
   "codemirror_mode": {
    "name": "ipython",
    "version": 3
   },
   "file_extension": ".py",
   "mimetype": "text/x-python",
   "name": "python",
   "nbconvert_exporter": "python",
   "pygments_lexer": "ipython3",
   "version": "3.13.0"
  }
 },
 "nbformat": 4,
 "nbformat_minor": 5
}
