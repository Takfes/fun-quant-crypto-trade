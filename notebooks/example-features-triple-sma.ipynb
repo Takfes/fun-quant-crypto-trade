{
  "cells": [
    {
      "cell_type": "code",
      "execution_count": null,
      "id": "7d9df896",
      "metadata": {},
      "outputs": [],
      "source": [
        "import pandas as pd\n",
        "\n",
        "from pytrade.features.trends import TripleSMATransformer, triple_sma_transformer_func\n",
        "from pytrade.loaders import fetch_crypto_ohlcv_data"
      ]
    },
    {
      "cell_type": "code",
      "execution_count": 2,
      "id": "600ab292",
      "metadata": {},
      "outputs": [],
      "source": [
        "dfc = fetch_crypto_ohlcv_data(symbol=\"BTC/USDT\", timeframe=\"1d\", lookback_period=\"3m\")\n",
        "\n",
        "df = dfc.copy()"
      ]
    },
    {
      "cell_type": "code",
      "execution_count": 4,
      "id": "0a2240e0",
      "metadata": {},
      "outputs": [],
      "source": [
        "fast_period = 10\n",
        "medium_period = 30\n",
        "slow_period = 100"
      ]
    },
    {
      "cell_type": "code",
      "execution_count": null,
      "id": "286db35c",
      "metadata": {},
      "outputs": [],
      "source": [
        "dff = triple_sma_transformer_func(\n",
        "    df,\n",
        "    column=\"close\",\n",
        "    fast_period=fast_period,\n",
        "    medium_period=medium_period,\n",
        "    slow_period=slow_period,\n",
        ")"
      ]
    },
    {
      "cell_type": "code",
      "execution_count": 6,
      "id": "0e4fa74c",
      "metadata": {},
      "outputs": [],
      "source": [
        "smatransofmer = TripleSMATransformer(\n",
        "    column=\"close\",\n",
        "    fast_period=fast_period,\n",
        "    medium_period=medium_period,\n",
        "    slow_period=slow_period,\n",
        ")\n",
        "dft = smatransofmer.fit_transform(df)"
      ]
    },
    {
      "cell_type": "code",
      "execution_count": 7,
      "id": "95b07df7",
      "metadata": {},
      "outputs": [
        {
          "data": {
            "text/plain": [
              "True"
            ]
          },
          "execution_count": 7,
          "metadata": {},
          "output_type": "execute_result"
        }
      ],
      "source": [
        "dff.equals(dft)"
      ]
    }
  ],
  "metadata": {
    "kernelspec": {
      "display_name": ".venv",
      "language": "python",
      "name": "python3"
    },
    "language_info": {
      "codemirror_mode": {
        "name": "ipython",
        "version": 3
      },
      "file_extension": ".py",
      "mimetype": "text/x-python",
      "name": "python",
      "nbconvert_exporter": "python",
      "pygments_lexer": "ipython3",
      "version": "3.13.0"
    }
  },
  "nbformat": 4,
  "nbformat_minor": 5
}
