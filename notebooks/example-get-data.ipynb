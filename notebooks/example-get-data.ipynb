{
  "cells": [
    {
      "cell_type": "code",
      "execution_count": null,
      "id": "f4ef4561",
      "metadata": {},
      "outputs": [],
      "source": [
        "from pytrade.loaders import fetch_crypto_ohlcv_data, fetch_stock_ohlcv_data"
      ]
    },
    {
      "cell_type": "code",
      "execution_count": null,
      "id": "12aa06b7",
      "metadata": {},
      "outputs": [],
      "source": [
        "# Fetch daily OHLCV data for Apple Inc. from January 1, 2025, to January 10, 2025\n",
        "df = fetch_stock_ohlcv_data(symbol=\"AAPL\", timeframe=\"1d\", from_date=\"2025-01-01\", to_date=\"2025-01-10\")\n",
        "print(df.head())"
      ]
    },
    {
      "cell_type": "code",
      "execution_count": null,
      "id": "492f76e3",
      "metadata": {},
      "outputs": [],
      "source": [
        "# Fetch hourly OHLCV data for Tesla Inc. for the past 7 days\n",
        "df = fetch_stock_ohlcv_data(symbol=\"TSLA\", timeframe=\"1h\", lookback_period=\"7d\")\n",
        "print(df.tail())"
      ]
    },
    {
      "cell_type": "code",
      "execution_count": null,
      "id": "d8b565c2",
      "metadata": {},
      "outputs": [],
      "source": [
        "# Fetch the maximum available weekly OHLCV data for Microsoft Corporation\n",
        "df = fetch_stock_ohlcv_data(symbol=\"AEGN.AT\", timeframe=\"1wk\")\n",
        "print(df.tail())"
      ]
    },
    {
      "cell_type": "code",
      "execution_count": null,
      "id": "539641e0",
      "metadata": {},
      "outputs": [],
      "source": [
        "# Fetch daily OHLCV data for BTC/USDT from January 1, 2025, to January 10, 2025\n",
        "df = fetch_crypto_ohlcv_data(symbol=\"LTC/USDT\", timeframe=\"1d\", from_date=\"2025-01-01\", to_date=\"2025-01-10\")\n",
        "print(df.head())"
      ]
    },
    {
      "cell_type": "code",
      "execution_count": null,
      "id": "d42ec3b5",
      "metadata": {},
      "outputs": [],
      "source": [
        "# Fetch 15-minute OHLCV data for ETH/USDT for the past 3 days\n",
        "df = fetch_crypto_ohlcv_data(symbol=\"ETH/USDT\", timeframe=\"15m\", lookback_period=\"3d\")\n",
        "print(df.tail())"
      ]
    },
    {
      "cell_type": "code",
      "execution_count": null,
      "id": "a3e3edb2",
      "metadata": {},
      "outputs": [],
      "source": [
        "# Fetch the maximum available hourly OHLCV data for LTC/USDT\n",
        "df = fetch_crypto_ohlcv_data(symbol=\"BTC/USDT\", timeframe=\"4h\")\n",
        "print(df.head())"
      ]
    }
  ],
  "metadata": {
    "language_info": {
      "name": "python"
    }
  },
  "nbformat": 4,
  "nbformat_minor": 5
}
